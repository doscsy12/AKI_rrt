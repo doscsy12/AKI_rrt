{
 "cells": [
  {
   "cell_type": "markdown",
   "id": "e2112851",
   "metadata": {},
   "source": [
    "# AKI - early/delayed renal treatment"
   ]
  },
  {
   "cell_type": "markdown",
   "id": "05c6d137",
   "metadata": {},
   "source": [
    "**Predicting AKI patients in ICU who receive delayed dialysis (>8h).**"
   ]
  },
  {
   "cell_type": "markdown",
   "id": "f4956ec4",
   "metadata": {},
   "source": [
    "*import libraries*"
   ]
  },
  {
   "cell_type": "code",
   "execution_count": 1,
   "id": "7f71dc11",
   "metadata": {},
   "outputs": [],
   "source": [
    "import pandas as pd\n",
    "import numpy as np\n",
    "import seaborn as sns\n",
    "import matplotlib.pyplot as plt\n",
    "\n",
    "from scipy import stats\n",
    "from pandas_profiling import ProfileReport\n",
    "%matplotlib inline"
   ]
  },
  {
   "cell_type": "code",
   "execution_count": 2,
   "id": "1ce3f594",
   "metadata": {},
   "outputs": [],
   "source": [
    "# import data\n",
    "aki_data = pd.read_csv('aki_icu.csv')"
   ]
  },
  {
   "cell_type": "code",
   "execution_count": 3,
   "id": "fa18851a",
   "metadata": {},
   "outputs": [
    {
     "name": "stdout",
     "output_type": "stream",
     "text": [
      "<class 'pandas.core.frame.DataFrame'>\n",
      "RangeIndex: 2110 entries, 0 to 2109\n",
      "Columns: 198 entries, subject_id to gcs_unable\n",
      "dtypes: float64(170), int64(16), object(12)\n",
      "memory usage: 3.2+ MB\n"
     ]
    }
   ],
   "source": [
    "aki_data.info()"
   ]
  },
  {
   "cell_type": "code",
   "execution_count": 4,
   "id": "b648ce0b",
   "metadata": {},
   "outputs": [
    {
     "name": "stderr",
     "output_type": "stream",
     "text": [
      "<ipython-input-4-11ac1132c921>:4: FutureWarning: The default value of regex will change from True to False in a future version.\n",
      "  aki_data.columns = aki_data.columns.str.replace(' |/','_')\n"
     ]
    },
    {
     "data": {
      "text/plain": [
       "Index(['subject_id', 'hadm_id', 'stay_id', 'weight', 'weight_min',\n",
       "       'weight_max', 'charttime_aki', 'creat_low_past_7day',\n",
       "       'creat_low_past_48hr', 'creat',\n",
       "       ...\n",
       "       'spo2_mean', 'glucose_min.2', 'glucose_max.2', 'glucose_mean',\n",
       "       'urineoutput', 'gcs_min', 'gcs_motor', 'gcs_verbal', 'gcs_eyes',\n",
       "       'gcs_unable'],\n",
       "      dtype='object', length=198)"
      ]
     },
     "execution_count": 4,
     "metadata": {},
     "output_type": "execute_result"
    }
   ],
   "source": [
    "# rename columns, if necessary\n",
    "# changing all column names to lower case, and remove special characters and spacing.\n",
    "aki_data.columns = aki_data.columns.str.lower()\n",
    "aki_data.columns = aki_data.columns.str.replace(' |/','_')\n",
    "aki_data.columns"
   ]
  },
  {
   "cell_type": "code",
   "execution_count": 5,
   "id": "bf10f890",
   "metadata": {},
   "outputs": [
    {
     "data": {
      "text/html": [
       "<div>\n",
       "<style scoped>\n",
       "    .dataframe tbody tr th:only-of-type {\n",
       "        vertical-align: middle;\n",
       "    }\n",
       "\n",
       "    .dataframe tbody tr th {\n",
       "        vertical-align: top;\n",
       "    }\n",
       "\n",
       "    .dataframe thead th {\n",
       "        text-align: right;\n",
       "    }\n",
       "</style>\n",
       "<table border=\"1\" class=\"dataframe\">\n",
       "  <thead>\n",
       "    <tr style=\"text-align: right;\">\n",
       "      <th></th>\n",
       "      <th>subject_id</th>\n",
       "      <th>hadm_id</th>\n",
       "      <th>stay_id</th>\n",
       "      <th>weight</th>\n",
       "      <th>weight_min</th>\n",
       "      <th>weight_max</th>\n",
       "      <th>charttime_aki</th>\n",
       "      <th>creat_low_past_7day</th>\n",
       "      <th>creat_low_past_48hr</th>\n",
       "      <th>creat</th>\n",
       "      <th>aki_stage_creat</th>\n",
       "      <th>uo_rt_6hr</th>\n",
       "      <th>uo_rt_12hr</th>\n",
       "      <th>uo_rt_24hr</th>\n",
       "      <th>aki_stage_uo</th>\n",
       "      <th>aki_stage</th>\n",
       "      <th>kigoord</th>\n",
       "      <th>new_event_flag</th>\n",
       "      <th>kigoord_flag</th>\n",
       "      <th>charttime_rrt</th>\n",
       "      <th>dialysis_present</th>\n",
       "      <th>dialysis_active</th>\n",
       "      <th>dialysis_type</th>\n",
       "      <th>rrtorder</th>\n",
       "      <th>delay_rrt</th>\n",
       "      <th>gender</th>\n",
       "      <th>dod</th>\n",
       "      <th>admittime</th>\n",
       "      <th>dischtime</th>\n",
       "      <th>los_hospital</th>\n",
       "      <th>admission_age</th>\n",
       "      <th>ethnicity</th>\n",
       "      <th>hospital_expire_flag</th>\n",
       "      <th>hospstay_seq</th>\n",
       "      <th>first_hosp_stay</th>\n",
       "      <th>icu_intime</th>\n",
       "      <th>icu_outtime</th>\n",
       "      <th>los_icu</th>\n",
       "      <th>icustay_seq</th>\n",
       "      <th>first_icu_stay</th>\n",
       "      <th>lactate_min</th>\n",
       "      <th>lactate_max</th>\n",
       "      <th>ph_min</th>\n",
       "      <th>ph_max</th>\n",
       "      <th>so2_min</th>\n",
       "      <th>so2_max</th>\n",
       "      <th>po2_min</th>\n",
       "      <th>po2_max</th>\n",
       "      <th>pco2_min</th>\n",
       "      <th>pco2_max</th>\n",
       "      <th>...</th>\n",
       "      <th>alp_min</th>\n",
       "      <th>alp_max</th>\n",
       "      <th>ast_min</th>\n",
       "      <th>ast_max</th>\n",
       "      <th>amylase_min</th>\n",
       "      <th>amylase_max</th>\n",
       "      <th>bilirubin_total_min</th>\n",
       "      <th>bilirubin_total_max</th>\n",
       "      <th>bilirubin_direct_min</th>\n",
       "      <th>bilirubin_direct_max</th>\n",
       "      <th>bilirubin_indirect_min</th>\n",
       "      <th>bilirubin_indirect_max</th>\n",
       "      <th>ck_cpk_min</th>\n",
       "      <th>ck_cpk_max</th>\n",
       "      <th>ck_mb_min</th>\n",
       "      <th>ck_mb_max</th>\n",
       "      <th>ggt_min</th>\n",
       "      <th>ggt_max</th>\n",
       "      <th>ld_ldh_min</th>\n",
       "      <th>ld_ldh_max</th>\n",
       "      <th>heart_rate_min</th>\n",
       "      <th>heart_rate_max</th>\n",
       "      <th>heart_rate_mean</th>\n",
       "      <th>sbp_min</th>\n",
       "      <th>sbp_max</th>\n",
       "      <th>sbp_mean</th>\n",
       "      <th>dbp_min</th>\n",
       "      <th>dbp_max</th>\n",
       "      <th>dbp_mean</th>\n",
       "      <th>mbp_min</th>\n",
       "      <th>mbp_max</th>\n",
       "      <th>mbp_mean</th>\n",
       "      <th>resp_rate_min</th>\n",
       "      <th>resp_rate_max</th>\n",
       "      <th>resp_rate_mean</th>\n",
       "      <th>temperature_min.1</th>\n",
       "      <th>temperature_max.1</th>\n",
       "      <th>temperature_mean</th>\n",
       "      <th>spo2_min</th>\n",
       "      <th>spo2_max</th>\n",
       "      <th>spo2_mean</th>\n",
       "      <th>glucose_min.2</th>\n",
       "      <th>glucose_max.2</th>\n",
       "      <th>glucose_mean</th>\n",
       "      <th>urineoutput</th>\n",
       "      <th>gcs_min</th>\n",
       "      <th>gcs_motor</th>\n",
       "      <th>gcs_verbal</th>\n",
       "      <th>gcs_eyes</th>\n",
       "      <th>gcs_unable</th>\n",
       "    </tr>\n",
       "  </thead>\n",
       "  <tbody>\n",
       "    <tr>\n",
       "      <th>0</th>\n",
       "      <td>19518348</td>\n",
       "      <td>24328934</td>\n",
       "      <td>30041848</td>\n",
       "      <td>104.50</td>\n",
       "      <td>102.0</td>\n",
       "      <td>107.0</td>\n",
       "      <td>07-04-26 4:00</td>\n",
       "      <td>NaN</td>\n",
       "      <td>NaN</td>\n",
       "      <td>NaN</td>\n",
       "      <td>NaN</td>\n",
       "      <td>0.4657</td>\n",
       "      <td>0.6891</td>\n",
       "      <td>0.6891</td>\n",
       "      <td>1.0</td>\n",
       "      <td>1</td>\n",
       "      <td>8</td>\n",
       "      <td>1</td>\n",
       "      <td>1</td>\n",
       "      <td>16-04-26 14:25</td>\n",
       "      <td>1</td>\n",
       "      <td>1</td>\n",
       "      <td>IHD</td>\n",
       "      <td>1</td>\n",
       "      <td>1</td>\n",
       "      <td>M</td>\n",
       "      <td>24-04-26</td>\n",
       "      <td>06-04-26 17:21</td>\n",
       "      <td>24-04-26 9:00</td>\n",
       "      <td>17.652083</td>\n",
       "      <td>66.262081</td>\n",
       "      <td>UNKNOWN</td>\n",
       "      <td>1</td>\n",
       "      <td>1</td>\n",
       "      <td>t</td>\n",
       "      <td>06-04-26 17:22</td>\n",
       "      <td>24-04-26 13:11</td>\n",
       "      <td>17.83</td>\n",
       "      <td>1</td>\n",
       "      <td>t</td>\n",
       "      <td>1.3</td>\n",
       "      <td>1.3</td>\n",
       "      <td>7.41</td>\n",
       "      <td>7.42</td>\n",
       "      <td>98.0</td>\n",
       "      <td>98.0</td>\n",
       "      <td>90.0</td>\n",
       "      <td>147.0</td>\n",
       "      <td>39.0</td>\n",
       "      <td>40.0</td>\n",
       "      <td>...</td>\n",
       "      <td>61.0</td>\n",
       "      <td>61.0</td>\n",
       "      <td>44.0</td>\n",
       "      <td>44.0</td>\n",
       "      <td>NaN</td>\n",
       "      <td>NaN</td>\n",
       "      <td>0.3</td>\n",
       "      <td>0.3</td>\n",
       "      <td>NaN</td>\n",
       "      <td>NaN</td>\n",
       "      <td>NaN</td>\n",
       "      <td>NaN</td>\n",
       "      <td>484.0</td>\n",
       "      <td>644.0</td>\n",
       "      <td>15.0</td>\n",
       "      <td>23.0</td>\n",
       "      <td>NaN</td>\n",
       "      <td>NaN</td>\n",
       "      <td>485.0</td>\n",
       "      <td>485.0</td>\n",
       "      <td>66.0</td>\n",
       "      <td>138.0</td>\n",
       "      <td>89.625000</td>\n",
       "      <td>95.0</td>\n",
       "      <td>152.0</td>\n",
       "      <td>132.500000</td>\n",
       "      <td>48.0</td>\n",
       "      <td>91.0</td>\n",
       "      <td>68.5000</td>\n",
       "      <td>59.0</td>\n",
       "      <td>98.0</td>\n",
       "      <td>83.090909</td>\n",
       "      <td>18.0</td>\n",
       "      <td>27.0</td>\n",
       "      <td>21.673077</td>\n",
       "      <td>36.83</td>\n",
       "      <td>38.11</td>\n",
       "      <td>37.405000</td>\n",
       "      <td>93.0</td>\n",
       "      <td>99.0</td>\n",
       "      <td>96.909091</td>\n",
       "      <td>172.0</td>\n",
       "      <td>321.0</td>\n",
       "      <td>257.500000</td>\n",
       "      <td>2895.0</td>\n",
       "      <td>10</td>\n",
       "      <td>5.0</td>\n",
       "      <td>1.0</td>\n",
       "      <td>4.0</td>\n",
       "      <td>0</td>\n",
       "    </tr>\n",
       "    <tr>\n",
       "      <th>1</th>\n",
       "      <td>18070922</td>\n",
       "      <td>27400972</td>\n",
       "      <td>30078723</td>\n",
       "      <td>100.00</td>\n",
       "      <td>100.0</td>\n",
       "      <td>100.0</td>\n",
       "      <td>30-06-47 8:00</td>\n",
       "      <td>NaN</td>\n",
       "      <td>NaN</td>\n",
       "      <td>NaN</td>\n",
       "      <td>NaN</td>\n",
       "      <td>0.4334</td>\n",
       "      <td>0.6007</td>\n",
       "      <td>0.9219</td>\n",
       "      <td>1.0</td>\n",
       "      <td>1</td>\n",
       "      <td>32</td>\n",
       "      <td>1</td>\n",
       "      <td>1</td>\n",
       "      <td>05-07-47 19:15</td>\n",
       "      <td>1</td>\n",
       "      <td>1</td>\n",
       "      <td>CRRT</td>\n",
       "      <td>1</td>\n",
       "      <td>1</td>\n",
       "      <td>M</td>\n",
       "      <td>NaN</td>\n",
       "      <td>28-06-47 21:56</td>\n",
       "      <td>30-07-47 14:40</td>\n",
       "      <td>31.697222</td>\n",
       "      <td>70.489938</td>\n",
       "      <td>BLACK/AFRICAN AMERICAN</td>\n",
       "      <td>0</td>\n",
       "      <td>1</td>\n",
       "      <td>t</td>\n",
       "      <td>28-06-47 21:59</td>\n",
       "      <td>30-07-47 15:03</td>\n",
       "      <td>31.71</td>\n",
       "      <td>1</td>\n",
       "      <td>t</td>\n",
       "      <td>1.2</td>\n",
       "      <td>1.2</td>\n",
       "      <td>7.35</td>\n",
       "      <td>7.37</td>\n",
       "      <td>NaN</td>\n",
       "      <td>NaN</td>\n",
       "      <td>99.0</td>\n",
       "      <td>99.0</td>\n",
       "      <td>38.0</td>\n",
       "      <td>40.0</td>\n",
       "      <td>...</td>\n",
       "      <td>36.0</td>\n",
       "      <td>37.0</td>\n",
       "      <td>12.0</td>\n",
       "      <td>13.0</td>\n",
       "      <td>NaN</td>\n",
       "      <td>NaN</td>\n",
       "      <td>0.6</td>\n",
       "      <td>0.6</td>\n",
       "      <td>NaN</td>\n",
       "      <td>NaN</td>\n",
       "      <td>NaN</td>\n",
       "      <td>NaN</td>\n",
       "      <td>NaN</td>\n",
       "      <td>NaN</td>\n",
       "      <td>NaN</td>\n",
       "      <td>NaN</td>\n",
       "      <td>NaN</td>\n",
       "      <td>NaN</td>\n",
       "      <td>NaN</td>\n",
       "      <td>NaN</td>\n",
       "      <td>77.0</td>\n",
       "      <td>96.0</td>\n",
       "      <td>84.208333</td>\n",
       "      <td>95.0</td>\n",
       "      <td>116.0</td>\n",
       "      <td>107.500000</td>\n",
       "      <td>49.0</td>\n",
       "      <td>83.5</td>\n",
       "      <td>56.4600</td>\n",
       "      <td>62.0</td>\n",
       "      <td>157.0</td>\n",
       "      <td>74.019231</td>\n",
       "      <td>12.0</td>\n",
       "      <td>23.0</td>\n",
       "      <td>17.134615</td>\n",
       "      <td>36.72</td>\n",
       "      <td>37.56</td>\n",
       "      <td>36.978000</td>\n",
       "      <td>92.0</td>\n",
       "      <td>99.0</td>\n",
       "      <td>96.680000</td>\n",
       "      <td>106.0</td>\n",
       "      <td>140.0</td>\n",
       "      <td>123.666667</td>\n",
       "      <td>2400.0</td>\n",
       "      <td>3</td>\n",
       "      <td>1.0</td>\n",
       "      <td>1.0</td>\n",
       "      <td>1.0</td>\n",
       "      <td>0</td>\n",
       "    </tr>\n",
       "    <tr>\n",
       "      <th>2</th>\n",
       "      <td>17414351</td>\n",
       "      <td>23018977</td>\n",
       "      <td>30254621</td>\n",
       "      <td>98.95</td>\n",
       "      <td>85.0</td>\n",
       "      <td>103.6</td>\n",
       "      <td>14-09-79 12:12</td>\n",
       "      <td>NaN</td>\n",
       "      <td>NaN</td>\n",
       "      <td>NaN</td>\n",
       "      <td>NaN</td>\n",
       "      <td>0.0000</td>\n",
       "      <td>0.0000</td>\n",
       "      <td>0.0000</td>\n",
       "      <td>3.0</td>\n",
       "      <td>3</td>\n",
       "      <td>4</td>\n",
       "      <td>1</td>\n",
       "      <td>1</td>\n",
       "      <td>14-09-79 12:23</td>\n",
       "      <td>1</td>\n",
       "      <td>1</td>\n",
       "      <td>CRRT</td>\n",
       "      <td>1</td>\n",
       "      <td>0</td>\n",
       "      <td>M</td>\n",
       "      <td>NaN</td>\n",
       "      <td>14-09-79 0:06</td>\n",
       "      <td>03-01-80 18:15</td>\n",
       "      <td>111.756250</td>\n",
       "      <td>37.700917</td>\n",
       "      <td>UNKNOWN</td>\n",
       "      <td>0</td>\n",
       "      <td>1</td>\n",
       "      <td>t</td>\n",
       "      <td>14-09-79 0:07</td>\n",
       "      <td>17-10-79 19:59</td>\n",
       "      <td>33.83</td>\n",
       "      <td>1</td>\n",
       "      <td>t</td>\n",
       "      <td>1.2</td>\n",
       "      <td>2.5</td>\n",
       "      <td>7.34</td>\n",
       "      <td>7.42</td>\n",
       "      <td>93.0</td>\n",
       "      <td>93.0</td>\n",
       "      <td>36.0</td>\n",
       "      <td>85.0</td>\n",
       "      <td>29.0</td>\n",
       "      <td>36.0</td>\n",
       "      <td>...</td>\n",
       "      <td>351.0</td>\n",
       "      <td>351.0</td>\n",
       "      <td>104.0</td>\n",
       "      <td>104.0</td>\n",
       "      <td>NaN</td>\n",
       "      <td>NaN</td>\n",
       "      <td>36.3</td>\n",
       "      <td>36.3</td>\n",
       "      <td>26.7</td>\n",
       "      <td>26.7</td>\n",
       "      <td>NaN</td>\n",
       "      <td>NaN</td>\n",
       "      <td>36.0</td>\n",
       "      <td>36.0</td>\n",
       "      <td>4.0</td>\n",
       "      <td>4.0</td>\n",
       "      <td>NaN</td>\n",
       "      <td>NaN</td>\n",
       "      <td>331.0</td>\n",
       "      <td>331.0</td>\n",
       "      <td>71.0</td>\n",
       "      <td>93.0</td>\n",
       "      <td>80.956522</td>\n",
       "      <td>82.0</td>\n",
       "      <td>118.0</td>\n",
       "      <td>101.958333</td>\n",
       "      <td>36.0</td>\n",
       "      <td>63.0</td>\n",
       "      <td>52.4375</td>\n",
       "      <td>51.0</td>\n",
       "      <td>78.0</td>\n",
       "      <td>67.541667</td>\n",
       "      <td>12.0</td>\n",
       "      <td>36.0</td>\n",
       "      <td>20.000000</td>\n",
       "      <td>35.50</td>\n",
       "      <td>36.70</td>\n",
       "      <td>36.132143</td>\n",
       "      <td>92.0</td>\n",
       "      <td>100.0</td>\n",
       "      <td>95.250000</td>\n",
       "      <td>114.0</td>\n",
       "      <td>228.0</td>\n",
       "      <td>152.625000</td>\n",
       "      <td>10.0</td>\n",
       "      <td>6</td>\n",
       "      <td>4.0</td>\n",
       "      <td>1.0</td>\n",
       "      <td>1.0</td>\n",
       "      <td>0</td>\n",
       "    </tr>\n",
       "    <tr>\n",
       "      <th>3</th>\n",
       "      <td>17555267</td>\n",
       "      <td>21215796</td>\n",
       "      <td>30326472</td>\n",
       "      <td>105.70</td>\n",
       "      <td>104.0</td>\n",
       "      <td>107.4</td>\n",
       "      <td>20-12-28 5:38</td>\n",
       "      <td>NaN</td>\n",
       "      <td>NaN</td>\n",
       "      <td>NaN</td>\n",
       "      <td>NaN</td>\n",
       "      <td>2.7933</td>\n",
       "      <td>2.7933</td>\n",
       "      <td>0.2665</td>\n",
       "      <td>3.0</td>\n",
       "      <td>3</td>\n",
       "      <td>6</td>\n",
       "      <td>1</td>\n",
       "      <td>1</td>\n",
       "      <td>24-12-28 18:20</td>\n",
       "      <td>1</td>\n",
       "      <td>1</td>\n",
       "      <td>CRRT</td>\n",
       "      <td>1</td>\n",
       "      <td>1</td>\n",
       "      <td>F</td>\n",
       "      <td>26-12-28</td>\n",
       "      <td>19-12-28 5:54</td>\n",
       "      <td>26-12-28 0:00</td>\n",
       "      <td>6.754167</td>\n",
       "      <td>59.967156</td>\n",
       "      <td>WHITE</td>\n",
       "      <td>1</td>\n",
       "      <td>1</td>\n",
       "      <td>t</td>\n",
       "      <td>19-12-28 5:58</td>\n",
       "      <td>27-12-28 0:08</td>\n",
       "      <td>7.76</td>\n",
       "      <td>1</td>\n",
       "      <td>t</td>\n",
       "      <td>NaN</td>\n",
       "      <td>NaN</td>\n",
       "      <td>NaN</td>\n",
       "      <td>NaN</td>\n",
       "      <td>NaN</td>\n",
       "      <td>NaN</td>\n",
       "      <td>NaN</td>\n",
       "      <td>NaN</td>\n",
       "      <td>NaN</td>\n",
       "      <td>NaN</td>\n",
       "      <td>...</td>\n",
       "      <td>133.0</td>\n",
       "      <td>164.0</td>\n",
       "      <td>162.0</td>\n",
       "      <td>189.0</td>\n",
       "      <td>NaN</td>\n",
       "      <td>NaN</td>\n",
       "      <td>3.0</td>\n",
       "      <td>3.3</td>\n",
       "      <td>NaN</td>\n",
       "      <td>NaN</td>\n",
       "      <td>NaN</td>\n",
       "      <td>NaN</td>\n",
       "      <td>1011.0</td>\n",
       "      <td>1131.0</td>\n",
       "      <td>14.0</td>\n",
       "      <td>16.0</td>\n",
       "      <td>NaN</td>\n",
       "      <td>NaN</td>\n",
       "      <td>374.0</td>\n",
       "      <td>378.0</td>\n",
       "      <td>78.0</td>\n",
       "      <td>97.0</td>\n",
       "      <td>87.521739</td>\n",
       "      <td>75.0</td>\n",
       "      <td>161.0</td>\n",
       "      <td>108.000000</td>\n",
       "      <td>34.0</td>\n",
       "      <td>131.0</td>\n",
       "      <td>56.4000</td>\n",
       "      <td>54.0</td>\n",
       "      <td>139.0</td>\n",
       "      <td>70.700000</td>\n",
       "      <td>17.0</td>\n",
       "      <td>32.0</td>\n",
       "      <td>24.086957</td>\n",
       "      <td>36.39</td>\n",
       "      <td>37.00</td>\n",
       "      <td>36.776667</td>\n",
       "      <td>88.0</td>\n",
       "      <td>100.0</td>\n",
       "      <td>96.478261</td>\n",
       "      <td>47.0</td>\n",
       "      <td>134.0</td>\n",
       "      <td>102.714286</td>\n",
       "      <td>425.0</td>\n",
       "      <td>13</td>\n",
       "      <td>6.0</td>\n",
       "      <td>5.0</td>\n",
       "      <td>2.0</td>\n",
       "      <td>0</td>\n",
       "    </tr>\n",
       "    <tr>\n",
       "      <th>4</th>\n",
       "      <td>18571406</td>\n",
       "      <td>23198317</td>\n",
       "      <td>30341422</td>\n",
       "      <td>69.00</td>\n",
       "      <td>66.7</td>\n",
       "      <td>71.3</td>\n",
       "      <td>23-01-80 9:00</td>\n",
       "      <td>NaN</td>\n",
       "      <td>NaN</td>\n",
       "      <td>NaN</td>\n",
       "      <td>NaN</td>\n",
       "      <td>0.4909</td>\n",
       "      <td>0.6812</td>\n",
       "      <td>0.6812</td>\n",
       "      <td>1.0</td>\n",
       "      <td>1</td>\n",
       "      <td>7</td>\n",
       "      <td>1</td>\n",
       "      <td>1</td>\n",
       "      <td>23-01-80 14:00</td>\n",
       "      <td>1</td>\n",
       "      <td>1</td>\n",
       "      <td>IHD</td>\n",
       "      <td>1</td>\n",
       "      <td>0</td>\n",
       "      <td>M</td>\n",
       "      <td>NaN</td>\n",
       "      <td>23-01-80 2:04</td>\n",
       "      <td>28-01-80 15:00</td>\n",
       "      <td>5.538889</td>\n",
       "      <td>79.060470</td>\n",
       "      <td>WHITE</td>\n",
       "      <td>0</td>\n",
       "      <td>1</td>\n",
       "      <td>t</td>\n",
       "      <td>23-01-80 2:05</td>\n",
       "      <td>24-01-80 0:04</td>\n",
       "      <td>0.92</td>\n",
       "      <td>1</td>\n",
       "      <td>t</td>\n",
       "      <td>NaN</td>\n",
       "      <td>NaN</td>\n",
       "      <td>NaN</td>\n",
       "      <td>NaN</td>\n",
       "      <td>NaN</td>\n",
       "      <td>NaN</td>\n",
       "      <td>NaN</td>\n",
       "      <td>NaN</td>\n",
       "      <td>NaN</td>\n",
       "      <td>NaN</td>\n",
       "      <td>...</td>\n",
       "      <td>NaN</td>\n",
       "      <td>NaN</td>\n",
       "      <td>NaN</td>\n",
       "      <td>NaN</td>\n",
       "      <td>NaN</td>\n",
       "      <td>NaN</td>\n",
       "      <td>NaN</td>\n",
       "      <td>NaN</td>\n",
       "      <td>NaN</td>\n",
       "      <td>NaN</td>\n",
       "      <td>NaN</td>\n",
       "      <td>NaN</td>\n",
       "      <td>277.0</td>\n",
       "      <td>277.0</td>\n",
       "      <td>6.0</td>\n",
       "      <td>6.0</td>\n",
       "      <td>NaN</td>\n",
       "      <td>NaN</td>\n",
       "      <td>NaN</td>\n",
       "      <td>NaN</td>\n",
       "      <td>74.0</td>\n",
       "      <td>100.0</td>\n",
       "      <td>90.318182</td>\n",
       "      <td>113.0</td>\n",
       "      <td>161.0</td>\n",
       "      <td>140.800000</td>\n",
       "      <td>26.0</td>\n",
       "      <td>134.0</td>\n",
       "      <td>71.8500</td>\n",
       "      <td>60.0</td>\n",
       "      <td>141.0</td>\n",
       "      <td>88.285714</td>\n",
       "      <td>17.0</td>\n",
       "      <td>25.0</td>\n",
       "      <td>21.000000</td>\n",
       "      <td>36.33</td>\n",
       "      <td>37.33</td>\n",
       "      <td>36.620000</td>\n",
       "      <td>93.0</td>\n",
       "      <td>98.0</td>\n",
       "      <td>95.782609</td>\n",
       "      <td>121.0</td>\n",
       "      <td>126.0</td>\n",
       "      <td>124.000000</td>\n",
       "      <td>660.0</td>\n",
       "      <td>15</td>\n",
       "      <td>6.0</td>\n",
       "      <td>5.0</td>\n",
       "      <td>4.0</td>\n",
       "      <td>0</td>\n",
       "    </tr>\n",
       "  </tbody>\n",
       "</table>\n",
       "<p>5 rows × 198 columns</p>\n",
       "</div>"
      ],
      "text/plain": [
       "   subject_id   hadm_id   stay_id  weight  weight_min  weight_max  \\\n",
       "0    19518348  24328934  30041848  104.50       102.0       107.0   \n",
       "1    18070922  27400972  30078723  100.00       100.0       100.0   \n",
       "2    17414351  23018977  30254621   98.95        85.0       103.6   \n",
       "3    17555267  21215796  30326472  105.70       104.0       107.4   \n",
       "4    18571406  23198317  30341422   69.00        66.7        71.3   \n",
       "\n",
       "    charttime_aki  creat_low_past_7day  creat_low_past_48hr  creat  \\\n",
       "0   07-04-26 4:00                  NaN                  NaN    NaN   \n",
       "1   30-06-47 8:00                  NaN                  NaN    NaN   \n",
       "2  14-09-79 12:12                  NaN                  NaN    NaN   \n",
       "3   20-12-28 5:38                  NaN                  NaN    NaN   \n",
       "4   23-01-80 9:00                  NaN                  NaN    NaN   \n",
       "\n",
       "   aki_stage_creat  uo_rt_6hr  uo_rt_12hr  uo_rt_24hr  aki_stage_uo  \\\n",
       "0              NaN     0.4657      0.6891      0.6891           1.0   \n",
       "1              NaN     0.4334      0.6007      0.9219           1.0   \n",
       "2              NaN     0.0000      0.0000      0.0000           3.0   \n",
       "3              NaN     2.7933      2.7933      0.2665           3.0   \n",
       "4              NaN     0.4909      0.6812      0.6812           1.0   \n",
       "\n",
       "   aki_stage  kigoord  new_event_flag  kigoord_flag   charttime_rrt  \\\n",
       "0          1        8               1             1  16-04-26 14:25   \n",
       "1          1       32               1             1  05-07-47 19:15   \n",
       "2          3        4               1             1  14-09-79 12:23   \n",
       "3          3        6               1             1  24-12-28 18:20   \n",
       "4          1        7               1             1  23-01-80 14:00   \n",
       "\n",
       "   dialysis_present  dialysis_active dialysis_type  rrtorder  delay_rrt  \\\n",
       "0                 1                1           IHD         1          1   \n",
       "1                 1                1          CRRT         1          1   \n",
       "2                 1                1          CRRT         1          0   \n",
       "3                 1                1          CRRT         1          1   \n",
       "4                 1                1           IHD         1          0   \n",
       "\n",
       "  gender       dod       admittime       dischtime  los_hospital  \\\n",
       "0      M  24-04-26  06-04-26 17:21   24-04-26 9:00     17.652083   \n",
       "1      M       NaN  28-06-47 21:56  30-07-47 14:40     31.697222   \n",
       "2      M       NaN   14-09-79 0:06  03-01-80 18:15    111.756250   \n",
       "3      F  26-12-28   19-12-28 5:54   26-12-28 0:00      6.754167   \n",
       "4      M       NaN   23-01-80 2:04  28-01-80 15:00      5.538889   \n",
       "\n",
       "   admission_age               ethnicity  hospital_expire_flag  hospstay_seq  \\\n",
       "0      66.262081                 UNKNOWN                     1             1   \n",
       "1      70.489938  BLACK/AFRICAN AMERICAN                     0             1   \n",
       "2      37.700917                 UNKNOWN                     0             1   \n",
       "3      59.967156                   WHITE                     1             1   \n",
       "4      79.060470                   WHITE                     0             1   \n",
       "\n",
       "  first_hosp_stay      icu_intime     icu_outtime  los_icu  icustay_seq  \\\n",
       "0               t  06-04-26 17:22  24-04-26 13:11    17.83            1   \n",
       "1               t  28-06-47 21:59  30-07-47 15:03    31.71            1   \n",
       "2               t   14-09-79 0:07  17-10-79 19:59    33.83            1   \n",
       "3               t   19-12-28 5:58   27-12-28 0:08     7.76            1   \n",
       "4               t   23-01-80 2:05   24-01-80 0:04     0.92            1   \n",
       "\n",
       "  first_icu_stay  lactate_min  lactate_max  ph_min  ph_max  so2_min  so2_max  \\\n",
       "0              t          1.3          1.3    7.41    7.42     98.0     98.0   \n",
       "1              t          1.2          1.2    7.35    7.37      NaN      NaN   \n",
       "2              t          1.2          2.5    7.34    7.42     93.0     93.0   \n",
       "3              t          NaN          NaN     NaN     NaN      NaN      NaN   \n",
       "4              t          NaN          NaN     NaN     NaN      NaN      NaN   \n",
       "\n",
       "   po2_min  po2_max  pco2_min  pco2_max  ...  alp_min  alp_max  ast_min  \\\n",
       "0     90.0    147.0      39.0      40.0  ...     61.0     61.0     44.0   \n",
       "1     99.0     99.0      38.0      40.0  ...     36.0     37.0     12.0   \n",
       "2     36.0     85.0      29.0      36.0  ...    351.0    351.0    104.0   \n",
       "3      NaN      NaN       NaN       NaN  ...    133.0    164.0    162.0   \n",
       "4      NaN      NaN       NaN       NaN  ...      NaN      NaN      NaN   \n",
       "\n",
       "   ast_max  amylase_min  amylase_max  bilirubin_total_min  \\\n",
       "0     44.0          NaN          NaN                  0.3   \n",
       "1     13.0          NaN          NaN                  0.6   \n",
       "2    104.0          NaN          NaN                 36.3   \n",
       "3    189.0          NaN          NaN                  3.0   \n",
       "4      NaN          NaN          NaN                  NaN   \n",
       "\n",
       "   bilirubin_total_max  bilirubin_direct_min  bilirubin_direct_max  \\\n",
       "0                  0.3                   NaN                   NaN   \n",
       "1                  0.6                   NaN                   NaN   \n",
       "2                 36.3                  26.7                  26.7   \n",
       "3                  3.3                   NaN                   NaN   \n",
       "4                  NaN                   NaN                   NaN   \n",
       "\n",
       "   bilirubin_indirect_min  bilirubin_indirect_max  ck_cpk_min  ck_cpk_max  \\\n",
       "0                     NaN                     NaN       484.0       644.0   \n",
       "1                     NaN                     NaN         NaN         NaN   \n",
       "2                     NaN                     NaN        36.0        36.0   \n",
       "3                     NaN                     NaN      1011.0      1131.0   \n",
       "4                     NaN                     NaN       277.0       277.0   \n",
       "\n",
       "   ck_mb_min  ck_mb_max  ggt_min  ggt_max  ld_ldh_min  ld_ldh_max  \\\n",
       "0       15.0       23.0      NaN      NaN       485.0       485.0   \n",
       "1        NaN        NaN      NaN      NaN         NaN         NaN   \n",
       "2        4.0        4.0      NaN      NaN       331.0       331.0   \n",
       "3       14.0       16.0      NaN      NaN       374.0       378.0   \n",
       "4        6.0        6.0      NaN      NaN         NaN         NaN   \n",
       "\n",
       "   heart_rate_min  heart_rate_max  heart_rate_mean  sbp_min  sbp_max  \\\n",
       "0            66.0           138.0        89.625000     95.0    152.0   \n",
       "1            77.0            96.0        84.208333     95.0    116.0   \n",
       "2            71.0            93.0        80.956522     82.0    118.0   \n",
       "3            78.0            97.0        87.521739     75.0    161.0   \n",
       "4            74.0           100.0        90.318182    113.0    161.0   \n",
       "\n",
       "     sbp_mean  dbp_min  dbp_max  dbp_mean  mbp_min  mbp_max   mbp_mean  \\\n",
       "0  132.500000     48.0     91.0   68.5000     59.0     98.0  83.090909   \n",
       "1  107.500000     49.0     83.5   56.4600     62.0    157.0  74.019231   \n",
       "2  101.958333     36.0     63.0   52.4375     51.0     78.0  67.541667   \n",
       "3  108.000000     34.0    131.0   56.4000     54.0    139.0  70.700000   \n",
       "4  140.800000     26.0    134.0   71.8500     60.0    141.0  88.285714   \n",
       "\n",
       "   resp_rate_min  resp_rate_max  resp_rate_mean  temperature_min.1  \\\n",
       "0           18.0           27.0       21.673077              36.83   \n",
       "1           12.0           23.0       17.134615              36.72   \n",
       "2           12.0           36.0       20.000000              35.50   \n",
       "3           17.0           32.0       24.086957              36.39   \n",
       "4           17.0           25.0       21.000000              36.33   \n",
       "\n",
       "   temperature_max.1  temperature_mean  spo2_min  spo2_max  spo2_mean  \\\n",
       "0              38.11         37.405000      93.0      99.0  96.909091   \n",
       "1              37.56         36.978000      92.0      99.0  96.680000   \n",
       "2              36.70         36.132143      92.0     100.0  95.250000   \n",
       "3              37.00         36.776667      88.0     100.0  96.478261   \n",
       "4              37.33         36.620000      93.0      98.0  95.782609   \n",
       "\n",
       "   glucose_min.2  glucose_max.2  glucose_mean  urineoutput  gcs_min  \\\n",
       "0          172.0          321.0    257.500000       2895.0       10   \n",
       "1          106.0          140.0    123.666667       2400.0        3   \n",
       "2          114.0          228.0    152.625000         10.0        6   \n",
       "3           47.0          134.0    102.714286        425.0       13   \n",
       "4          121.0          126.0    124.000000        660.0       15   \n",
       "\n",
       "   gcs_motor  gcs_verbal  gcs_eyes  gcs_unable  \n",
       "0        5.0         1.0       4.0           0  \n",
       "1        1.0         1.0       1.0           0  \n",
       "2        4.0         1.0       1.0           0  \n",
       "3        6.0         5.0       2.0           0  \n",
       "4        6.0         5.0       4.0           0  \n",
       "\n",
       "[5 rows x 198 columns]"
      ]
     },
     "execution_count": 5,
     "metadata": {},
     "output_type": "execute_result"
    }
   ],
   "source": [
    "pd.set_option('display.max_columns', 100)\n",
    "aki_data.head()"
   ]
  },
  {
   "cell_type": "markdown",
   "id": "6d86ff3b",
   "metadata": {},
   "source": [
    "**missing data**"
   ]
  },
  {
   "cell_type": "code",
   "execution_count": 6,
   "id": "9fcb05ba",
   "metadata": {},
   "outputs": [
    {
     "data": {
      "text/plain": [
       "subject_id                      0\n",
       "hadm_id                         0\n",
       "stay_id                         0\n",
       "weight                          9\n",
       "weight_min                      9\n",
       "weight_max                      9\n",
       "charttime_aki                   0\n",
       "creat_low_past_7day           752\n",
       "creat_low_past_48hr           778\n",
       "creat                         752\n",
       "aki_stage_creat               752\n",
       "uo_rt_6hr                    1344\n",
       "uo_rt_12hr                   1344\n",
       "uo_rt_24hr                   1344\n",
       "aki_stage_uo                 1344\n",
       "aki_stage                       0\n",
       "kigoord                         0\n",
       "new_event_flag                  0\n",
       "kigoord_flag                    0\n",
       "charttime_rrt                   0\n",
       "dialysis_present                0\n",
       "dialysis_active                 0\n",
       "dialysis_type                  90\n",
       "rrtorder                        0\n",
       "delay_rrt                       0\n",
       "gender                          0\n",
       "dod                          1225\n",
       "admittime                       0\n",
       "dischtime                       0\n",
       "los_hospital                    0\n",
       "admission_age                   0\n",
       "ethnicity                       0\n",
       "hospital_expire_flag            0\n",
       "hospstay_seq                    0\n",
       "first_hosp_stay                 0\n",
       "icu_intime                      0\n",
       "icu_outtime                     0\n",
       "los_icu                         0\n",
       "icustay_seq                     0\n",
       "first_icu_stay                  0\n",
       "lactate_min                   471\n",
       "lactate_max                   471\n",
       "ph_min                        348\n",
       "ph_max                        348\n",
       "so2_min                      1081\n",
       "so2_max                      1081\n",
       "po2_min                       348\n",
       "po2_max                       348\n",
       "pco2_min                      348\n",
       "pco2_max                      348\n",
       "aado2_min                    1764\n",
       "aado2_max                    1764\n",
       "aado2_calc_min                774\n",
       "aado2_calc_max                774\n",
       "pao2fio2ratio_min             774\n",
       "pao2fio2ratio_max             774\n",
       "baseexcess_min                348\n",
       "baseexcess_max                348\n",
       "bicarbonate_min              2056\n",
       "bicarbonate_max              2056\n",
       "totalco2_min                  348\n",
       "totalco2_max                  348\n",
       "hematocrit_min               1394\n",
       "hematocrit_max               1394\n",
       "hemoglobin_min               1394\n",
       "hemoglobin_max               1394\n",
       "carboxyhemoglobin_min        2028\n",
       "carboxyhemoglobin_max        2028\n",
       "methemoglobin_min            2033\n",
       "methemoglobin_max            2033\n",
       "temperature_min              1222\n",
       "temperature_max              1222\n",
       "chloride_min                 1433\n",
       "chloride_max                 1433\n",
       "calcium_min                   780\n",
       "calcium_max                   780\n",
       "glucose_min                  1190\n",
       "glucose_max                  1190\n",
       "potassium_min                1088\n",
       "potassium_max                1088\n",
       "sodium_min                   1356\n",
       "sodium_max                   1356\n",
       "hematocrit_min.1                4\n",
       "hematocrit_max.1                4\n",
       "hemoglobin_min.1                6\n",
       "hemoglobin_max.1                6\n",
       "platelets_min                   4\n",
       "platelets_max                   4\n",
       "wbc_min                         5\n",
       "wbc_max                         5\n",
       "albumin_min                   863\n",
       "albumin_max                   863\n",
       "globulin_min                 2074\n",
       "globulin_max                 2074\n",
       "total_protein_min            2031\n",
       "total_protein_max            2031\n",
       "aniongap_min                    3\n",
       "aniongap_max                    3\n",
       "bicarbonate_min.1               3\n",
       "bicarbonate_max.1               3\n",
       "bun_min                         3\n",
       "bun_max                         3\n",
       "calcium_min.1                  73\n",
       "calcium_max.1                  73\n",
       "chloride_min.1                  3\n",
       "chloride_max.1                  3\n",
       "creatinine_min                  3\n",
       "creatinine_max                  3\n",
       "glucose_min.1                   6\n",
       "glucose_max.1                   6\n",
       "sodium_min.1                    3\n",
       "sodium_max.1                    3\n",
       "potassium_min.1                 3\n",
       "potassium_max.1                 3\n",
       "basophils_abs_min             670\n",
       "basophils_abs_max             670\n",
       "eosinophils_abs_min           670\n",
       "eosinophils_abs_max           670\n",
       "lymphocytes_abs_min           670\n",
       "lymphocytes_abs_max           670\n",
       "monocytes_abs_min             670\n",
       "monocytes_abs_max             670\n",
       "neutrophils_abs_min           670\n",
       "neutrophils_abs_max           670\n",
       "atypical_lymphocytes_min     1575\n",
       "atypical_lymphocytes_max     1575\n",
       "bands_min                    1523\n",
       "bands_max                    1523\n",
       "immature_granulocytes_min    1681\n",
       "immature_granulocytes_max    1681\n",
       "metamyelocytes_min           1552\n",
       "metamyelocytes_max           1552\n",
       "nrbc_min                     1800\n",
       "nrbc_max                     1800\n",
       "d_dimer_min                  2101\n",
       "d_dimer_max                  2101\n",
       "fibrinogen_min               1178\n",
       "fibrinogen_max               1178\n",
       "thrombin_min                 2100\n",
       "thrombin_max                 2100\n",
       "inr_min                       107\n",
       "inr_max                       107\n",
       "pt_min                        107\n",
       "pt_max                        107\n",
       "ptt_min                       116\n",
       "ptt_max                       116\n",
       "alt_min                       551\n",
       "alt_max                       551\n",
       "alp_min                       547\n",
       "alp_max                       547\n",
       "ast_min                       539\n",
       "ast_max                       539\n",
       "amylase_min                  1772\n",
       "amylase_max                  1772\n",
       "bilirubin_total_min           543\n",
       "bilirubin_total_max           543\n",
       "bilirubin_direct_min         1856\n",
       "bilirubin_direct_max         1856\n",
       "bilirubin_indirect_min       1882\n",
       "bilirubin_indirect_max       1882\n",
       "ck_cpk_min                   1082\n",
       "ck_cpk_max                   1082\n",
       "ck_mb_min                    1167\n",
       "ck_mb_max                    1167\n",
       "ggt_min                      2074\n",
       "ggt_max                      2074\n",
       "ld_ldh_min                   1011\n",
       "ld_ldh_max                   1011\n",
       "heart_rate_min                 10\n",
       "heart_rate_max                 10\n",
       "heart_rate_mean                10\n",
       "sbp_min                        23\n",
       "sbp_max                        23\n",
       "sbp_mean                       23\n",
       "dbp_min                        24\n",
       "dbp_max                        24\n",
       "dbp_mean                       24\n",
       "mbp_min                        10\n",
       "mbp_max                        10\n",
       "mbp_mean                       10\n",
       "resp_rate_min                  10\n",
       "resp_rate_max                  10\n",
       "resp_rate_mean                 10\n",
       "temperature_min.1             124\n",
       "temperature_max.1             124\n",
       "temperature_mean              124\n",
       "spo2_min                       10\n",
       "spo2_max                       10\n",
       "spo2_mean                      10\n",
       "glucose_min.2                   6\n",
       "glucose_max.2                   6\n",
       "glucose_mean                    6\n",
       "urineoutput                   339\n",
       "gcs_min                         0\n",
       "gcs_motor                      43\n",
       "gcs_verbal                     46\n",
       "gcs_eyes                       26\n",
       "gcs_unable                      0\n",
       "dtype: int64"
      ]
     },
     "execution_count": 6,
     "metadata": {},
     "output_type": "execute_result"
    }
   ],
   "source": [
    "pd.set_option('display.max_rows', 200)\n",
    "pd.isna(aki_data).sum()"
   ]
  },
  {
   "cell_type": "code",
   "execution_count": 7,
   "id": "a5f36245",
   "metadata": {},
   "outputs": [
    {
     "name": "stdout",
     "output_type": "stream",
     "text": [
      "True\n"
     ]
    }
   ],
   "source": [
    "# double checking this happens in same rows?\n",
    "print(np.array_equal(aki_data.index[aki_data['sodium_min'].isnull()] , aki_data.index[aki_data['sodium_max'].isnull()]))"
   ]
  },
  {
   "cell_type": "code",
   "execution_count": 8,
   "id": "321ef830",
   "metadata": {},
   "outputs": [
    {
     "data": {
      "text/plain": [
       "True"
      ]
     },
     "execution_count": 8,
     "metadata": {},
     "output_type": "execute_result"
    }
   ],
   "source": [
    "np.array_equal(aki_data.index[aki_data['weight_min'].isnull()], aki_data.index[aki_data['weight'].isnull()])"
   ]
  },
  {
   "cell_type": "code",
   "execution_count": 9,
   "id": "84f19d5f",
   "metadata": {},
   "outputs": [
    {
     "data": {
      "text/plain": [
       "1    1720\n",
       "0     390\n",
       "Name: delay_rrt, dtype: int64"
      ]
     },
     "execution_count": 9,
     "metadata": {},
     "output_type": "execute_result"
    }
   ],
   "source": [
    "# uneven sample\n",
    "aki_data['delay_rrt'].value_counts()"
   ]
  },
  {
   "cell_type": "markdown",
   "id": "0d538661",
   "metadata": {},
   "source": [
    "**drop columns not of interest**"
   ]
  },
  {
   "cell_type": "code",
   "execution_count": 10,
   "id": "942c6d0e",
   "metadata": {},
   "outputs": [],
   "source": [
    "# clinician's input\n",
    "aki_data.drop(columns=['weight_min', 'weight_max',\n",
    "                       'charttime_aki',\n",
    "                       'creat_low_past_7day','creat_low_past_48hr','creat','aki_stage_creat',\n",
    "                       'uo_rt_6hr','uo_rt_12hr','uo_rt_24hr','aki_stage_uo',\n",
    "                       'kigoord','new_event_flag','kigoord_flag',\n",
    "                       'charttime_rrt',\n",
    "                       'dialysis_present','dialysis_active','dialysis_type',\n",
    "                       'rrtorder',\n",
    "                       'dod',\n",
    "                       'admittime','dischtime','los_hospital',\n",
    "                       'hospital_expire_flag','hospstay_seq','first_hosp_stay',\n",
    "                       'icu_intime','icu_outtime','los_icu',\n",
    "                       'icustay_seq', 'first_icu_stay',\n",
    "                       'lactate_min',\n",
    "                       'so2_max',\n",
    "                       'po2_max',\n",
    "                       'aado2_min','aado2_max',\n",
    "                       'aado2_calc_min',\n",
    "                       'pao2fio2ratio_min', 'pao2fio2ratio_max',\n",
    "                       'baseexcess_max',\n",
    "                       'bicarbonate_min','bicarbonate_max',\n",
    "                       'totalco2_min', 'totalco2_max',\n",
    "                       'hematocrit_min','hematocrit_max',\n",
    "                       'hemoglobin_min','hemoglobin_max',\n",
    "                       'carboxyhemoglobin_min','carboxyhemoglobin_max',\n",
    "                       'methemoglobin_min','methemoglobin_max',\n",
    "                       'temperature_min','temperature_max',\n",
    "                       'chloride_min','chloride_max',\n",
    "                       'calcium_min','calcium_max',\n",
    "                       'glucose_min','glucose_max',\n",
    "                       'potassium_min','potassium_max',\n",
    "                       'sodium_min','sodium_max',\n",
    "                       'globulin_min','globulin_max',\n",
    "                       'total_protein_min','total_protein_max',\n",
    "                       'atypical_lymphocytes_min','atypical_lymphocytes_max',\n",
    "                       'bands_min','bands_max',\n",
    "                       'immature_granulocytes_min','immature_granulocytes_max',\n",
    "                       'metamyelocytes_min','metamyelocytes_max',\n",
    "                       'nrbc_min','nrbc_max',\n",
    "                       'd_dimer_min','d_dimer_max',\n",
    "                       'thrombin_min','thrombin_max',\n",
    "                       'inr_min',\n",
    "                       'pt_min',\n",
    "                       'ptt_min',\n",
    "                       'alt_min',\n",
    "                       'alp_min',\n",
    "                       'ast_min',\n",
    "                       'amylase_min','amylase_max',\n",
    "                       'bilirubin_total_min',\n",
    "                       'bilirubin_direct_min','bilirubin_direct_max',\n",
    "                       'bilirubin_indirect_min','bilirubin_indirect_max',\n",
    "                       'ck_cpk_min',\n",
    "                       'ck_mb_min',\n",
    "                       'ggt_min','ggt_max',\n",
    "                       'ld_ldh_min',\n",
    "                       'heart_rate_min','heart_rate_max',\n",
    "                       'sbp_min','sbp_max',\n",
    "                       'dbp_min','dbp_max',\n",
    "                       'mbp_min','mbp_max',\n",
    "                       'resp_rate_min','resp_rate_max',\n",
    "                       'temperature_min.1','temperature_max.1',\n",
    "                       'spo2_min','spo2_max',\n",
    "                       'glucose_min.2','glucose_max.2',\n",
    "                       'gcs_motor','gcs_verbal','gcs_eyes','gcs_unable'],inplace=True)"
   ]
  },
  {
   "cell_type": "code",
   "execution_count": 11,
   "id": "3f7f48d3",
   "metadata": {},
   "outputs": [
    {
     "name": "stdout",
     "output_type": "stream",
     "text": [
      "<class 'pandas.core.frame.DataFrame'>\n",
      "RangeIndex: 2110 entries, 0 to 2109\n",
      "Data columns (total 78 columns):\n",
      " #   Column               Non-Null Count  Dtype  \n",
      "---  ------               --------------  -----  \n",
      " 0   subject_id           2110 non-null   int64  \n",
      " 1   hadm_id              2110 non-null   int64  \n",
      " 2   stay_id              2110 non-null   int64  \n",
      " 3   weight               2101 non-null   float64\n",
      " 4   aki_stage            2110 non-null   int64  \n",
      " 5   delay_rrt            2110 non-null   int64  \n",
      " 6   gender               2110 non-null   object \n",
      " 7   admission_age        2110 non-null   float64\n",
      " 8   ethnicity            2110 non-null   object \n",
      " 9   lactate_max          1639 non-null   float64\n",
      " 10  ph_min               1762 non-null   float64\n",
      " 11  ph_max               1762 non-null   float64\n",
      " 12  so2_min              1029 non-null   float64\n",
      " 13  po2_min              1762 non-null   float64\n",
      " 14  pco2_min             1762 non-null   float64\n",
      " 15  pco2_max             1762 non-null   float64\n",
      " 16  aado2_calc_max       1336 non-null   float64\n",
      " 17  baseexcess_min       1762 non-null   float64\n",
      " 18  hematocrit_min.1     2106 non-null   float64\n",
      " 19  hematocrit_max.1     2106 non-null   float64\n",
      " 20  hemoglobin_min.1     2104 non-null   float64\n",
      " 21  hemoglobin_max.1     2104 non-null   float64\n",
      " 22  platelets_min        2106 non-null   float64\n",
      " 23  platelets_max        2106 non-null   float64\n",
      " 24  wbc_min              2105 non-null   float64\n",
      " 25  wbc_max              2105 non-null   float64\n",
      " 26  albumin_min          1247 non-null   float64\n",
      " 27  albumin_max          1247 non-null   float64\n",
      " 28  aniongap_min         2107 non-null   float64\n",
      " 29  aniongap_max         2107 non-null   float64\n",
      " 30  bicarbonate_min.1    2107 non-null   float64\n",
      " 31  bicarbonate_max.1    2107 non-null   float64\n",
      " 32  bun_min              2107 non-null   float64\n",
      " 33  bun_max              2107 non-null   float64\n",
      " 34  calcium_min.1        2037 non-null   float64\n",
      " 35  calcium_max.1        2037 non-null   float64\n",
      " 36  chloride_min.1       2107 non-null   float64\n",
      " 37  chloride_max.1       2107 non-null   float64\n",
      " 38  creatinine_min       2107 non-null   float64\n",
      " 39  creatinine_max       2107 non-null   float64\n",
      " 40  glucose_min.1        2104 non-null   float64\n",
      " 41  glucose_max.1        2104 non-null   float64\n",
      " 42  sodium_min.1         2107 non-null   float64\n",
      " 43  sodium_max.1         2107 non-null   float64\n",
      " 44  potassium_min.1      2107 non-null   float64\n",
      " 45  potassium_max.1      2107 non-null   float64\n",
      " 46  basophils_abs_min    1440 non-null   float64\n",
      " 47  basophils_abs_max    1440 non-null   float64\n",
      " 48  eosinophils_abs_min  1440 non-null   float64\n",
      " 49  eosinophils_abs_max  1440 non-null   float64\n",
      " 50  lymphocytes_abs_min  1440 non-null   float64\n",
      " 51  lymphocytes_abs_max  1440 non-null   float64\n",
      " 52  monocytes_abs_min    1440 non-null   float64\n",
      " 53  monocytes_abs_max    1440 non-null   float64\n",
      " 54  neutrophils_abs_min  1440 non-null   float64\n",
      " 55  neutrophils_abs_max  1440 non-null   float64\n",
      " 56  fibrinogen_min       932 non-null    float64\n",
      " 57  fibrinogen_max       932 non-null    float64\n",
      " 58  inr_max              2003 non-null   float64\n",
      " 59  pt_max               2003 non-null   float64\n",
      " 60  ptt_max              1994 non-null   float64\n",
      " 61  alt_max              1559 non-null   float64\n",
      " 62  alp_max              1563 non-null   float64\n",
      " 63  ast_max              1571 non-null   float64\n",
      " 64  bilirubin_total_max  1567 non-null   float64\n",
      " 65  ck_cpk_max           1028 non-null   float64\n",
      " 66  ck_mb_max            943 non-null    float64\n",
      " 67  ld_ldh_max           1099 non-null   float64\n",
      " 68  heart_rate_mean      2100 non-null   float64\n",
      " 69  sbp_mean             2087 non-null   float64\n",
      " 70  dbp_mean             2086 non-null   float64\n",
      " 71  mbp_mean             2100 non-null   float64\n",
      " 72  resp_rate_mean       2100 non-null   float64\n",
      " 73  temperature_mean     1986 non-null   float64\n",
      " 74  spo2_mean            2100 non-null   float64\n",
      " 75  glucose_mean         2104 non-null   float64\n",
      " 76  urineoutput          1771 non-null   float64\n",
      " 77  gcs_min              2110 non-null   int64  \n",
      "dtypes: float64(70), int64(6), object(2)\n",
      "memory usage: 1.3+ MB\n"
     ]
    }
   ],
   "source": [
    "pd.set_option('display.max_rows', 85)\n",
    "aki_data.info()\n",
    "# 78 columns"
   ]
  },
  {
   "cell_type": "markdown",
   "id": "f5158067",
   "metadata": {},
   "source": [
    "**missing data**"
   ]
  },
  {
   "cell_type": "code",
   "execution_count": 12,
   "id": "041e69fb",
   "metadata": {},
   "outputs": [
    {
     "data": {
      "text/plain": [
       "subject_id                0\n",
       "hadm_id                   0\n",
       "stay_id                   0\n",
       "weight                    9\n",
       "aki_stage                 0\n",
       "delay_rrt                 0\n",
       "gender                    0\n",
       "admission_age             0\n",
       "ethnicity                 0\n",
       "lactate_max             471\n",
       "ph_min                  348\n",
       "ph_max                  348\n",
       "so2_min                1081\n",
       "po2_min                 348\n",
       "pco2_min                348\n",
       "pco2_max                348\n",
       "aado2_calc_max          774\n",
       "baseexcess_min          348\n",
       "hematocrit_min.1          4\n",
       "hematocrit_max.1          4\n",
       "hemoglobin_min.1          6\n",
       "hemoglobin_max.1          6\n",
       "platelets_min             4\n",
       "platelets_max             4\n",
       "wbc_min                   5\n",
       "wbc_max                   5\n",
       "albumin_min             863\n",
       "albumin_max             863\n",
       "aniongap_min              3\n",
       "aniongap_max              3\n",
       "bicarbonate_min.1         3\n",
       "bicarbonate_max.1         3\n",
       "bun_min                   3\n",
       "bun_max                   3\n",
       "calcium_min.1            73\n",
       "calcium_max.1            73\n",
       "chloride_min.1            3\n",
       "chloride_max.1            3\n",
       "creatinine_min            3\n",
       "creatinine_max            3\n",
       "glucose_min.1             6\n",
       "glucose_max.1             6\n",
       "sodium_min.1              3\n",
       "sodium_max.1              3\n",
       "potassium_min.1           3\n",
       "potassium_max.1           3\n",
       "basophils_abs_min       670\n",
       "basophils_abs_max       670\n",
       "eosinophils_abs_min     670\n",
       "eosinophils_abs_max     670\n",
       "lymphocytes_abs_min     670\n",
       "lymphocytes_abs_max     670\n",
       "monocytes_abs_min       670\n",
       "monocytes_abs_max       670\n",
       "neutrophils_abs_min     670\n",
       "neutrophils_abs_max     670\n",
       "fibrinogen_min         1178\n",
       "fibrinogen_max         1178\n",
       "inr_max                 107\n",
       "pt_max                  107\n",
       "ptt_max                 116\n",
       "alt_max                 551\n",
       "alp_max                 547\n",
       "ast_max                 539\n",
       "bilirubin_total_max     543\n",
       "ck_cpk_max             1082\n",
       "ck_mb_max              1167\n",
       "ld_ldh_max             1011\n",
       "heart_rate_mean          10\n",
       "sbp_mean                 23\n",
       "dbp_mean                 24\n",
       "mbp_mean                 10\n",
       "resp_rate_mean           10\n",
       "temperature_mean        124\n",
       "spo2_mean                10\n",
       "glucose_mean              6\n",
       "urineoutput             339\n",
       "gcs_min                   0\n",
       "dtype: int64"
      ]
     },
     "execution_count": 12,
     "metadata": {},
     "output_type": "execute_result"
    }
   ],
   "source": [
    "pd.isna(aki_data).sum()"
   ]
  },
  {
   "cell_type": "markdown",
   "id": "01b9ae86",
   "metadata": {},
   "source": [
    "**drop columns due to too many missing data**"
   ]
  },
  {
   "cell_type": "markdown",
   "id": "374a687f",
   "metadata": {},
   "source": [
    "Since there are 2110 rows, any columns with >125 (approx 5%) missing rows will be dropped."
   ]
  },
  {
   "cell_type": "code",
   "execution_count": 13,
   "id": "4f1edb4b",
   "metadata": {},
   "outputs": [],
   "source": [
    "aki_data = aki_data[aki_data.columns[aki_data.isnull().sum()<125]] "
   ]
  },
  {
   "cell_type": "code",
   "execution_count": 14,
   "id": "3d0051ea",
   "metadata": {},
   "outputs": [
    {
     "data": {
      "text/plain": [
       "(2110, 47)"
      ]
     },
     "execution_count": 14,
     "metadata": {},
     "output_type": "execute_result"
    }
   ],
   "source": [
    "aki_data.shape"
   ]
  },
  {
   "cell_type": "markdown",
   "id": "c7bd754a",
   "metadata": {},
   "source": [
    "47 columns left."
   ]
  },
  {
   "cell_type": "code",
   "execution_count": 15,
   "id": "8f6bea5f",
   "metadata": {},
   "outputs": [],
   "source": [
    "# aki_data.drop(columns=['lactate_max',\n",
    "#                        'ph_min','ph_max',\n",
    "#                        'so2_min',\n",
    "#                        'po2_min','po2_max',\n",
    "#                        'aado2_calc_max',\n",
    "#                        'baseexcess_min',\n",
    "#                        'albumin_min','albumin_max',\n",
    "#                        'basophils_abs_min','basophils_abs_max',\n",
    "#                        'eosinophils_abs_min','eosinophils_abs_max',\n",
    "#                        'lymphocytes_abs_min','lymphocytes_abs_max',\n",
    "#                        'monocytes_abs_min','monocytes_abs_max',\n",
    "#                        'neutrophils_abs_min','neutrophils_abs_max',\n",
    "#                        'fibrinogen_min','fibrinogen_max',\n",
    "#                        'alt_max',\n",
    "#                        'alp_max',\n",
    "#                        'ast_max',\n",
    "#                        'bilirubin_total_max',\n",
    "#                        'ck_cpk_max','ck_mb_max',\n",
    "#                        'ld_ldh_max',\n",
    "#                        'urineoutput'])"
   ]
  },
  {
   "cell_type": "code",
   "execution_count": 16,
   "id": "a1416d94",
   "metadata": {},
   "outputs": [
    {
     "data": {
      "text/plain": [
       "subject_id             0\n",
       "hadm_id                0\n",
       "stay_id                0\n",
       "weight                 9\n",
       "aki_stage              0\n",
       "delay_rrt              0\n",
       "gender                 0\n",
       "admission_age          0\n",
       "ethnicity              0\n",
       "hematocrit_min.1       4\n",
       "hematocrit_max.1       4\n",
       "hemoglobin_min.1       6\n",
       "hemoglobin_max.1       6\n",
       "platelets_min          4\n",
       "platelets_max          4\n",
       "wbc_min                5\n",
       "wbc_max                5\n",
       "aniongap_min           3\n",
       "aniongap_max           3\n",
       "bicarbonate_min.1      3\n",
       "bicarbonate_max.1      3\n",
       "bun_min                3\n",
       "bun_max                3\n",
       "calcium_min.1         73\n",
       "calcium_max.1         73\n",
       "chloride_min.1         3\n",
       "chloride_max.1         3\n",
       "creatinine_min         3\n",
       "creatinine_max         3\n",
       "glucose_min.1          6\n",
       "glucose_max.1          6\n",
       "sodium_min.1           3\n",
       "sodium_max.1           3\n",
       "potassium_min.1        3\n",
       "potassium_max.1        3\n",
       "inr_max              107\n",
       "pt_max               107\n",
       "ptt_max              116\n",
       "heart_rate_mean       10\n",
       "sbp_mean              23\n",
       "dbp_mean              24\n",
       "mbp_mean              10\n",
       "resp_rate_mean        10\n",
       "temperature_mean     124\n",
       "spo2_mean             10\n",
       "glucose_mean           6\n",
       "gcs_min                0\n",
       "dtype: int64"
      ]
     },
     "execution_count": 16,
     "metadata": {},
     "output_type": "execute_result"
    }
   ],
   "source": [
    "pd.isnull(aki_data).sum()"
   ]
  },
  {
   "cell_type": "code",
   "execution_count": 17,
   "id": "5f743e45",
   "metadata": {},
   "outputs": [],
   "source": [
    "# drop rows\n",
    "aki_data.dropna(inplace=True)"
   ]
  },
  {
   "cell_type": "code",
   "execution_count": 18,
   "id": "f68b6a3b",
   "metadata": {},
   "outputs": [
    {
     "data": {
      "text/plain": [
       "(1786, 47)"
      ]
     },
     "execution_count": 18,
     "metadata": {},
     "output_type": "execute_result"
    }
   ],
   "source": [
    "aki_data.shape"
   ]
  },
  {
   "cell_type": "markdown",
   "id": "81d647d9",
   "metadata": {},
   "source": [
    "1786 rows left."
   ]
  },
  {
   "cell_type": "code",
   "execution_count": 19,
   "id": "055e958e",
   "metadata": {},
   "outputs": [
    {
     "data": {
      "text/plain": [
       "subject_id           0\n",
       "hadm_id              0\n",
       "stay_id              0\n",
       "weight               0\n",
       "aki_stage            0\n",
       "delay_rrt            0\n",
       "gender               0\n",
       "admission_age        0\n",
       "ethnicity            0\n",
       "hematocrit_min.1     0\n",
       "hematocrit_max.1     0\n",
       "hemoglobin_min.1     0\n",
       "hemoglobin_max.1     0\n",
       "platelets_min        0\n",
       "platelets_max        0\n",
       "wbc_min              0\n",
       "wbc_max              0\n",
       "aniongap_min         0\n",
       "aniongap_max         0\n",
       "bicarbonate_min.1    0\n",
       "bicarbonate_max.1    0\n",
       "bun_min              0\n",
       "bun_max              0\n",
       "calcium_min.1        0\n",
       "calcium_max.1        0\n",
       "chloride_min.1       0\n",
       "chloride_max.1       0\n",
       "creatinine_min       0\n",
       "creatinine_max       0\n",
       "glucose_min.1        0\n",
       "glucose_max.1        0\n",
       "sodium_min.1         0\n",
       "sodium_max.1         0\n",
       "potassium_min.1      0\n",
       "potassium_max.1      0\n",
       "inr_max              0\n",
       "pt_max               0\n",
       "ptt_max              0\n",
       "heart_rate_mean      0\n",
       "sbp_mean             0\n",
       "dbp_mean             0\n",
       "mbp_mean             0\n",
       "resp_rate_mean       0\n",
       "temperature_mean     0\n",
       "spo2_mean            0\n",
       "glucose_mean         0\n",
       "gcs_min              0\n",
       "dtype: int64"
      ]
     },
     "execution_count": 19,
     "metadata": {},
     "output_type": "execute_result"
    }
   ],
   "source": [
    "# double checking\n",
    "pd.isnull(aki_data).sum()"
   ]
  },
  {
   "cell_type": "code",
   "execution_count": 20,
   "id": "ba952bf6",
   "metadata": {},
   "outputs": [
    {
     "name": "stderr",
     "output_type": "stream",
     "text": [
      "<ipython-input-20-3d819d2c3372>:2: FutureWarning: The default value of regex will change from True to False in a future version.\n",
      "  aki_data.columns = aki_data.columns.str.replace('.1','')\n"
     ]
    }
   ],
   "source": [
    "# remove the .1\n",
    "aki_data.columns = aki_data.columns.str.replace('.1','')"
   ]
  },
  {
   "cell_type": "code",
   "execution_count": 21,
   "id": "40ae90ee",
   "metadata": {},
   "outputs": [
    {
     "data": {
      "text/html": [
       "<div>\n",
       "<style scoped>\n",
       "    .dataframe tbody tr th:only-of-type {\n",
       "        vertical-align: middle;\n",
       "    }\n",
       "\n",
       "    .dataframe tbody tr th {\n",
       "        vertical-align: top;\n",
       "    }\n",
       "\n",
       "    .dataframe thead th {\n",
       "        text-align: right;\n",
       "    }\n",
       "</style>\n",
       "<table border=\"1\" class=\"dataframe\">\n",
       "  <thead>\n",
       "    <tr style=\"text-align: right;\">\n",
       "      <th></th>\n",
       "      <th>subject_id</th>\n",
       "      <th>hadm_id</th>\n",
       "      <th>stay_id</th>\n",
       "      <th>weight</th>\n",
       "      <th>aki_stage</th>\n",
       "      <th>delay_rrt</th>\n",
       "      <th>gender</th>\n",
       "      <th>admission_age</th>\n",
       "      <th>ethnicity</th>\n",
       "      <th>hematocrit_min</th>\n",
       "      <th>hematocrit_max</th>\n",
       "      <th>hemoglobin_min</th>\n",
       "      <th>hemoglobin_max</th>\n",
       "      <th>platelets_min</th>\n",
       "      <th>platelets_max</th>\n",
       "      <th>wbc_min</th>\n",
       "      <th>wbc_max</th>\n",
       "      <th>aniongap_min</th>\n",
       "      <th>aniongap_max</th>\n",
       "      <th>bicarbonate_min</th>\n",
       "      <th>bicarbonate_max</th>\n",
       "      <th>bun_min</th>\n",
       "      <th>bun_max</th>\n",
       "      <th>calcium_min</th>\n",
       "      <th>calcium_max</th>\n",
       "      <th>chloride_min</th>\n",
       "      <th>chloride_max</th>\n",
       "      <th>creatinine_min</th>\n",
       "      <th>creatinine_max</th>\n",
       "      <th>glucose_min</th>\n",
       "      <th>glucose_max</th>\n",
       "      <th>sodium_min</th>\n",
       "      <th>sodium_max</th>\n",
       "      <th>potassium_min</th>\n",
       "      <th>potassium_max</th>\n",
       "      <th>inr_max</th>\n",
       "      <th>pt_max</th>\n",
       "      <th>ptt_max</th>\n",
       "      <th>heart_rate_mean</th>\n",
       "      <th>sbp_mean</th>\n",
       "      <th>dbp_mean</th>\n",
       "      <th>mbp_mean</th>\n",
       "      <th>resp_rate_mean</th>\n",
       "      <th>temperature_mean</th>\n",
       "      <th>spo2_mean</th>\n",
       "      <th>glucose_mean</th>\n",
       "      <th>gcs_min</th>\n",
       "    </tr>\n",
       "  </thead>\n",
       "  <tbody>\n",
       "    <tr>\n",
       "      <th>0</th>\n",
       "      <td>19518348</td>\n",
       "      <td>24328934</td>\n",
       "      <td>30041848</td>\n",
       "      <td>104.50</td>\n",
       "      <td>1</td>\n",
       "      <td>1</td>\n",
       "      <td>M</td>\n",
       "      <td>66.262081</td>\n",
       "      <td>UNKNOWN</td>\n",
       "      <td>31.4</td>\n",
       "      <td>31.9</td>\n",
       "      <td>11.3</td>\n",
       "      <td>11.3</td>\n",
       "      <td>246.0</td>\n",
       "      <td>247.0</td>\n",
       "      <td>11.2</td>\n",
       "      <td>11.2</td>\n",
       "      <td>20.0</td>\n",
       "      <td>23.0</td>\n",
       "      <td>23.0</td>\n",
       "      <td>24.0</td>\n",
       "      <td>109.0</td>\n",
       "      <td>114.0</td>\n",
       "      <td>8.7</td>\n",
       "      <td>9.5</td>\n",
       "      <td>106.0</td>\n",
       "      <td>114.0</td>\n",
       "      <td>3.0</td>\n",
       "      <td>3.1</td>\n",
       "      <td>172.0</td>\n",
       "      <td>317.0</td>\n",
       "      <td>146.0</td>\n",
       "      <td>154.0</td>\n",
       "      <td>3.9</td>\n",
       "      <td>4.1</td>\n",
       "      <td>1.3</td>\n",
       "      <td>14.6</td>\n",
       "      <td>47.5</td>\n",
       "      <td>89.625000</td>\n",
       "      <td>132.500000</td>\n",
       "      <td>68.5000</td>\n",
       "      <td>83.090909</td>\n",
       "      <td>21.673077</td>\n",
       "      <td>37.405000</td>\n",
       "      <td>96.909091</td>\n",
       "      <td>257.500000</td>\n",
       "      <td>10</td>\n",
       "    </tr>\n",
       "    <tr>\n",
       "      <th>1</th>\n",
       "      <td>18070922</td>\n",
       "      <td>27400972</td>\n",
       "      <td>30078723</td>\n",
       "      <td>100.00</td>\n",
       "      <td>1</td>\n",
       "      <td>1</td>\n",
       "      <td>M</td>\n",
       "      <td>70.489938</td>\n",
       "      <td>BLACK/AFRICAN AMERICAN</td>\n",
       "      <td>34.0</td>\n",
       "      <td>34.2</td>\n",
       "      <td>11.3</td>\n",
       "      <td>11.4</td>\n",
       "      <td>185.0</td>\n",
       "      <td>186.0</td>\n",
       "      <td>12.1</td>\n",
       "      <td>13.5</td>\n",
       "      <td>14.0</td>\n",
       "      <td>16.0</td>\n",
       "      <td>20.0</td>\n",
       "      <td>21.0</td>\n",
       "      <td>36.0</td>\n",
       "      <td>41.0</td>\n",
       "      <td>7.5</td>\n",
       "      <td>7.7</td>\n",
       "      <td>103.0</td>\n",
       "      <td>104.0</td>\n",
       "      <td>1.1</td>\n",
       "      <td>1.1</td>\n",
       "      <td>106.0</td>\n",
       "      <td>140.0</td>\n",
       "      <td>134.0</td>\n",
       "      <td>135.0</td>\n",
       "      <td>4.4</td>\n",
       "      <td>4.8</td>\n",
       "      <td>1.3</td>\n",
       "      <td>13.9</td>\n",
       "      <td>25.0</td>\n",
       "      <td>84.208333</td>\n",
       "      <td>107.500000</td>\n",
       "      <td>56.4600</td>\n",
       "      <td>74.019231</td>\n",
       "      <td>17.134615</td>\n",
       "      <td>36.978000</td>\n",
       "      <td>96.680000</td>\n",
       "      <td>123.666667</td>\n",
       "      <td>3</td>\n",
       "    </tr>\n",
       "    <tr>\n",
       "      <th>2</th>\n",
       "      <td>17414351</td>\n",
       "      <td>23018977</td>\n",
       "      <td>30254621</td>\n",
       "      <td>98.95</td>\n",
       "      <td>3</td>\n",
       "      <td>0</td>\n",
       "      <td>M</td>\n",
       "      <td>37.700917</td>\n",
       "      <td>UNKNOWN</td>\n",
       "      <td>27.1</td>\n",
       "      <td>29.4</td>\n",
       "      <td>9.9</td>\n",
       "      <td>10.4</td>\n",
       "      <td>185.0</td>\n",
       "      <td>252.0</td>\n",
       "      <td>22.4</td>\n",
       "      <td>31.1</td>\n",
       "      <td>26.0</td>\n",
       "      <td>30.0</td>\n",
       "      <td>15.0</td>\n",
       "      <td>18.0</td>\n",
       "      <td>40.0</td>\n",
       "      <td>53.0</td>\n",
       "      <td>7.4</td>\n",
       "      <td>10.2</td>\n",
       "      <td>73.0</td>\n",
       "      <td>76.0</td>\n",
       "      <td>7.8</td>\n",
       "      <td>10.5</td>\n",
       "      <td>121.0</td>\n",
       "      <td>228.0</td>\n",
       "      <td>118.0</td>\n",
       "      <td>119.0</td>\n",
       "      <td>3.3</td>\n",
       "      <td>3.8</td>\n",
       "      <td>2.6</td>\n",
       "      <td>27.5</td>\n",
       "      <td>36.0</td>\n",
       "      <td>80.956522</td>\n",
       "      <td>101.958333</td>\n",
       "      <td>52.4375</td>\n",
       "      <td>67.541667</td>\n",
       "      <td>20.000000</td>\n",
       "      <td>36.132143</td>\n",
       "      <td>95.250000</td>\n",
       "      <td>152.625000</td>\n",
       "      <td>6</td>\n",
       "    </tr>\n",
       "    <tr>\n",
       "      <th>3</th>\n",
       "      <td>17555267</td>\n",
       "      <td>21215796</td>\n",
       "      <td>30326472</td>\n",
       "      <td>105.70</td>\n",
       "      <td>3</td>\n",
       "      <td>1</td>\n",
       "      <td>F</td>\n",
       "      <td>59.967156</td>\n",
       "      <td>WHITE</td>\n",
       "      <td>25.0</td>\n",
       "      <td>30.9</td>\n",
       "      <td>8.1</td>\n",
       "      <td>10.1</td>\n",
       "      <td>70.0</td>\n",
       "      <td>107.0</td>\n",
       "      <td>7.6</td>\n",
       "      <td>14.5</td>\n",
       "      <td>11.0</td>\n",
       "      <td>13.0</td>\n",
       "      <td>19.0</td>\n",
       "      <td>23.0</td>\n",
       "      <td>15.0</td>\n",
       "      <td>16.0</td>\n",
       "      <td>7.5</td>\n",
       "      <td>7.8</td>\n",
       "      <td>106.0</td>\n",
       "      <td>110.0</td>\n",
       "      <td>1.1</td>\n",
       "      <td>1.2</td>\n",
       "      <td>47.0</td>\n",
       "      <td>127.0</td>\n",
       "      <td>140.0</td>\n",
       "      <td>141.0</td>\n",
       "      <td>3.2</td>\n",
       "      <td>4.0</td>\n",
       "      <td>2.6</td>\n",
       "      <td>28.4</td>\n",
       "      <td>51.3</td>\n",
       "      <td>87.521739</td>\n",
       "      <td>108.000000</td>\n",
       "      <td>56.4000</td>\n",
       "      <td>70.700000</td>\n",
       "      <td>24.086957</td>\n",
       "      <td>36.776667</td>\n",
       "      <td>96.478261</td>\n",
       "      <td>102.714286</td>\n",
       "      <td>13</td>\n",
       "    </tr>\n",
       "    <tr>\n",
       "      <th>4</th>\n",
       "      <td>18571406</td>\n",
       "      <td>23198317</td>\n",
       "      <td>30341422</td>\n",
       "      <td>69.00</td>\n",
       "      <td>1</td>\n",
       "      <td>0</td>\n",
       "      <td>M</td>\n",
       "      <td>79.060470</td>\n",
       "      <td>WHITE</td>\n",
       "      <td>38.0</td>\n",
       "      <td>38.0</td>\n",
       "      <td>13.2</td>\n",
       "      <td>13.2</td>\n",
       "      <td>262.0</td>\n",
       "      <td>262.0</td>\n",
       "      <td>10.8</td>\n",
       "      <td>10.8</td>\n",
       "      <td>18.0</td>\n",
       "      <td>18.0</td>\n",
       "      <td>21.0</td>\n",
       "      <td>21.0</td>\n",
       "      <td>19.0</td>\n",
       "      <td>19.0</td>\n",
       "      <td>9.4</td>\n",
       "      <td>9.4</td>\n",
       "      <td>106.0</td>\n",
       "      <td>106.0</td>\n",
       "      <td>1.3</td>\n",
       "      <td>1.3</td>\n",
       "      <td>126.0</td>\n",
       "      <td>126.0</td>\n",
       "      <td>141.0</td>\n",
       "      <td>141.0</td>\n",
       "      <td>3.7</td>\n",
       "      <td>3.7</td>\n",
       "      <td>1.2</td>\n",
       "      <td>13.8</td>\n",
       "      <td>35.6</td>\n",
       "      <td>90.318182</td>\n",
       "      <td>140.800000</td>\n",
       "      <td>71.8500</td>\n",
       "      <td>88.285714</td>\n",
       "      <td>21.000000</td>\n",
       "      <td>36.620000</td>\n",
       "      <td>95.782609</td>\n",
       "      <td>124.000000</td>\n",
       "      <td>15</td>\n",
       "    </tr>\n",
       "  </tbody>\n",
       "</table>\n",
       "</div>"
      ],
      "text/plain": [
       "   subject_id   hadm_id   stay_id  weight  aki_stage  delay_rrt gender  \\\n",
       "0    19518348  24328934  30041848  104.50          1          1      M   \n",
       "1    18070922  27400972  30078723  100.00          1          1      M   \n",
       "2    17414351  23018977  30254621   98.95          3          0      M   \n",
       "3    17555267  21215796  30326472  105.70          3          1      F   \n",
       "4    18571406  23198317  30341422   69.00          1          0      M   \n",
       "\n",
       "   admission_age               ethnicity  hematocrit_min  hematocrit_max  \\\n",
       "0      66.262081                 UNKNOWN            31.4            31.9   \n",
       "1      70.489938  BLACK/AFRICAN AMERICAN            34.0            34.2   \n",
       "2      37.700917                 UNKNOWN            27.1            29.4   \n",
       "3      59.967156                   WHITE            25.0            30.9   \n",
       "4      79.060470                   WHITE            38.0            38.0   \n",
       "\n",
       "   hemoglobin_min  hemoglobin_max  platelets_min  platelets_max  wbc_min  \\\n",
       "0            11.3            11.3          246.0          247.0     11.2   \n",
       "1            11.3            11.4          185.0          186.0     12.1   \n",
       "2             9.9            10.4          185.0          252.0     22.4   \n",
       "3             8.1            10.1           70.0          107.0      7.6   \n",
       "4            13.2            13.2          262.0          262.0     10.8   \n",
       "\n",
       "   wbc_max  aniongap_min  aniongap_max  bicarbonate_min  bicarbonate_max  \\\n",
       "0     11.2          20.0          23.0             23.0             24.0   \n",
       "1     13.5          14.0          16.0             20.0             21.0   \n",
       "2     31.1          26.0          30.0             15.0             18.0   \n",
       "3     14.5          11.0          13.0             19.0             23.0   \n",
       "4     10.8          18.0          18.0             21.0             21.0   \n",
       "\n",
       "   bun_min  bun_max  calcium_min  calcium_max  chloride_min  chloride_max  \\\n",
       "0    109.0    114.0          8.7          9.5         106.0         114.0   \n",
       "1     36.0     41.0          7.5          7.7         103.0         104.0   \n",
       "2     40.0     53.0          7.4         10.2          73.0          76.0   \n",
       "3     15.0     16.0          7.5          7.8         106.0         110.0   \n",
       "4     19.0     19.0          9.4          9.4         106.0         106.0   \n",
       "\n",
       "   creatinine_min  creatinine_max  glucose_min  glucose_max  sodium_min  \\\n",
       "0             3.0             3.1        172.0        317.0       146.0   \n",
       "1             1.1             1.1        106.0        140.0       134.0   \n",
       "2             7.8            10.5        121.0        228.0       118.0   \n",
       "3             1.1             1.2         47.0        127.0       140.0   \n",
       "4             1.3             1.3        126.0        126.0       141.0   \n",
       "\n",
       "   sodium_max  potassium_min  potassium_max  inr_max  pt_max  ptt_max  \\\n",
       "0       154.0            3.9            4.1      1.3    14.6     47.5   \n",
       "1       135.0            4.4            4.8      1.3    13.9     25.0   \n",
       "2       119.0            3.3            3.8      2.6    27.5     36.0   \n",
       "3       141.0            3.2            4.0      2.6    28.4     51.3   \n",
       "4       141.0            3.7            3.7      1.2    13.8     35.6   \n",
       "\n",
       "   heart_rate_mean    sbp_mean  dbp_mean   mbp_mean  resp_rate_mean  \\\n",
       "0        89.625000  132.500000   68.5000  83.090909       21.673077   \n",
       "1        84.208333  107.500000   56.4600  74.019231       17.134615   \n",
       "2        80.956522  101.958333   52.4375  67.541667       20.000000   \n",
       "3        87.521739  108.000000   56.4000  70.700000       24.086957   \n",
       "4        90.318182  140.800000   71.8500  88.285714       21.000000   \n",
       "\n",
       "   temperature_mean  spo2_mean  glucose_mean  gcs_min  \n",
       "0         37.405000  96.909091    257.500000       10  \n",
       "1         36.978000  96.680000    123.666667        3  \n",
       "2         36.132143  95.250000    152.625000        6  \n",
       "3         36.776667  96.478261    102.714286       13  \n",
       "4         36.620000  95.782609    124.000000       15  "
      ]
     },
     "execution_count": 21,
     "metadata": {},
     "output_type": "execute_result"
    }
   ],
   "source": [
    "aki_data.head()"
   ]
  },
  {
   "cell_type": "code",
   "execution_count": 22,
   "id": "50730e8e",
   "metadata": {},
   "outputs": [
    {
     "name": "stdout",
     "output_type": "stream",
     "text": [
      "<class 'pandas.core.frame.DataFrame'>\n",
      "Int64Index: 1786 entries, 0 to 2109\n",
      "Data columns (total 47 columns):\n",
      " #   Column            Non-Null Count  Dtype  \n",
      "---  ------            --------------  -----  \n",
      " 0   subject_id        1786 non-null   int64  \n",
      " 1   hadm_id           1786 non-null   int64  \n",
      " 2   stay_id           1786 non-null   int64  \n",
      " 3   weight            1786 non-null   float64\n",
      " 4   aki_stage         1786 non-null   int64  \n",
      " 5   delay_rrt         1786 non-null   int64  \n",
      " 6   gender            1786 non-null   object \n",
      " 7   admission_age     1786 non-null   float64\n",
      " 8   ethnicity         1786 non-null   object \n",
      " 9   hematocrit_min    1786 non-null   float64\n",
      " 10  hematocrit_max    1786 non-null   float64\n",
      " 11  hemoglobin_min    1786 non-null   float64\n",
      " 12  hemoglobin_max    1786 non-null   float64\n",
      " 13  platelets_min     1786 non-null   float64\n",
      " 14  platelets_max     1786 non-null   float64\n",
      " 15  wbc_min           1786 non-null   float64\n",
      " 16  wbc_max           1786 non-null   float64\n",
      " 17  aniongap_min      1786 non-null   float64\n",
      " 18  aniongap_max      1786 non-null   float64\n",
      " 19  bicarbonate_min   1786 non-null   float64\n",
      " 20  bicarbonate_max   1786 non-null   float64\n",
      " 21  bun_min           1786 non-null   float64\n",
      " 22  bun_max           1786 non-null   float64\n",
      " 23  calcium_min       1786 non-null   float64\n",
      " 24  calcium_max       1786 non-null   float64\n",
      " 25  chloride_min      1786 non-null   float64\n",
      " 26  chloride_max      1786 non-null   float64\n",
      " 27  creatinine_min    1786 non-null   float64\n",
      " 28  creatinine_max    1786 non-null   float64\n",
      " 29  glucose_min       1786 non-null   float64\n",
      " 30  glucose_max       1786 non-null   float64\n",
      " 31  sodium_min        1786 non-null   float64\n",
      " 32  sodium_max        1786 non-null   float64\n",
      " 33  potassium_min     1786 non-null   float64\n",
      " 34  potassium_max     1786 non-null   float64\n",
      " 35  inr_max           1786 non-null   float64\n",
      " 36  pt_max            1786 non-null   float64\n",
      " 37  ptt_max           1786 non-null   float64\n",
      " 38  heart_rate_mean   1786 non-null   float64\n",
      " 39  sbp_mean          1786 non-null   float64\n",
      " 40  dbp_mean          1786 non-null   float64\n",
      " 41  mbp_mean          1786 non-null   float64\n",
      " 42  resp_rate_mean    1786 non-null   float64\n",
      " 43  temperature_mean  1786 non-null   float64\n",
      " 44  spo2_mean         1786 non-null   float64\n",
      " 45  glucose_mean      1786 non-null   float64\n",
      " 46  gcs_min           1786 non-null   int64  \n",
      "dtypes: float64(39), int64(6), object(2)\n",
      "memory usage: 669.8+ KB\n"
     ]
    }
   ],
   "source": [
    "aki_data.info()"
   ]
  },
  {
   "cell_type": "markdown",
   "id": "4f0107d7",
   "metadata": {},
   "source": [
    "## categorical data"
   ]
  },
  {
   "cell_type": "code",
   "execution_count": 23,
   "id": "68149b00",
   "metadata": {},
   "outputs": [],
   "source": [
    "# should be categorical\n",
    "aki_data[['subject_id','hadm_id','stay_id']] = aki_data[['subject_id','hadm_id','stay_id']].astype(str)"
   ]
  },
  {
   "cell_type": "code",
   "execution_count": 24,
   "id": "f102c5b4",
   "metadata": {},
   "outputs": [],
   "source": [
    "# select only categorical columns\n",
    "nom_aki = aki_data.select_dtypes(include='object').copy()"
   ]
  },
  {
   "cell_type": "code",
   "execution_count": 25,
   "id": "068aaeac",
   "metadata": {},
   "outputs": [
    {
     "name": "stdout",
     "output_type": "stream",
     "text": [
      "<class 'pandas.core.frame.DataFrame'>\n",
      "Int64Index: 1786 entries, 0 to 2109\n",
      "Data columns (total 5 columns):\n",
      " #   Column      Non-Null Count  Dtype \n",
      "---  ------      --------------  ----- \n",
      " 0   subject_id  1786 non-null   object\n",
      " 1   hadm_id     1786 non-null   object\n",
      " 2   stay_id     1786 non-null   object\n",
      " 3   gender      1786 non-null   object\n",
      " 4   ethnicity   1786 non-null   object\n",
      "dtypes: object(5)\n",
      "memory usage: 83.7+ KB\n"
     ]
    }
   ],
   "source": [
    "nom_aki.info()"
   ]
  },
  {
   "cell_type": "code",
   "execution_count": 26,
   "id": "4ee2a419",
   "metadata": {},
   "outputs": [
    {
     "data": {
      "text/plain": [
       "0"
      ]
     },
     "execution_count": 26,
     "metadata": {},
     "output_type": "execute_result"
    }
   ],
   "source": [
    "# no duplicates\n",
    "nom_aki['subject_id'].duplicated().sum()"
   ]
  },
  {
   "cell_type": "code",
   "execution_count": 27,
   "id": "639d5645",
   "metadata": {},
   "outputs": [
    {
     "data": {
      "text/plain": [
       "0"
      ]
     },
     "execution_count": 27,
     "metadata": {},
     "output_type": "execute_result"
    }
   ],
   "source": [
    "nom_aki['hadm_id'].duplicated().sum()"
   ]
  },
  {
   "cell_type": "code",
   "execution_count": 28,
   "id": "d94813c5",
   "metadata": {},
   "outputs": [
    {
     "data": {
      "text/plain": [
       "0"
      ]
     },
     "execution_count": 28,
     "metadata": {},
     "output_type": "execute_result"
    }
   ],
   "source": [
    "nom_aki['stay_id'].duplicated().sum()"
   ]
  },
  {
   "cell_type": "markdown",
   "id": "7d1f83a5",
   "metadata": {},
   "source": [
    "**gender**"
   ]
  },
  {
   "cell_type": "code",
   "execution_count": 29,
   "id": "ecceda71",
   "metadata": {},
   "outputs": [
    {
     "data": {
      "text/plain": [
       "M    1077\n",
       "F     709\n",
       "Name: gender, dtype: int64"
      ]
     },
     "execution_count": 29,
     "metadata": {},
     "output_type": "execute_result"
    }
   ],
   "source": [
    "nom_aki['gender'].value_counts()"
   ]
  },
  {
   "cell_type": "code",
   "execution_count": 30,
   "id": "6a70320d",
   "metadata": {},
   "outputs": [],
   "source": [
    "nom_aki['delay_rrt'] = aki_data['delay_rrt']"
   ]
  },
  {
   "cell_type": "code",
   "execution_count": 31,
   "id": "d737cf14",
   "metadata": {},
   "outputs": [
    {
     "name": "stderr",
     "output_type": "stream",
     "text": [
      "C:\\Users\\USER\\anaconda3\\envs\\dsi24\\lib\\site-packages\\seaborn\\_decorators.py:36: FutureWarning: Pass the following variables as keyword args: x, y. From version 0.12, the only valid positional argument will be `data`, and passing other arguments without an explicit keyword will result in an error or misinterpretation.\n",
      "  warnings.warn(\n"
     ]
    },
    {
     "data": {
      "image/png": "[encoded data removed]",
      "text/plain": [
       "<Figure size 432x288 with 1 Axes>"
      ]
     },
     "metadata": {
      "needs_background": "light"
     },
     "output_type": "display_data"
    }
   ],
   "source": [
    "gender_count=nom_aki['gender'].value_counts()\n",
    "sns.barplot(gender_count.index,gender_count.values);\n",
    "plt.title('frequency distribution')\n",
    "plt.ylabel('frequency distribution', fontsize=12)\n",
    "plt.xlabel('gender', fontsize=12);"
   ]
  },
  {
   "cell_type": "code",
   "execution_count": 32,
   "id": "705b1666",
   "metadata": {},
   "outputs": [],
   "source": [
    "# convert gender to numerical\n",
    "nom_aki['gender']=nom_aki['gender'].apply(lambda x: 1 if x=='M' else 0)"
   ]
  },
  {
   "cell_type": "code",
   "execution_count": 33,
   "id": "f04e062f",
   "metadata": {},
   "outputs": [
    {
     "data": {
      "text/plain": [
       "1    1077\n",
       "0     709\n",
       "Name: gender, dtype: int64"
      ]
     },
     "execution_count": 33,
     "metadata": {},
     "output_type": "execute_result"
    }
   ],
   "source": [
    "nom_aki['gender'].value_counts()"
   ]
  },
  {
   "cell_type": "markdown",
   "id": "3660f09e",
   "metadata": {},
   "source": [
    "**ethnicity**"
   ]
  },
  {
   "cell_type": "code",
   "execution_count": 34,
   "id": "a01d024b",
   "metadata": {},
   "outputs": [
    {
     "data": {
      "text/plain": [
       "array(['UNKNOWN', 'BLACK/AFRICAN AMERICAN', 'WHITE', 'UNABLE TO OBTAIN',\n",
       "       'HISPANIC/LATINO', 'OTHER', 'AMERICAN INDIAN/ALASKA NATIVE',\n",
       "       'ASIAN'], dtype=object)"
      ]
     },
     "execution_count": 34,
     "metadata": {},
     "output_type": "execute_result"
    }
   ],
   "source": [
    "nom_aki['ethnicity'].unique()"
   ]
  },
  {
   "cell_type": "code",
   "execution_count": 35,
   "id": "6f2ea545",
   "metadata": {},
   "outputs": [
    {
     "data": {
      "text/plain": [
       "WHITE                            1010\n",
       "UNKNOWN                           285\n",
       "BLACK/AFRICAN AMERICAN            230\n",
       "OTHER                              88\n",
       "HISPANIC/LATINO                    83\n",
       "ASIAN                              43\n",
       "UNABLE TO OBTAIN                   41\n",
       "AMERICAN INDIAN/ALASKA NATIVE       6\n",
       "Name: ethnicity, dtype: int64"
      ]
     },
     "execution_count": 35,
     "metadata": {},
     "output_type": "execute_result"
    }
   ],
   "source": [
    "nom_aki['ethnicity'].value_counts()"
   ]
  },
  {
   "cell_type": "code",
   "execution_count": 36,
   "id": "5b5411a0",
   "metadata": {},
   "outputs": [
    {
     "name": "stderr",
     "output_type": "stream",
     "text": [
      "<ipython-input-36-9b6547cef298>:2: FutureWarning: The default value of regex will change from True to False in a future version.\n",
      "  nom_aki['ethnicity'] = nom_aki['ethnicity'].str.replace(' |/','_')\n"
     ]
    }
   ],
   "source": [
    "nom_aki['ethnicity'] = nom_aki['ethnicity'].str.lower()\n",
    "nom_aki['ethnicity'] = nom_aki['ethnicity'].str.replace(' |/','_')"
   ]
  },
  {
   "cell_type": "code",
   "execution_count": 37,
   "id": "63910638",
   "metadata": {},
   "outputs": [
    {
     "data": {
      "text/plain": [
       "0.5655095184770437"
      ]
     },
     "execution_count": 37,
     "metadata": {},
     "output_type": "execute_result"
    }
   ],
   "source": [
    "# whites has the biggest percentage\n",
    "max(nom_aki['ethnicity'].value_counts())/len(nom_aki)"
   ]
  },
  {
   "cell_type": "code",
   "execution_count": 38,
   "id": "8cd710ae",
   "metadata": {},
   "outputs": [
    {
     "data": {
      "text/plain": [
       "array(['unknown', 'black_african_american', 'white', 'unable_to_obtain',\n",
       "       'hispanic_latino', 'other', 'american_indian_alaska_native',\n",
       "       'asian'], dtype=object)"
      ]
     },
     "execution_count": 38,
     "metadata": {},
     "output_type": "execute_result"
    }
   ],
   "source": [
    "nom_aki['ethnicity'].unique()"
   ]
  },
  {
   "cell_type": "code",
   "execution_count": 39,
   "id": "e4ac832a",
   "metadata": {},
   "outputs": [],
   "source": [
    "ethnic_label = {'unknown': 'unknown', \n",
    "                'black_african_american': 'black', \n",
    "                'white': 'white',\n",
    "                'unable_to_obtain': 'unknown', \n",
    "               'hispanic_latino': 'latino', \n",
    "                'other': 'minorities', \n",
    "                'american_indian_alaska_native': 'minorities', \n",
    "                'asian': 'minorities' }"
   ]
  },
  {
   "cell_type": "code",
   "execution_count": 40,
   "id": "15924ccd",
   "metadata": {},
   "outputs": [],
   "source": [
    "# grouped 'unknown','unable to obtain' as 'unknown'\n",
    "# grouped 'other', 'asian', 'native' as 'minorities'\n",
    "nom_aki['ethnicity'] = nom_aki['ethnicity'].map(ethnic_label)"
   ]
  },
  {
   "cell_type": "code",
   "execution_count": 41,
   "id": "b3be5c92",
   "metadata": {},
   "outputs": [
    {
     "name": "stderr",
     "output_type": "stream",
     "text": [
      "C:\\Users\\USER\\anaconda3\\envs\\dsi24\\lib\\site-packages\\seaborn\\_decorators.py:36: FutureWarning: Pass the following variables as keyword args: x, y. From version 0.12, the only valid positional argument will be `data`, and passing other arguments without an explicit keyword will result in an error or misinterpretation.\n",
      "  warnings.warn(\n"
     ]
    },
    {
     "data": {
      "image/png": "[encoded data removed]",
      "text/plain": [
       "<Figure size 432x288 with 1 Axes>"
      ]
     },
     "metadata": {
      "needs_background": "light"
     },
     "output_type": "display_data"
    }
   ],
   "source": [
    "ethnicity_count=nom_aki['ethnicity'].value_counts()\n",
    "sns.barplot(ethnicity_count.index,ethnicity_count.values);\n",
    "plt.title('frequency distribution ')\n",
    "plt.ylabel('frequency', fontsize=12)\n",
    "plt.xlabel('ethnicity', fontsize=12);"
   ]
  },
  {
   "cell_type": "code",
   "execution_count": 42,
   "id": "1f80d02c",
   "metadata": {},
   "outputs": [
    {
     "data": {
      "text/plain": [
       "white         1010\n",
       "unknown        326\n",
       "black          230\n",
       "minorities     137\n",
       "latino          83\n",
       "Name: ethnicity, dtype: int64"
      ]
     },
     "execution_count": 42,
     "metadata": {},
     "output_type": "execute_result"
    }
   ],
   "source": [
    "nom_aki['ethnicity'].value_counts()"
   ]
  },
  {
   "cell_type": "code",
   "execution_count": 43,
   "id": "bfb11b2a",
   "metadata": {},
   "outputs": [],
   "source": [
    "# nom_aki.drop(columns=['subject_id','hadm_id','stay_id'],inplace=True)"
   ]
  },
  {
   "cell_type": "code",
   "execution_count": 44,
   "id": "c35c93f8",
   "metadata": {},
   "outputs": [],
   "source": [
    "# current categorical\n",
    "aki_data.drop(columns=['subject_id','hadm_id','stay_id'],inplace=True)\n",
    "aki_data['gender']=aki_data['gender'].apply(lambda x: 1 if x=='M' else 0)"
   ]
  },
  {
   "cell_type": "code",
   "execution_count": 45,
   "id": "1337fc2a",
   "metadata": {},
   "outputs": [
    {
     "name": "stderr",
     "output_type": "stream",
     "text": [
      "<ipython-input-45-ecc270d2bdb2>:3: FutureWarning: The default value of regex will change from True to False in a future version.\n",
      "  aki_data['ethnicity'] = aki_data['ethnicity'].str.replace(' |/','_')\n"
     ]
    }
   ],
   "source": [
    "# current categorical ethnicity\n",
    "aki_data['ethnicity'] = aki_data['ethnicity'].str.lower()\n",
    "aki_data['ethnicity'] = aki_data['ethnicity'].str.replace(' |/','_')\n",
    "aki_data['ethnicity'] = aki_data['ethnicity'].map(ethnic_label)"
   ]
  },
  {
   "cell_type": "markdown",
   "id": "926eeb19",
   "metadata": {},
   "source": [
    "**summary**\n",
    "<br> For categorical data, 'subject_id', 'hadm_id', and 'stay_id' will be dropped, since they are unique, with low/none predictive power. This will leave **gender**, and **ethnicity**."
   ]
  },
  {
   "cell_type": "markdown",
   "id": "e2e16e69",
   "metadata": {},
   "source": [
    "## continuous data"
   ]
  },
  {
   "cell_type": "code",
   "execution_count": 46,
   "id": "d5f8c2a5",
   "metadata": {},
   "outputs": [],
   "source": [
    "num_aki = aki_data.select_dtypes(include=['int64','float64']).copy()"
   ]
  },
  {
   "cell_type": "code",
   "execution_count": 47,
   "id": "bba00b96",
   "metadata": {},
   "outputs": [
    {
     "data": {
      "text/html": [
       "<div>\n",
       "<style scoped>\n",
       "    .dataframe tbody tr th:only-of-type {\n",
       "        vertical-align: middle;\n",
       "    }\n",
       "\n",
       "    .dataframe tbody tr th {\n",
       "        vertical-align: top;\n",
       "    }\n",
       "\n",
       "    .dataframe thead th {\n",
       "        text-align: right;\n",
       "    }\n",
       "</style>\n",
       "<table border=\"1\" class=\"dataframe\">\n",
       "  <thead>\n",
       "    <tr style=\"text-align: right;\">\n",
       "      <th></th>\n",
       "      <th>weight</th>\n",
       "      <th>aki_stage</th>\n",
       "      <th>delay_rrt</th>\n",
       "      <th>gender</th>\n",
       "      <th>admission_age</th>\n",
       "      <th>hematocrit_min</th>\n",
       "      <th>hematocrit_max</th>\n",
       "      <th>hemoglobin_min</th>\n",
       "      <th>hemoglobin_max</th>\n",
       "      <th>platelets_min</th>\n",
       "      <th>platelets_max</th>\n",
       "      <th>wbc_min</th>\n",
       "      <th>wbc_max</th>\n",
       "      <th>aniongap_min</th>\n",
       "      <th>aniongap_max</th>\n",
       "      <th>bicarbonate_min</th>\n",
       "      <th>bicarbonate_max</th>\n",
       "      <th>bun_min</th>\n",
       "      <th>bun_max</th>\n",
       "      <th>calcium_min</th>\n",
       "      <th>calcium_max</th>\n",
       "      <th>chloride_min</th>\n",
       "      <th>chloride_max</th>\n",
       "      <th>creatinine_min</th>\n",
       "      <th>creatinine_max</th>\n",
       "      <th>glucose_min</th>\n",
       "      <th>glucose_max</th>\n",
       "      <th>sodium_min</th>\n",
       "      <th>sodium_max</th>\n",
       "      <th>potassium_min</th>\n",
       "      <th>potassium_max</th>\n",
       "      <th>inr_max</th>\n",
       "      <th>pt_max</th>\n",
       "      <th>ptt_max</th>\n",
       "      <th>heart_rate_mean</th>\n",
       "      <th>sbp_mean</th>\n",
       "      <th>dbp_mean</th>\n",
       "      <th>mbp_mean</th>\n",
       "      <th>resp_rate_mean</th>\n",
       "      <th>temperature_mean</th>\n",
       "      <th>spo2_mean</th>\n",
       "      <th>glucose_mean</th>\n",
       "      <th>gcs_min</th>\n",
       "    </tr>\n",
       "  </thead>\n",
       "  <tbody>\n",
       "    <tr>\n",
       "      <th>0</th>\n",
       "      <td>104.50</td>\n",
       "      <td>1</td>\n",
       "      <td>1</td>\n",
       "      <td>1</td>\n",
       "      <td>66.262081</td>\n",
       "      <td>31.4</td>\n",
       "      <td>31.9</td>\n",
       "      <td>11.3</td>\n",
       "      <td>11.3</td>\n",
       "      <td>246.0</td>\n",
       "      <td>247.0</td>\n",
       "      <td>11.2</td>\n",
       "      <td>11.2</td>\n",
       "      <td>20.0</td>\n",
       "      <td>23.0</td>\n",
       "      <td>23.0</td>\n",
       "      <td>24.0</td>\n",
       "      <td>109.0</td>\n",
       "      <td>114.0</td>\n",
       "      <td>8.7</td>\n",
       "      <td>9.5</td>\n",
       "      <td>106.0</td>\n",
       "      <td>114.0</td>\n",
       "      <td>3.0</td>\n",
       "      <td>3.1</td>\n",
       "      <td>172.0</td>\n",
       "      <td>317.0</td>\n",
       "      <td>146.0</td>\n",
       "      <td>154.0</td>\n",
       "      <td>3.9</td>\n",
       "      <td>4.1</td>\n",
       "      <td>1.3</td>\n",
       "      <td>14.6</td>\n",
       "      <td>47.5</td>\n",
       "      <td>89.625000</td>\n",
       "      <td>132.500000</td>\n",
       "      <td>68.5000</td>\n",
       "      <td>83.090909</td>\n",
       "      <td>21.673077</td>\n",
       "      <td>37.405000</td>\n",
       "      <td>96.909091</td>\n",
       "      <td>257.500000</td>\n",
       "      <td>10</td>\n",
       "    </tr>\n",
       "    <tr>\n",
       "      <th>1</th>\n",
       "      <td>100.00</td>\n",
       "      <td>1</td>\n",
       "      <td>1</td>\n",
       "      <td>1</td>\n",
       "      <td>70.489938</td>\n",
       "      <td>34.0</td>\n",
       "      <td>34.2</td>\n",
       "      <td>11.3</td>\n",
       "      <td>11.4</td>\n",
       "      <td>185.0</td>\n",
       "      <td>186.0</td>\n",
       "      <td>12.1</td>\n",
       "      <td>13.5</td>\n",
       "      <td>14.0</td>\n",
       "      <td>16.0</td>\n",
       "      <td>20.0</td>\n",
       "      <td>21.0</td>\n",
       "      <td>36.0</td>\n",
       "      <td>41.0</td>\n",
       "      <td>7.5</td>\n",
       "      <td>7.7</td>\n",
       "      <td>103.0</td>\n",
       "      <td>104.0</td>\n",
       "      <td>1.1</td>\n",
       "      <td>1.1</td>\n",
       "      <td>106.0</td>\n",
       "      <td>140.0</td>\n",
       "      <td>134.0</td>\n",
       "      <td>135.0</td>\n",
       "      <td>4.4</td>\n",
       "      <td>4.8</td>\n",
       "      <td>1.3</td>\n",
       "      <td>13.9</td>\n",
       "      <td>25.0</td>\n",
       "      <td>84.208333</td>\n",
       "      <td>107.500000</td>\n",
       "      <td>56.4600</td>\n",
       "      <td>74.019231</td>\n",
       "      <td>17.134615</td>\n",
       "      <td>36.978000</td>\n",
       "      <td>96.680000</td>\n",
       "      <td>123.666667</td>\n",
       "      <td>3</td>\n",
       "    </tr>\n",
       "    <tr>\n",
       "      <th>2</th>\n",
       "      <td>98.95</td>\n",
       "      <td>3</td>\n",
       "      <td>0</td>\n",
       "      <td>1</td>\n",
       "      <td>37.700917</td>\n",
       "      <td>27.1</td>\n",
       "      <td>29.4</td>\n",
       "      <td>9.9</td>\n",
       "      <td>10.4</td>\n",
       "      <td>185.0</td>\n",
       "      <td>252.0</td>\n",
       "      <td>22.4</td>\n",
       "      <td>31.1</td>\n",
       "      <td>26.0</td>\n",
       "      <td>30.0</td>\n",
       "      <td>15.0</td>\n",
       "      <td>18.0</td>\n",
       "      <td>40.0</td>\n",
       "      <td>53.0</td>\n",
       "      <td>7.4</td>\n",
       "      <td>10.2</td>\n",
       "      <td>73.0</td>\n",
       "      <td>76.0</td>\n",
       "      <td>7.8</td>\n",
       "      <td>10.5</td>\n",
       "      <td>121.0</td>\n",
       "      <td>228.0</td>\n",
       "      <td>118.0</td>\n",
       "      <td>119.0</td>\n",
       "      <td>3.3</td>\n",
       "      <td>3.8</td>\n",
       "      <td>2.6</td>\n",
       "      <td>27.5</td>\n",
       "      <td>36.0</td>\n",
       "      <td>80.956522</td>\n",
       "      <td>101.958333</td>\n",
       "      <td>52.4375</td>\n",
       "      <td>67.541667</td>\n",
       "      <td>20.000000</td>\n",
       "      <td>36.132143</td>\n",
       "      <td>95.250000</td>\n",
       "      <td>152.625000</td>\n",
       "      <td>6</td>\n",
       "    </tr>\n",
       "    <tr>\n",
       "      <th>3</th>\n",
       "      <td>105.70</td>\n",
       "      <td>3</td>\n",
       "      <td>1</td>\n",
       "      <td>0</td>\n",
       "      <td>59.967156</td>\n",
       "      <td>25.0</td>\n",
       "      <td>30.9</td>\n",
       "      <td>8.1</td>\n",
       "      <td>10.1</td>\n",
       "      <td>70.0</td>\n",
       "      <td>107.0</td>\n",
       "      <td>7.6</td>\n",
       "      <td>14.5</td>\n",
       "      <td>11.0</td>\n",
       "      <td>13.0</td>\n",
       "      <td>19.0</td>\n",
       "      <td>23.0</td>\n",
       "      <td>15.0</td>\n",
       "      <td>16.0</td>\n",
       "      <td>7.5</td>\n",
       "      <td>7.8</td>\n",
       "      <td>106.0</td>\n",
       "      <td>110.0</td>\n",
       "      <td>1.1</td>\n",
       "      <td>1.2</td>\n",
       "      <td>47.0</td>\n",
       "      <td>127.0</td>\n",
       "      <td>140.0</td>\n",
       "      <td>141.0</td>\n",
       "      <td>3.2</td>\n",
       "      <td>4.0</td>\n",
       "      <td>2.6</td>\n",
       "      <td>28.4</td>\n",
       "      <td>51.3</td>\n",
       "      <td>87.521739</td>\n",
       "      <td>108.000000</td>\n",
       "      <td>56.4000</td>\n",
       "      <td>70.700000</td>\n",
       "      <td>24.086957</td>\n",
       "      <td>36.776667</td>\n",
       "      <td>96.478261</td>\n",
       "      <td>102.714286</td>\n",
       "      <td>13</td>\n",
       "    </tr>\n",
       "    <tr>\n",
       "      <th>4</th>\n",
       "      <td>69.00</td>\n",
       "      <td>1</td>\n",
       "      <td>0</td>\n",
       "      <td>1</td>\n",
       "      <td>79.060470</td>\n",
       "      <td>38.0</td>\n",
       "      <td>38.0</td>\n",
       "      <td>13.2</td>\n",
       "      <td>13.2</td>\n",
       "      <td>262.0</td>\n",
       "      <td>262.0</td>\n",
       "      <td>10.8</td>\n",
       "      <td>10.8</td>\n",
       "      <td>18.0</td>\n",
       "      <td>18.0</td>\n",
       "      <td>21.0</td>\n",
       "      <td>21.0</td>\n",
       "      <td>19.0</td>\n",
       "      <td>19.0</td>\n",
       "      <td>9.4</td>\n",
       "      <td>9.4</td>\n",
       "      <td>106.0</td>\n",
       "      <td>106.0</td>\n",
       "      <td>1.3</td>\n",
       "      <td>1.3</td>\n",
       "      <td>126.0</td>\n",
       "      <td>126.0</td>\n",
       "      <td>141.0</td>\n",
       "      <td>141.0</td>\n",
       "      <td>3.7</td>\n",
       "      <td>3.7</td>\n",
       "      <td>1.2</td>\n",
       "      <td>13.8</td>\n",
       "      <td>35.6</td>\n",
       "      <td>90.318182</td>\n",
       "      <td>140.800000</td>\n",
       "      <td>71.8500</td>\n",
       "      <td>88.285714</td>\n",
       "      <td>21.000000</td>\n",
       "      <td>36.620000</td>\n",
       "      <td>95.782609</td>\n",
       "      <td>124.000000</td>\n",
       "      <td>15</td>\n",
       "    </tr>\n",
       "  </tbody>\n",
       "</table>\n",
       "</div>"
      ],
      "text/plain": [
       "   weight  aki_stage  delay_rrt  gender  admission_age  hematocrit_min  \\\n",
       "0  104.50          1          1       1      66.262081            31.4   \n",
       "1  100.00          1          1       1      70.489938            34.0   \n",
       "2   98.95          3          0       1      37.700917            27.1   \n",
       "3  105.70          3          1       0      59.967156            25.0   \n",
       "4   69.00          1          0       1      79.060470            38.0   \n",
       "\n",
       "   hematocrit_max  hemoglobin_min  hemoglobin_max  platelets_min  \\\n",
       "0            31.9            11.3            11.3          246.0   \n",
       "1            34.2            11.3            11.4          185.0   \n",
       "2            29.4             9.9            10.4          185.0   \n",
       "3            30.9             8.1            10.1           70.0   \n",
       "4            38.0            13.2            13.2          262.0   \n",
       "\n",
       "   platelets_max  wbc_min  wbc_max  aniongap_min  aniongap_max  \\\n",
       "0          247.0     11.2     11.2          20.0          23.0   \n",
       "1          186.0     12.1     13.5          14.0          16.0   \n",
       "2          252.0     22.4     31.1          26.0          30.0   \n",
       "3          107.0      7.6     14.5          11.0          13.0   \n",
       "4          262.0     10.8     10.8          18.0          18.0   \n",
       "\n",
       "   bicarbonate_min  bicarbonate_max  bun_min  bun_max  calcium_min  \\\n",
       "0             23.0             24.0    109.0    114.0          8.7   \n",
       "1             20.0             21.0     36.0     41.0          7.5   \n",
       "2             15.0             18.0     40.0     53.0          7.4   \n",
       "3             19.0             23.0     15.0     16.0          7.5   \n",
       "4             21.0             21.0     19.0     19.0          9.4   \n",
       "\n",
       "   calcium_max  chloride_min  chloride_max  creatinine_min  creatinine_max  \\\n",
       "0          9.5         106.0         114.0             3.0             3.1   \n",
       "1          7.7         103.0         104.0             1.1             1.1   \n",
       "2         10.2          73.0          76.0             7.8            10.5   \n",
       "3          7.8         106.0         110.0             1.1             1.2   \n",
       "4          9.4         106.0         106.0             1.3             1.3   \n",
       "\n",
       "   glucose_min  glucose_max  sodium_min  sodium_max  potassium_min  \\\n",
       "0        172.0        317.0       146.0       154.0            3.9   \n",
       "1        106.0        140.0       134.0       135.0            4.4   \n",
       "2        121.0        228.0       118.0       119.0            3.3   \n",
       "3         47.0        127.0       140.0       141.0            3.2   \n",
       "4        126.0        126.0       141.0       141.0            3.7   \n",
       "\n",
       "   potassium_max  inr_max  pt_max  ptt_max  heart_rate_mean    sbp_mean  \\\n",
       "0            4.1      1.3    14.6     47.5        89.625000  132.500000   \n",
       "1            4.8      1.3    13.9     25.0        84.208333  107.500000   \n",
       "2            3.8      2.6    27.5     36.0        80.956522  101.958333   \n",
       "3            4.0      2.6    28.4     51.3        87.521739  108.000000   \n",
       "4            3.7      1.2    13.8     35.6        90.318182  140.800000   \n",
       "\n",
       "   dbp_mean   mbp_mean  resp_rate_mean  temperature_mean  spo2_mean  \\\n",
       "0   68.5000  83.090909       21.673077         37.405000  96.909091   \n",
       "1   56.4600  74.019231       17.134615         36.978000  96.680000   \n",
       "2   52.4375  67.541667       20.000000         36.132143  95.250000   \n",
       "3   56.4000  70.700000       24.086957         36.776667  96.478261   \n",
       "4   71.8500  88.285714       21.000000         36.620000  95.782609   \n",
       "\n",
       "   glucose_mean  gcs_min  \n",
       "0    257.500000       10  \n",
       "1    123.666667        3  \n",
       "2    152.625000        6  \n",
       "3    102.714286       13  \n",
       "4    124.000000       15  "
      ]
     },
     "execution_count": 47,
     "metadata": {},
     "output_type": "execute_result"
    }
   ],
   "source": [
    "num_aki.head()"
   ]
  },
  {
   "cell_type": "code",
   "execution_count": 48,
   "id": "a3876e22",
   "metadata": {},
   "outputs": [
    {
     "name": "stdout",
     "output_type": "stream",
     "text": [
      "<class 'pandas.core.frame.DataFrame'>\n",
      "Int64Index: 1786 entries, 0 to 2109\n",
      "Data columns (total 43 columns):\n",
      " #   Column            Non-Null Count  Dtype  \n",
      "---  ------            --------------  -----  \n",
      " 0   weight            1786 non-null   float64\n",
      " 1   aki_stage         1786 non-null   int64  \n",
      " 2   delay_rrt         1786 non-null   int64  \n",
      " 3   gender            1786 non-null   int64  \n",
      " 4   admission_age     1786 non-null   float64\n",
      " 5   hematocrit_min    1786 non-null   float64\n",
      " 6   hematocrit_max    1786 non-null   float64\n",
      " 7   hemoglobin_min    1786 non-null   float64\n",
      " 8   hemoglobin_max    1786 non-null   float64\n",
      " 9   platelets_min     1786 non-null   float64\n",
      " 10  platelets_max     1786 non-null   float64\n",
      " 11  wbc_min           1786 non-null   float64\n",
      " 12  wbc_max           1786 non-null   float64\n",
      " 13  aniongap_min      1786 non-null   float64\n",
      " 14  aniongap_max      1786 non-null   float64\n",
      " 15  bicarbonate_min   1786 non-null   float64\n",
      " 16  bicarbonate_max   1786 non-null   float64\n",
      " 17  bun_min           1786 non-null   float64\n",
      " 18  bun_max           1786 non-null   float64\n",
      " 19  calcium_min       1786 non-null   float64\n",
      " 20  calcium_max       1786 non-null   float64\n",
      " 21  chloride_min      1786 non-null   float64\n",
      " 22  chloride_max      1786 non-null   float64\n",
      " 23  creatinine_min    1786 non-null   float64\n",
      " 24  creatinine_max    1786 non-null   float64\n",
      " 25  glucose_min       1786 non-null   float64\n",
      " 26  glucose_max       1786 non-null   float64\n",
      " 27  sodium_min        1786 non-null   float64\n",
      " 28  sodium_max        1786 non-null   float64\n",
      " 29  potassium_min     1786 non-null   float64\n",
      " 30  potassium_max     1786 non-null   float64\n",
      " 31  inr_max           1786 non-null   float64\n",
      " 32  pt_max            1786 non-null   float64\n",
      " 33  ptt_max           1786 non-null   float64\n",
      " 34  heart_rate_mean   1786 non-null   float64\n",
      " 35  sbp_mean          1786 non-null   float64\n",
      " 36  dbp_mean          1786 non-null   float64\n",
      " 37  mbp_mean          1786 non-null   float64\n",
      " 38  resp_rate_mean    1786 non-null   float64\n",
      " 39  temperature_mean  1786 non-null   float64\n",
      " 40  spo2_mean         1786 non-null   float64\n",
      " 41  glucose_mean      1786 non-null   float64\n",
      " 42  gcs_min           1786 non-null   int64  \n",
      "dtypes: float64(39), int64(4)\n",
      "memory usage: 613.9 KB\n"
     ]
    }
   ],
   "source": [
    "num_aki.info()"
   ]
  },
  {
   "cell_type": "code",
   "execution_count": 49,
   "id": "8ba15056",
   "metadata": {},
   "outputs": [
    {
     "data": {
      "image/png": "[encoded data removed]",
      "text/plain": [
       "<Figure size 1080x3600 with 42 Axes>"
      ]
     },
     "metadata": {
      "needs_background": "light"
     },
     "output_type": "display_data"
    }
   ],
   "source": [
    "# plot overview distributions of numerical variables\n",
    "# determining number of columns\n",
    "ncols = 2\n",
    "cols = num_aki.columns\n",
    "\n",
    "# determining number of rows\n",
    "nrows = round(int(np.ceil(len(num_aki.columns)) / (1.0*ncols)))\n",
    "\n",
    "fig, axes = plt.subplots(nrows, ncols, figsize=(15,50))\n",
    "axes = axes.ravel()\n",
    "\n",
    "for col, ax in zip(cols, axes):\n",
    "    sns.histplot(data=num_aki[col], kde=True, stat='density', ax=ax)\n",
    "\n",
    "plt.tight_layout();"
   ]
  },
  {
   "cell_type": "markdown",
   "id": "883f9dbd",
   "metadata": {},
   "source": [
    "Most of these variables are not normally distributed. \n",
    "<br>'delay_rrt', our outcome variable is discrete [0,1].\n",
    "<br> 'aki_stage' is ordinal."
   ]
  },
  {
   "cell_type": "code",
   "execution_count": 50,
   "id": "b4bd985b",
   "metadata": {},
   "outputs": [
    {
     "data": {
      "image/png": "[encoded data removed]",
      "text/plain": [
       "<Figure size 432x288 with 1 Axes>"
      ]
     },
     "metadata": {
      "needs_background": "light"
     },
     "output_type": "display_data"
    }
   ],
   "source": [
    "plt.scatter(num_aki['admission_age'] ,num_aki['delay_rrt']);\n",
    "plt.title('delay_rrt by age')\n",
    "plt.xlabel('age')\n",
    "plt.ylabel('delay_rrt');"
   ]
  },
  {
   "cell_type": "markdown",
   "id": "57afb80b",
   "metadata": {},
   "source": [
    "**glucose_mean**"
   ]
  },
  {
   "cell_type": "code",
   "execution_count": 51,
   "id": "859c546b",
   "metadata": {},
   "outputs": [
    {
     "data": {
      "image/png": "[encoded data removed]",
      "text/plain": [
       "<Figure size 432x288 with 1 Axes>"
      ]
     },
     "metadata": {
      "needs_background": "light"
     },
     "output_type": "display_data"
    }
   ],
   "source": [
    "plt.scatter(num_aki['glucose_mean'] ,num_aki['delay_rrt']);\n",
    "plt.title('delay_rrt by mean of glucose')\n",
    "plt.xlabel('mean of glucose')\n",
    "plt.ylabel('delay_rrt');"
   ]
  },
  {
   "cell_type": "code",
   "execution_count": 52,
   "id": "db9551c9",
   "metadata": {},
   "outputs": [
    {
     "data": {
      "text/plain": [
       "count      1786.000000\n",
       "mean       1051.200171\n",
       "std       16100.410753\n",
       "min          62.000000\n",
       "25%         110.062500\n",
       "50%         136.333333\n",
       "75%         178.333333\n",
       "max      500037.500000\n",
       "Name: glucose_mean, dtype: float64"
      ]
     },
     "execution_count": 52,
     "metadata": {},
     "output_type": "execute_result"
    }
   ],
   "source": [
    "# glucose_mean looks suspicious\n",
    "num_aki['glucose_mean'].describe()"
   ]
  },
  {
   "cell_type": "code",
   "execution_count": 53,
   "id": "f08707f6",
   "metadata": {
    "scrolled": true
   },
   "outputs": [
    {
     "name": "stderr",
     "output_type": "stream",
     "text": [
      "C:\\Users\\USER\\anaconda3\\envs\\dsi24\\lib\\site-packages\\seaborn\\_decorators.py:36: FutureWarning: Pass the following variable as a keyword arg: x. From version 0.12, the only valid positional argument will be `data`, and passing other arguments without an explicit keyword will result in an error or misinterpretation.\n",
      "  warnings.warn(\n"
     ]
    },
    {
     "data": {
      "image/png": "[encoded data removed]",
      "text/plain": [
       "<Figure size 432x288 with 1 Axes>"
      ]
     },
     "metadata": {
      "needs_background": "light"
     },
     "output_type": "display_data"
    }
   ],
   "source": [
    "# check outliers for glucose_mean\n",
    "sns.boxplot(num_aki['glucose_mean']);"
   ]
  },
  {
   "cell_type": "code",
   "execution_count": 54,
   "id": "5e1a8254",
   "metadata": {},
   "outputs": [],
   "source": [
    "# remove outliers in glucose_mean\n",
    "num_aki = num_aki[num_aki['glucose_mean']<3000]\n",
    "aki_data = aki_data[aki_data['glucose_mean']<3000]"
   ]
  },
  {
   "cell_type": "markdown",
   "id": "07f0b00c",
   "metadata": {},
   "source": [
    "**weight**"
   ]
  },
  {
   "cell_type": "code",
   "execution_count": 55,
   "id": "ea13a840",
   "metadata": {},
   "outputs": [
    {
     "data": {
      "text/plain": [
       "count    1778.000000\n",
       "mean       87.692438\n",
       "std        26.077158\n",
       "min        26.400000\n",
       "25%        70.000000\n",
       "50%        84.100000\n",
       "75%        99.975000\n",
       "max       296.800000\n",
       "Name: weight, dtype: float64"
      ]
     },
     "execution_count": 55,
     "metadata": {},
     "output_type": "execute_result"
    }
   ],
   "source": [
    "# weight looks suspicious\n",
    "num_aki['weight'].describe() "
   ]
  },
  {
   "cell_type": "code",
   "execution_count": 56,
   "id": "6e701153",
   "metadata": {},
   "outputs": [
    {
     "name": "stderr",
     "output_type": "stream",
     "text": [
      "C:\\Users\\USER\\anaconda3\\envs\\dsi24\\lib\\site-packages\\seaborn\\_decorators.py:36: FutureWarning: Pass the following variable as a keyword arg: x. From version 0.12, the only valid positional argument will be `data`, and passing other arguments without an explicit keyword will result in an error or misinterpretation.\n",
      "  warnings.warn(\n"
     ]
    },
    {
     "data": {
      "image/png": "[encoded data removed]",
      "text/plain": [
       "<Figure size 432x288 with 1 Axes>"
      ]
     },
     "metadata": {
      "needs_background": "light"
     },
     "output_type": "display_data"
    }
   ],
   "source": [
    "# check outliers for weight\n",
    "sns.boxplot(num_aki['weight']);"
   ]
  },
  {
   "cell_type": "markdown",
   "id": "ac82136e",
   "metadata": {},
   "source": [
    "There are lots of outliers in 'weight', but how do we remove them? Is it possible for someone to be 300kg? For a mostly caucasion dataset? "
   ]
  },
  {
   "cell_type": "markdown",
   "id": "56bfe3ac",
   "metadata": {},
   "source": [
    "**wbc_min**"
   ]
  },
  {
   "cell_type": "code",
   "execution_count": 57,
   "id": "b9272d4d",
   "metadata": {},
   "outputs": [
    {
     "data": {
      "text/plain": [
       "count    1778.000000\n",
       "mean       11.277390\n",
       "std        10.857185\n",
       "min         0.100000\n",
       "25%         6.400000\n",
       "50%         9.600000\n",
       "75%        13.500000\n",
       "max       225.300000\n",
       "Name: wbc_min, dtype: float64"
      ]
     },
     "execution_count": 57,
     "metadata": {},
     "output_type": "execute_result"
    }
   ],
   "source": [
    "num_aki['wbc_min'].describe() "
   ]
  },
  {
   "cell_type": "code",
   "execution_count": 58,
   "id": "67534a76",
   "metadata": {},
   "outputs": [
    {
     "name": "stderr",
     "output_type": "stream",
     "text": [
      "C:\\Users\\USER\\anaconda3\\envs\\dsi24\\lib\\site-packages\\seaborn\\_decorators.py:36: FutureWarning: Pass the following variable as a keyword arg: x. From version 0.12, the only valid positional argument will be `data`, and passing other arguments without an explicit keyword will result in an error or misinterpretation.\n",
      "  warnings.warn(\n"
     ]
    },
    {
     "data": {
      "image/png": "[encoded data removed]",
      "text/plain": [
       "<Figure size 432x288 with 1 Axes>"
      ]
     },
     "metadata": {
      "needs_background": "light"
     },
     "output_type": "display_data"
    }
   ],
   "source": [
    "# check outliers for wbc_min\n",
    "sns.boxplot(num_aki['wbc_min']);"
   ]
  },
  {
   "cell_type": "markdown",
   "id": "c8c536e2",
   "metadata": {},
   "source": [
    "**wbc_max**"
   ]
  },
  {
   "cell_type": "code",
   "execution_count": 59,
   "id": "7b8e6260",
   "metadata": {},
   "outputs": [
    {
     "data": {
      "text/plain": [
       "count    1778.000000\n",
       "mean       16.804556\n",
       "std        16.657864\n",
       "min         0.100000\n",
       "25%         9.500000\n",
       "50%        13.900000\n",
       "75%        20.075000\n",
       "max       378.300000\n",
       "Name: wbc_max, dtype: float64"
      ]
     },
     "execution_count": 59,
     "metadata": {},
     "output_type": "execute_result"
    }
   ],
   "source": [
    "num_aki['wbc_max'].describe() "
   ]
  },
  {
   "cell_type": "code",
   "execution_count": 60,
   "id": "910c5394",
   "metadata": {},
   "outputs": [
    {
     "name": "stderr",
     "output_type": "stream",
     "text": [
      "C:\\Users\\USER\\anaconda3\\envs\\dsi24\\lib\\site-packages\\seaborn\\_decorators.py:36: FutureWarning: Pass the following variable as a keyword arg: x. From version 0.12, the only valid positional argument will be `data`, and passing other arguments without an explicit keyword will result in an error or misinterpretation.\n",
      "  warnings.warn(\n"
     ]
    },
    {
     "data": {
      "image/png": "[encoded data removed]",
      "text/plain": [
       "<Figure size 432x288 with 1 Axes>"
      ]
     },
     "metadata": {
      "needs_background": "light"
     },
     "output_type": "display_data"
    }
   ],
   "source": [
    "# check outliers for wbc_max\n",
    "sns.boxplot(num_aki['wbc_max']);"
   ]
  },
  {
   "cell_type": "markdown",
   "id": "8b76e665",
   "metadata": {},
   "source": [
    "**calcium_max**"
   ]
  },
  {
   "cell_type": "code",
   "execution_count": 61,
   "id": "155f2107",
   "metadata": {},
   "outputs": [
    {
     "data": {
      "text/plain": [
       "count    1778.000000\n",
       "mean        8.748088\n",
       "std         1.209249\n",
       "min         4.900000\n",
       "25%         8.100000\n",
       "50%         8.600000\n",
       "75%         9.200000\n",
       "max        27.400000\n",
       "Name: calcium_max, dtype: float64"
      ]
     },
     "execution_count": 61,
     "metadata": {},
     "output_type": "execute_result"
    }
   ],
   "source": [
    "num_aki['calcium_max'].describe() "
   ]
  },
  {
   "cell_type": "code",
   "execution_count": 62,
   "id": "7d29a060",
   "metadata": {},
   "outputs": [
    {
     "name": "stderr",
     "output_type": "stream",
     "text": [
      "C:\\Users\\USER\\anaconda3\\envs\\dsi24\\lib\\site-packages\\seaborn\\_decorators.py:36: FutureWarning: Pass the following variable as a keyword arg: x. From version 0.12, the only valid positional argument will be `data`, and passing other arguments without an explicit keyword will result in an error or misinterpretation.\n",
      "  warnings.warn(\n"
     ]
    },
    {
     "data": {
      "image/png": "[encoded data removed]",
      "text/plain": [
       "<Figure size 432x288 with 1 Axes>"
      ]
     },
     "metadata": {
      "needs_background": "light"
     },
     "output_type": "display_data"
    }
   ],
   "source": [
    "# check outliers for calcium_max\n",
    "sns.boxplot(num_aki['calcium_max']);"
   ]
  },
  {
   "cell_type": "markdown",
   "id": "f1613195",
   "metadata": {},
   "source": [
    "**creatinine_min**"
   ]
  },
  {
   "cell_type": "code",
   "execution_count": 63,
   "id": "8c2e7d59",
   "metadata": {},
   "outputs": [
    {
     "data": {
      "text/plain": [
       "count    1778.000000\n",
       "mean        3.921822\n",
       "std         2.961649\n",
       "min         0.200000\n",
       "25%         1.800000\n",
       "50%         3.200000\n",
       "75%         5.200000\n",
       "max        31.800000\n",
       "Name: creatinine_min, dtype: float64"
      ]
     },
     "execution_count": 63,
     "metadata": {},
     "output_type": "execute_result"
    }
   ],
   "source": [
    "num_aki['creatinine_min'].describe() "
   ]
  },
  {
   "cell_type": "code",
   "execution_count": 64,
   "id": "3b2dfec0",
   "metadata": {},
   "outputs": [
    {
     "name": "stderr",
     "output_type": "stream",
     "text": [
      "C:\\Users\\USER\\anaconda3\\envs\\dsi24\\lib\\site-packages\\seaborn\\_decorators.py:36: FutureWarning: Pass the following variable as a keyword arg: x. From version 0.12, the only valid positional argument will be `data`, and passing other arguments without an explicit keyword will result in an error or misinterpretation.\n",
      "  warnings.warn(\n"
     ]
    },
    {
     "data": {
      "image/png": "[encoded data removed]",
      "text/plain": [
       "<Figure size 432x288 with 1 Axes>"
      ]
     },
     "metadata": {
      "needs_background": "light"
     },
     "output_type": "display_data"
    }
   ],
   "source": [
    "# check outliers for creatinine_min\n",
    "sns.boxplot(num_aki['creatinine_min']);"
   ]
  },
  {
   "cell_type": "markdown",
   "id": "30f9d406",
   "metadata": {},
   "source": [
    "**creatinine_max**"
   ]
  },
  {
   "cell_type": "code",
   "execution_count": 65,
   "id": "9a35ad7f",
   "metadata": {},
   "outputs": [
    {
     "data": {
      "text/plain": [
       "count    1778.000000\n",
       "mean        5.082565\n",
       "std         3.631448\n",
       "min         0.200000\n",
       "25%         2.600000\n",
       "50%         4.200000\n",
       "75%         6.600000\n",
       "max        43.000000\n",
       "Name: creatinine_max, dtype: float64"
      ]
     },
     "execution_count": 65,
     "metadata": {},
     "output_type": "execute_result"
    }
   ],
   "source": [
    "num_aki['creatinine_max'].describe() "
   ]
  },
  {
   "cell_type": "code",
   "execution_count": 66,
   "id": "9509b667",
   "metadata": {},
   "outputs": [
    {
     "name": "stderr",
     "output_type": "stream",
     "text": [
      "C:\\Users\\USER\\anaconda3\\envs\\dsi24\\lib\\site-packages\\seaborn\\_decorators.py:36: FutureWarning: Pass the following variable as a keyword arg: x. From version 0.12, the only valid positional argument will be `data`, and passing other arguments without an explicit keyword will result in an error or misinterpretation.\n",
      "  warnings.warn(\n"
     ]
    },
    {
     "data": {
      "image/png": "[encoded data removed]",
      "text/plain": [
       "<Figure size 432x288 with 1 Axes>"
      ]
     },
     "metadata": {
      "needs_background": "light"
     },
     "output_type": "display_data"
    }
   ],
   "source": [
    "# check outliers for calcium_max\n",
    "sns.boxplot(num_aki['creatinine_max']);"
   ]
  },
  {
   "cell_type": "markdown",
   "id": "67a7c494",
   "metadata": {},
   "source": [
    "**inr_max**"
   ]
  },
  {
   "cell_type": "code",
   "execution_count": 67,
   "id": "5667cdf4",
   "metadata": {},
   "outputs": [
    {
     "data": {
      "text/plain": [
       "count    1778.000000\n",
       "mean        2.091676\n",
       "std         1.670371\n",
       "min         0.800000\n",
       "25%         1.200000\n",
       "50%         1.500000\n",
       "75%         2.300000\n",
       "max        21.500000\n",
       "Name: inr_max, dtype: float64"
      ]
     },
     "execution_count": 67,
     "metadata": {},
     "output_type": "execute_result"
    }
   ],
   "source": [
    "num_aki['inr_max'].describe() "
   ]
  },
  {
   "cell_type": "code",
   "execution_count": 68,
   "id": "894d4e7d",
   "metadata": {},
   "outputs": [
    {
     "name": "stderr",
     "output_type": "stream",
     "text": [
      "C:\\Users\\USER\\anaconda3\\envs\\dsi24\\lib\\site-packages\\seaborn\\_decorators.py:36: FutureWarning: Pass the following variable as a keyword arg: x. From version 0.12, the only valid positional argument will be `data`, and passing other arguments without an explicit keyword will result in an error or misinterpretation.\n",
      "  warnings.warn(\n"
     ]
    },
    {
     "data": {
      "image/png": "[encoded data removed]",
      "text/plain": [
       "<Figure size 432x288 with 1 Axes>"
      ]
     },
     "metadata": {
      "needs_background": "light"
     },
     "output_type": "display_data"
    }
   ],
   "source": [
    "# check outliers for inr_max\n",
    "sns.boxplot(num_aki['inr_max']);"
   ]
  },
  {
   "cell_type": "markdown",
   "id": "848ce845",
   "metadata": {},
   "source": [
    "**pt_max**"
   ]
  },
  {
   "cell_type": "code",
   "execution_count": 69,
   "id": "3d733d06",
   "metadata": {},
   "outputs": [
    {
     "data": {
      "text/plain": [
       "count    1778.000000\n",
       "mean       22.285996\n",
       "std        16.177237\n",
       "min         8.900000\n",
       "25%        13.600000\n",
       "50%        16.600000\n",
       "75%        24.100000\n",
       "max       150.000000\n",
       "Name: pt_max, dtype: float64"
      ]
     },
     "execution_count": 69,
     "metadata": {},
     "output_type": "execute_result"
    }
   ],
   "source": [
    "num_aki['pt_max'].describe() "
   ]
  },
  {
   "cell_type": "code",
   "execution_count": 70,
   "id": "73ad8d0a",
   "metadata": {},
   "outputs": [
    {
     "name": "stderr",
     "output_type": "stream",
     "text": [
      "C:\\Users\\USER\\anaconda3\\envs\\dsi24\\lib\\site-packages\\seaborn\\_decorators.py:36: FutureWarning: Pass the following variable as a keyword arg: x. From version 0.12, the only valid positional argument will be `data`, and passing other arguments without an explicit keyword will result in an error or misinterpretation.\n",
      "  warnings.warn(\n"
     ]
    },
    {
     "data": {
      "image/png": "[encoded data removed]",
      "text/plain": [
       "<Figure size 432x288 with 1 Axes>"
      ]
     },
     "metadata": {
      "needs_background": "light"
     },
     "output_type": "display_data"
    }
   ],
   "source": [
    "# check outliers for pt_max\n",
    "sns.boxplot(num_aki['pt_max']);"
   ]
  },
  {
   "cell_type": "markdown",
   "id": "42db3b6a",
   "metadata": {},
   "source": [
    "**spo2_mean**"
   ]
  },
  {
   "cell_type": "code",
   "execution_count": 71,
   "id": "aab36d3b",
   "metadata": {},
   "outputs": [
    {
     "data": {
      "text/plain": [
       "count    1778.000000\n",
       "mean       96.470320\n",
       "std         3.324450\n",
       "min        54.095238\n",
       "25%        95.392332\n",
       "50%        97.000000\n",
       "75%        98.500000\n",
       "max       100.000000\n",
       "Name: spo2_mean, dtype: float64"
      ]
     },
     "execution_count": 71,
     "metadata": {},
     "output_type": "execute_result"
    }
   ],
   "source": [
    "num_aki['spo2_mean'].describe() "
   ]
  },
  {
   "cell_type": "code",
   "execution_count": 72,
   "id": "fa4de41b",
   "metadata": {},
   "outputs": [
    {
     "name": "stderr",
     "output_type": "stream",
     "text": [
      "C:\\Users\\USER\\anaconda3\\envs\\dsi24\\lib\\site-packages\\seaborn\\_decorators.py:36: FutureWarning: Pass the following variable as a keyword arg: x. From version 0.12, the only valid positional argument will be `data`, and passing other arguments without an explicit keyword will result in an error or misinterpretation.\n",
      "  warnings.warn(\n"
     ]
    },
    {
     "data": {
      "image/png": "[encoded data removed]",
      "text/plain": [
       "<Figure size 432x288 with 1 Axes>"
      ]
     },
     "metadata": {
      "needs_background": "light"
     },
     "output_type": "display_data"
    }
   ],
   "source": [
    "# check outliers for spo2_mean\n",
    "sns.boxplot(num_aki['spo2_mean']);"
   ]
  },
  {
   "cell_type": "markdown",
   "id": "dfef6c68",
   "metadata": {},
   "source": [
    "<br> Outliers, in general, are rare by definition. However, if there are many outliers, this might imply that something interesting is going on, which may affect or create a relationship between the variable and the predicted target (delay_rrt). "
   ]
  },
  {
   "cell_type": "code",
   "execution_count": 73,
   "id": "77343d70",
   "metadata": {},
   "outputs": [],
   "source": [
    "# sns.pairplot(num_aki,hue='delay_rrt')"
   ]
  },
  {
   "cell_type": "markdown",
   "id": "2e2c3371",
   "metadata": {},
   "source": [
    "# EDA"
   ]
  },
  {
   "cell_type": "code",
   "execution_count": 74,
   "id": "c52ccbb2",
   "metadata": {},
   "outputs": [
    {
     "data": {
      "image/png": "[encoded data removed]",
      "text/plain": [
       "<Figure size 576x1440 with 2 Axes>"
      ]
     },
     "metadata": {
      "needs_background": "light"
     },
     "output_type": "display_data"
    }
   ],
   "source": [
    "# find correlation\n",
    "# only plots continuous, discrete and converted ordinal variables\n",
    "plt.figure(figsize=(8, 20))\n",
    "ax = sns.heatmap(num_aki.corr(method='spearman')[['delay_rrt']].sort_values(by='delay_rrt', ascending=False), annot=True, cmap='BrBG')\n",
    "ax.set_title('Variables correlating with delay_rrt', fontdict={'fontsize':25}, pad=30);"
   ]
  },
  {
   "cell_type": "code",
   "execution_count": 75,
   "id": "264a3a95",
   "metadata": {},
   "outputs": [
    {
     "data": {
      "text/html": [
       "<div>\n",
       "<style scoped>\n",
       "    .dataframe tbody tr th:only-of-type {\n",
       "        vertical-align: middle;\n",
       "    }\n",
       "\n",
       "    .dataframe tbody tr th {\n",
       "        vertical-align: top;\n",
       "    }\n",
       "\n",
       "    .dataframe thead th {\n",
       "        text-align: right;\n",
       "    }\n",
       "</style>\n",
       "<table border=\"1\" class=\"dataframe\">\n",
       "  <thead>\n",
       "    <tr style=\"text-align: right;\">\n",
       "      <th></th>\n",
       "      <th>delay_rrt</th>\n",
       "    </tr>\n",
       "  </thead>\n",
       "  <tbody>\n",
       "    <tr>\n",
       "      <th>delay_rrt</th>\n",
       "      <td>1.000000</td>\n",
       "    </tr>\n",
       "    <tr>\n",
       "      <th>aniongap_max</th>\n",
       "      <td>0.219092</td>\n",
       "    </tr>\n",
       "    <tr>\n",
       "      <th>creatinine_max</th>\n",
       "      <td>0.215134</td>\n",
       "    </tr>\n",
       "    <tr>\n",
       "      <th>potassium_max</th>\n",
       "      <td>0.178538</td>\n",
       "    </tr>\n",
       "    <tr>\n",
       "      <th>chloride_min</th>\n",
       "      <td>0.176414</td>\n",
       "    </tr>\n",
       "    <tr>\n",
       "      <th>aniongap_min</th>\n",
       "      <td>0.153351</td>\n",
       "    </tr>\n",
       "    <tr>\n",
       "      <th>gcs_min</th>\n",
       "      <td>0.145449</td>\n",
       "    </tr>\n",
       "    <tr>\n",
       "      <th>creatinine_min</th>\n",
       "      <td>0.143292</td>\n",
       "    </tr>\n",
       "    <tr>\n",
       "      <th>bicarbonate_min</th>\n",
       "      <td>0.111833</td>\n",
       "    </tr>\n",
       "    <tr>\n",
       "      <th>pt_max</th>\n",
       "      <td>0.109496</td>\n",
       "    </tr>\n",
       "    <tr>\n",
       "      <th>temperature_mean</th>\n",
       "      <td>0.109039</td>\n",
       "    </tr>\n",
       "    <tr>\n",
       "      <th>chloride_max</th>\n",
       "      <td>0.106527</td>\n",
       "    </tr>\n",
       "    <tr>\n",
       "      <th>inr_max</th>\n",
       "      <td>0.105324</td>\n",
       "    </tr>\n",
       "    <tr>\n",
       "      <th>glucose_max</th>\n",
       "      <td>0.102591</td>\n",
       "    </tr>\n",
       "    <tr>\n",
       "      <th>calcium_max</th>\n",
       "      <td>0.101555</td>\n",
       "    </tr>\n",
       "    <tr>\n",
       "      <th>admission_age</th>\n",
       "      <td>0.092150</td>\n",
       "    </tr>\n",
       "    <tr>\n",
       "      <th>platelets_max</th>\n",
       "      <td>0.083694</td>\n",
       "    </tr>\n",
       "    <tr>\n",
       "      <th>mbp_mean</th>\n",
       "      <td>0.080355</td>\n",
       "    </tr>\n",
       "    <tr>\n",
       "      <th>bun_max</th>\n",
       "      <td>0.079240</td>\n",
       "    </tr>\n",
       "    <tr>\n",
       "      <th>ptt_max</th>\n",
       "      <td>0.077768</td>\n",
       "    </tr>\n",
       "    <tr>\n",
       "      <th>dbp_mean</th>\n",
       "      <td>0.073974</td>\n",
       "    </tr>\n",
       "    <tr>\n",
       "      <th>platelets_min</th>\n",
       "      <td>0.061872</td>\n",
       "    </tr>\n",
       "    <tr>\n",
       "      <th>sodium_min</th>\n",
       "      <td>0.060589</td>\n",
       "    </tr>\n",
       "    <tr>\n",
       "      <th>aki_stage</th>\n",
       "      <td>0.060407</td>\n",
       "    </tr>\n",
       "    <tr>\n",
       "      <th>hematocrit_max</th>\n",
       "      <td>0.058377</td>\n",
       "    </tr>\n",
       "    <tr>\n",
       "      <th>sbp_mean</th>\n",
       "      <td>0.051832</td>\n",
       "    </tr>\n",
       "    <tr>\n",
       "      <th>calcium_min</th>\n",
       "      <td>0.050788</td>\n",
       "    </tr>\n",
       "    <tr>\n",
       "      <th>hemoglobin_max</th>\n",
       "      <td>0.046835</td>\n",
       "    </tr>\n",
       "    <tr>\n",
       "      <th>hemoglobin_min</th>\n",
       "      <td>0.045429</td>\n",
       "    </tr>\n",
       "    <tr>\n",
       "      <th>glucose_min</th>\n",
       "      <td>0.041269</td>\n",
       "    </tr>\n",
       "    <tr>\n",
       "      <th>glucose_mean</th>\n",
       "      <td>0.041170</td>\n",
       "    </tr>\n",
       "  </tbody>\n",
       "</table>\n",
       "</div>"
      ],
      "text/plain": [
       "                  delay_rrt\n",
       "delay_rrt          1.000000\n",
       "aniongap_max       0.219092\n",
       "creatinine_max     0.215134\n",
       "potassium_max      0.178538\n",
       "chloride_min       0.176414\n",
       "aniongap_min       0.153351\n",
       "gcs_min            0.145449\n",
       "creatinine_min     0.143292\n",
       "bicarbonate_min    0.111833\n",
       "pt_max             0.109496\n",
       "temperature_mean   0.109039\n",
       "chloride_max       0.106527\n",
       "inr_max            0.105324\n",
       "glucose_max        0.102591\n",
       "calcium_max        0.101555\n",
       "admission_age      0.092150\n",
       "platelets_max      0.083694\n",
       "mbp_mean           0.080355\n",
       "bun_max            0.079240\n",
       "ptt_max            0.077768\n",
       "dbp_mean           0.073974\n",
       "platelets_min      0.061872\n",
       "sodium_min         0.060589\n",
       "aki_stage          0.060407\n",
       "hematocrit_max     0.058377\n",
       "sbp_mean           0.051832\n",
       "calcium_min        0.050788\n",
       "hemoglobin_max     0.046835\n",
       "hemoglobin_min     0.045429\n",
       "glucose_min        0.041269\n",
       "glucose_mean       0.041170"
      ]
     },
     "execution_count": 75,
     "metadata": {},
     "output_type": "execute_result"
    }
   ],
   "source": [
    "# clearer dataframe\n",
    "# for corr >= 0.05\n",
    "aki_corr = num_aki.corr(method='spearman').abs()\n",
    "aki_corr.loc[aki_corr['delay_rrt']>=0.04,['delay_rrt']].sort_values(by=['delay_rrt'],ascending=False)"
   ]
  },
  {
   "cell_type": "markdown",
   "id": "c351be29",
   "metadata": {},
   "source": [
    "There are 30 columns above. \n",
    "Clinician suggested dropping 'sbp_mean' and 'dbp_mean', since 'mbp_mean' is derived from them.\n"
   ]
  },
  {
   "cell_type": "code",
   "execution_count": 76,
   "id": "2444366f",
   "metadata": {},
   "outputs": [
    {
     "data": {
      "text/html": [
       "<div>\n",
       "<style scoped>\n",
       "    .dataframe tbody tr th:only-of-type {\n",
       "        vertical-align: middle;\n",
       "    }\n",
       "\n",
       "    .dataframe tbody tr th {\n",
       "        vertical-align: top;\n",
       "    }\n",
       "\n",
       "    .dataframe thead th {\n",
       "        text-align: right;\n",
       "    }\n",
       "</style>\n",
       "<table border=\"1\" class=\"dataframe\">\n",
       "  <thead>\n",
       "    <tr style=\"text-align: right;\">\n",
       "      <th></th>\n",
       "      <th>delay_rrt</th>\n",
       "    </tr>\n",
       "  </thead>\n",
       "  <tbody>\n",
       "    <tr>\n",
       "      <th>weight</th>\n",
       "      <td>0.022518</td>\n",
       "    </tr>\n",
       "    <tr>\n",
       "      <th>gender</th>\n",
       "      <td>0.011053</td>\n",
       "    </tr>\n",
       "    <tr>\n",
       "      <th>hematocrit_min</th>\n",
       "      <td>0.038520</td>\n",
       "    </tr>\n",
       "    <tr>\n",
       "      <th>wbc_min</th>\n",
       "      <td>0.003966</td>\n",
       "    </tr>\n",
       "    <tr>\n",
       "      <th>wbc_max</th>\n",
       "      <td>0.006672</td>\n",
       "    </tr>\n",
       "    <tr>\n",
       "      <th>bicarbonate_max</th>\n",
       "      <td>0.016021</td>\n",
       "    </tr>\n",
       "    <tr>\n",
       "      <th>bun_min</th>\n",
       "      <td>0.018054</td>\n",
       "    </tr>\n",
       "    <tr>\n",
       "      <th>sodium_max</th>\n",
       "      <td>0.019904</td>\n",
       "    </tr>\n",
       "    <tr>\n",
       "      <th>potassium_min</th>\n",
       "      <td>0.004764</td>\n",
       "    </tr>\n",
       "    <tr>\n",
       "      <th>heart_rate_mean</th>\n",
       "      <td>0.012692</td>\n",
       "    </tr>\n",
       "    <tr>\n",
       "      <th>resp_rate_mean</th>\n",
       "      <td>0.035872</td>\n",
       "    </tr>\n",
       "    <tr>\n",
       "      <th>spo2_mean</th>\n",
       "      <td>0.031398</td>\n",
       "    </tr>\n",
       "  </tbody>\n",
       "</table>\n",
       "</div>"
      ],
      "text/plain": [
       "                 delay_rrt\n",
       "weight            0.022518\n",
       "gender            0.011053\n",
       "hematocrit_min    0.038520\n",
       "wbc_min           0.003966\n",
       "wbc_max           0.006672\n",
       "bicarbonate_max   0.016021\n",
       "bun_min           0.018054\n",
       "sodium_max        0.019904\n",
       "potassium_min     0.004764\n",
       "heart_rate_mean   0.012692\n",
       "resp_rate_mean    0.035872\n",
       "spo2_mean         0.031398"
      ]
     },
     "execution_count": 76,
     "metadata": {},
     "output_type": "execute_result"
    }
   ],
   "source": [
    "# drop these? \n",
    "aki_corr.loc[aki_corr['delay_rrt']<0.04,['delay_rrt']]"
   ]
  },
  {
   "cell_type": "code",
   "execution_count": 77,
   "id": "ca863a49",
   "metadata": {},
   "outputs": [
    {
     "name": "stdout",
     "output_type": "stream",
     "text": [
      "3.79437153551967 0.4345492783233209\n"
     ]
    }
   ],
   "source": [
    "# drop categotical columns ?\n",
    "# performing chisq for nominal ethnicity feature\n",
    "\n",
    "# relationship between ethnicity and delay_rrt\n",
    "obs = pd.crosstab(aki_data['ethnicity'],aki_data['delay_rrt'])\n",
    "chi2, p, dof, expected = stats.chi2_contingency(obs)\n",
    "print(chi2,p)"
   ]
  },
  {
   "cell_type": "markdown",
   "id": "90546f62",
   "metadata": {},
   "source": [
    "p=0.435. So do not reject null hypothesis. Both variables are independent (ie no correlation). Therefore, I am inclined to drop 'ethnicity'. Also, as a categorical variable (with >2 labels), I do not have to perform one-hot-encoding later. \n"
   ]
  },
  {
   "cell_type": "code",
   "execution_count": 78,
   "id": "0822a96b",
   "metadata": {},
   "outputs": [
    {
     "name": "stdout",
     "output_type": "stream",
     "text": [
      "0.1629194468840113 0.686482753454661\n"
     ]
    }
   ],
   "source": [
    "# performing chisq for nominal gender feature\n",
    "\n",
    "# relationship between ethnicity and delay_rrt\n",
    "obs = pd.crosstab(aki_data['gender'],aki_data['delay_rrt'])\n",
    "chi2, p, dof, expected = stats.chi2_contingency(obs)\n",
    "print(chi2,p)"
   ]
  },
  {
   "cell_type": "markdown",
   "id": "1e1b8359",
   "metadata": {},
   "source": [
    "p=0.686. So do not reject null hypothesis. Both variables are independent (ie no correlation). Therefore, I am inclined to drop 'gender' too?\n"
   ]
  },
  {
   "cell_type": "code",
   "execution_count": 79,
   "id": "50d039e7",
   "metadata": {},
   "outputs": [
    {
     "name": "stdout",
     "output_type": "stream",
     "text": [
      "<class 'pandas.core.frame.DataFrame'>\n",
      "Int64Index: 1778 entries, 0 to 2109\n",
      "Data columns (total 44 columns):\n",
      " #   Column            Non-Null Count  Dtype  \n",
      "---  ------            --------------  -----  \n",
      " 0   weight            1778 non-null   float64\n",
      " 1   aki_stage         1778 non-null   int64  \n",
      " 2   delay_rrt         1778 non-null   int64  \n",
      " 3   gender            1778 non-null   int64  \n",
      " 4   admission_age     1778 non-null   float64\n",
      " 5   ethnicity         1778 non-null   object \n",
      " 6   hematocrit_min    1778 non-null   float64\n",
      " 7   hematocrit_max    1778 non-null   float64\n",
      " 8   hemoglobin_min    1778 non-null   float64\n",
      " 9   hemoglobin_max    1778 non-null   float64\n",
      " 10  platelets_min     1778 non-null   float64\n",
      " 11  platelets_max     1778 non-null   float64\n",
      " 12  wbc_min           1778 non-null   float64\n",
      " 13  wbc_max           1778 non-null   float64\n",
      " 14  aniongap_min      1778 non-null   float64\n",
      " 15  aniongap_max      1778 non-null   float64\n",
      " 16  bicarbonate_min   1778 non-null   float64\n",
      " 17  bicarbonate_max   1778 non-null   float64\n",
      " 18  bun_min           1778 non-null   float64\n",
      " 19  bun_max           1778 non-null   float64\n",
      " 20  calcium_min       1778 non-null   float64\n",
      " 21  calcium_max       1778 non-null   float64\n",
      " 22  chloride_min      1778 non-null   float64\n",
      " 23  chloride_max      1778 non-null   float64\n",
      " 24  creatinine_min    1778 non-null   float64\n",
      " 25  creatinine_max    1778 non-null   float64\n",
      " 26  glucose_min       1778 non-null   float64\n",
      " 27  glucose_max       1778 non-null   float64\n",
      " 28  sodium_min        1778 non-null   float64\n",
      " 29  sodium_max        1778 non-null   float64\n",
      " 30  potassium_min     1778 non-null   float64\n",
      " 31  potassium_max     1778 non-null   float64\n",
      " 32  inr_max           1778 non-null   float64\n",
      " 33  pt_max            1778 non-null   float64\n",
      " 34  ptt_max           1778 non-null   float64\n",
      " 35  heart_rate_mean   1778 non-null   float64\n",
      " 36  sbp_mean          1778 non-null   float64\n",
      " 37  dbp_mean          1778 non-null   float64\n",
      " 38  mbp_mean          1778 non-null   float64\n",
      " 39  resp_rate_mean    1778 non-null   float64\n",
      " 40  temperature_mean  1778 non-null   float64\n",
      " 41  spo2_mean         1778 non-null   float64\n",
      " 42  glucose_mean      1778 non-null   float64\n",
      " 43  gcs_min           1778 non-null   int64  \n",
      "dtypes: float64(39), int64(4), object(1)\n",
      "memory usage: 625.1+ KB\n"
     ]
    }
   ],
   "source": [
    "# current dataset\n",
    "aki_data.info()"
   ]
  },
  {
   "cell_type": "markdown",
   "id": "9b1f0f36",
   "metadata": {},
   "source": [
    "## Pandas profiling"
   ]
  },
  {
   "cell_type": "markdown",
   "id": "12a68661",
   "metadata": {},
   "source": [
    "Experimenting with auto-EDA tools. Handy during a datathon with time constraints. "
   ]
  },
  {
   "cell_type": "code",
   "execution_count": 83,
   "id": "9305be88",
   "metadata": {},
   "outputs": [
    {
     "data": {
      "application/vnd.jupyter.widget-view+json": {
       "model_id": "cf8a8d00fd89480099e5a7026a3a4b04",
       "version_major": 2,
       "version_minor": 0
      },
      "text/plain": [
       "Summarize dataset:   0%|          | 0/5 [00:00<?, ?it/s]"
      ]
     },
     "metadata": {},
     "output_type": "display_data"
    },
    {
     "data": {
      "application/vnd.jupyter.widget-view+json": {
       "model_id": "ce363d362f71409fb667df450d341e82",
       "version_major": 2,
       "version_minor": 0
      },
      "text/plain": [
       "Generate report structure:   0%|          | 0/1 [00:00<?, ?it/s]"
      ]
     },
     "metadata": {},
     "output_type": "display_data"
    },
    {
     "data": {
      "application/vnd.jupyter.widget-view+json": {
       "model_id": "1d0e1bc14b314378b95e5c3a0d1956c7",
       "version_major": 2,
       "version_minor": 0
      },
      "text/plain": [
       "Render HTML:   0%|          | 0/1 [00:00<?, ?it/s]"
      ]
     },
     "metadata": {},
     "output_type": "display_data"
    },
    {
     "data": {
      "application/vnd.jupyter.widget-view+json": {
       "model_id": "e0d9f6014d924b48ba34fd19f33f2243",
       "version_major": 2,
       "version_minor": 0
      },
      "text/plain": [
       "Export report to file:   0%|          | 0/1 [00:00<?, ?it/s]"
      ]
     },
     "metadata": {},
     "output_type": "display_data"
    }
   ],
   "source": [
    "# from pandas_profiling import ProfileReport\n",
    "# plt.switch_backend('agg')\n",
    "prof = ProfileReport(aki_data)\n",
    "prof.to_file(output_file='output.html')"
   ]
  },
  {
   "cell_type": "code",
   "execution_count": 84,
   "id": "a9fc120e",
   "metadata": {},
   "outputs": [],
   "source": [
    "# %%html\n"
   ]
  },
  {
   "cell_type": "markdown",
   "id": "df5af3bb",
   "metadata": {},
   "source": [
    "export dataset"
   ]
  },
  {
   "cell_type": "code",
   "execution_count": 85,
   "id": "efa9f309",
   "metadata": {},
   "outputs": [],
   "source": [
    "aki_data.to_csv('cleaned_data.csv',index=False)"
   ]
  }
 ],
 "metadata": {
  "kernelspec": {
   "display_name": "Python 3",
   "language": "python",
   "name": "python3"
  },
  "language_info": {
   "codemirror_mode": {
    "name": "ipython",
    "version": 3
   },
   "file_extension": ".py",
   "mimetype": "text/x-python",
   "name": "python",
   "nbconvert_exporter": "python",
   "pygments_lexer": "ipython3",
   "version": "3.8.8"
  },
  "toc": {
   "base_numbering": 1,
   "nav_menu": {},
   "number_sections": true,
   "sideBar": true,
   "skip_h1_title": false,
   "title_cell": "Table of Contents",
   "title_sidebar": "Contents",
   "toc_cell": false,
   "toc_position": {},
   "toc_section_display": true,
   "toc_window_display": true
  }
 },
 "nbformat": 4,
 "nbformat_minor": 5
}
