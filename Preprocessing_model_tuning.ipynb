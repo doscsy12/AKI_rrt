{
 "cells": [
  {
   "cell_type": "markdown",
   "id": "6097e757",
   "metadata": {},
   "source": [
    "# AKI - early/delayed renal treatment"
   ]
  },
  {
   "cell_type": "markdown",
   "id": "db3cec7f",
   "metadata": {},
   "source": [
    "*import libraries*"
   ]
  },
  {
   "cell_type": "code",
   "execution_count": 1,
   "id": "890c5c94",
   "metadata": {},
   "outputs": [],
   "source": [
    "# Import libraries here\n",
    "import numpy as np\n",
    "import pandas as pd\n",
    "import matplotlib.pyplot as plt\n",
    "import matplotlib\n",
    "import seaborn as sns\n",
    "pd.options.mode.chained_assignment = None  # default='warn'\n",
    "\n",
    "from sklearn.model_selection import train_test_split, GridSearchCV\n",
    "from sklearn.preprocessing import StandardScaler, PolynomialFeatures\n",
    "from sklearn.linear_model import (RidgeCV, \n",
    "                                  LassoCV, \n",
    "                                  ElasticNetCV, \n",
    "                                  LogisticRegressionCV,\n",
    "                                  LinearRegression,\n",
    "                                  LogisticRegression)\n",
    "from imblearn.over_sampling import SMOTE\n",
    "from imblearn.pipeline import Pipeline\n",
    "from sklearn.metrics import (confusion_matrix, \n",
    "                             plot_confusion_matrix, \n",
    "                             roc_auc_score, \n",
    "                             plot_roc_curve, \n",
    "                             accuracy_score,\n",
    "                            )\n",
    "from sklearn.decomposition import PCA\n",
    "\n",
    "from sklearn.linear_model import LogisticRegression\n",
    "from sklearn.tree import DecisionTreeClassifier\n",
    "from sklearn.ensemble import RandomForestClassifier, ExtraTreesClassifier, BaggingClassifier, AdaBoostClassifier\n",
    "from sklearn.svm import LinearSVC, SVC\n",
    "\n",
    "import xgboost as xgb\n",
    "import time\n",
    "import warnings\n",
    "warnings.filterwarnings('ignore')"
   ]
  },
  {
   "cell_type": "code",
   "execution_count": 2,
   "id": "5beeeb19",
   "metadata": {},
   "outputs": [],
   "source": [
    "# import data\n",
    "aki_data = pd.read_csv('cleaned_data.csv')"
   ]
  },
  {
   "cell_type": "code",
   "execution_count": 3,
   "id": "8be77db3",
   "metadata": {},
   "outputs": [
    {
     "data": {
      "text/html": [
       "<div>\n",
       "<style scoped>\n",
       "    .dataframe tbody tr th:only-of-type {\n",
       "        vertical-align: middle;\n",
       "    }\n",
       "\n",
       "    .dataframe tbody tr th {\n",
       "        vertical-align: top;\n",
       "    }\n",
       "\n",
       "    .dataframe thead th {\n",
       "        text-align: right;\n",
       "    }\n",
       "</style>\n",
       "<table border=\"1\" class=\"dataframe\">\n",
       "  <thead>\n",
       "    <tr style=\"text-align: right;\">\n",
       "      <th></th>\n",
       "      <th>weight</th>\n",
       "      <th>aki_stage</th>\n",
       "      <th>delay_rrt</th>\n",
       "      <th>gender</th>\n",
       "      <th>admission_age</th>\n",
       "      <th>ethnicity</th>\n",
       "      <th>hematocrit_min</th>\n",
       "      <th>hematocrit_max</th>\n",
       "      <th>hemoglobin_min</th>\n",
       "      <th>hemoglobin_max</th>\n",
       "      <th>platelets_min</th>\n",
       "      <th>platelets_max</th>\n",
       "      <th>wbc_min</th>\n",
       "      <th>wbc_max</th>\n",
       "      <th>aniongap_min</th>\n",
       "      <th>aniongap_max</th>\n",
       "      <th>bicarbonate_min</th>\n",
       "      <th>bicarbonate_max</th>\n",
       "      <th>bun_min</th>\n",
       "      <th>bun_max</th>\n",
       "      <th>calcium_min</th>\n",
       "      <th>calcium_max</th>\n",
       "      <th>chloride_min</th>\n",
       "      <th>chloride_max</th>\n",
       "      <th>creatinine_min</th>\n",
       "      <th>creatinine_max</th>\n",
       "      <th>glucose_min</th>\n",
       "      <th>glucose_max</th>\n",
       "      <th>sodium_min</th>\n",
       "      <th>sodium_max</th>\n",
       "      <th>potassium_min</th>\n",
       "      <th>potassium_max</th>\n",
       "      <th>inr_max</th>\n",
       "      <th>pt_max</th>\n",
       "      <th>ptt_max</th>\n",
       "      <th>heart_rate_mean</th>\n",
       "      <th>sbp_mean</th>\n",
       "      <th>dbp_mean</th>\n",
       "      <th>mbp_mean</th>\n",
       "      <th>resp_rate_mean</th>\n",
       "      <th>temperature_mean</th>\n",
       "      <th>spo2_mean</th>\n",
       "      <th>glucose_mean</th>\n",
       "      <th>gcs_min</th>\n",
       "    </tr>\n",
       "  </thead>\n",
       "  <tbody>\n",
       "    <tr>\n",
       "      <th>0</th>\n",
       "      <td>104.50</td>\n",
       "      <td>1</td>\n",
       "      <td>1</td>\n",
       "      <td>1</td>\n",
       "      <td>66.262081</td>\n",
       "      <td>unknown</td>\n",
       "      <td>31.4</td>\n",
       "      <td>31.9</td>\n",
       "      <td>11.3</td>\n",
       "      <td>11.3</td>\n",
       "      <td>246.0</td>\n",
       "      <td>247.0</td>\n",
       "      <td>11.2</td>\n",
       "      <td>11.2</td>\n",
       "      <td>20.0</td>\n",
       "      <td>23.0</td>\n",
       "      <td>23.0</td>\n",
       "      <td>24.0</td>\n",
       "      <td>109.0</td>\n",
       "      <td>114.0</td>\n",
       "      <td>8.7</td>\n",
       "      <td>9.5</td>\n",
       "      <td>106.0</td>\n",
       "      <td>114.0</td>\n",
       "      <td>3.0</td>\n",
       "      <td>3.1</td>\n",
       "      <td>172.0</td>\n",
       "      <td>317.0</td>\n",
       "      <td>146.0</td>\n",
       "      <td>154.0</td>\n",
       "      <td>3.9</td>\n",
       "      <td>4.1</td>\n",
       "      <td>1.3</td>\n",
       "      <td>14.6</td>\n",
       "      <td>47.5</td>\n",
       "      <td>89.625000</td>\n",
       "      <td>132.500000</td>\n",
       "      <td>68.5000</td>\n",
       "      <td>83.090909</td>\n",
       "      <td>21.673077</td>\n",
       "      <td>37.405000</td>\n",
       "      <td>96.909091</td>\n",
       "      <td>257.500000</td>\n",
       "      <td>10</td>\n",
       "    </tr>\n",
       "    <tr>\n",
       "      <th>1</th>\n",
       "      <td>100.00</td>\n",
       "      <td>1</td>\n",
       "      <td>1</td>\n",
       "      <td>1</td>\n",
       "      <td>70.489938</td>\n",
       "      <td>black</td>\n",
       "      <td>34.0</td>\n",
       "      <td>34.2</td>\n",
       "      <td>11.3</td>\n",
       "      <td>11.4</td>\n",
       "      <td>185.0</td>\n",
       "      <td>186.0</td>\n",
       "      <td>12.1</td>\n",
       "      <td>13.5</td>\n",
       "      <td>14.0</td>\n",
       "      <td>16.0</td>\n",
       "      <td>20.0</td>\n",
       "      <td>21.0</td>\n",
       "      <td>36.0</td>\n",
       "      <td>41.0</td>\n",
       "      <td>7.5</td>\n",
       "      <td>7.7</td>\n",
       "      <td>103.0</td>\n",
       "      <td>104.0</td>\n",
       "      <td>1.1</td>\n",
       "      <td>1.1</td>\n",
       "      <td>106.0</td>\n",
       "      <td>140.0</td>\n",
       "      <td>134.0</td>\n",
       "      <td>135.0</td>\n",
       "      <td>4.4</td>\n",
       "      <td>4.8</td>\n",
       "      <td>1.3</td>\n",
       "      <td>13.9</td>\n",
       "      <td>25.0</td>\n",
       "      <td>84.208333</td>\n",
       "      <td>107.500000</td>\n",
       "      <td>56.4600</td>\n",
       "      <td>74.019231</td>\n",
       "      <td>17.134615</td>\n",
       "      <td>36.978000</td>\n",
       "      <td>96.680000</td>\n",
       "      <td>123.666667</td>\n",
       "      <td>3</td>\n",
       "    </tr>\n",
       "    <tr>\n",
       "      <th>2</th>\n",
       "      <td>98.95</td>\n",
       "      <td>3</td>\n",
       "      <td>0</td>\n",
       "      <td>1</td>\n",
       "      <td>37.700917</td>\n",
       "      <td>unknown</td>\n",
       "      <td>27.1</td>\n",
       "      <td>29.4</td>\n",
       "      <td>9.9</td>\n",
       "      <td>10.4</td>\n",
       "      <td>185.0</td>\n",
       "      <td>252.0</td>\n",
       "      <td>22.4</td>\n",
       "      <td>31.1</td>\n",
       "      <td>26.0</td>\n",
       "      <td>30.0</td>\n",
       "      <td>15.0</td>\n",
       "      <td>18.0</td>\n",
       "      <td>40.0</td>\n",
       "      <td>53.0</td>\n",
       "      <td>7.4</td>\n",
       "      <td>10.2</td>\n",
       "      <td>73.0</td>\n",
       "      <td>76.0</td>\n",
       "      <td>7.8</td>\n",
       "      <td>10.5</td>\n",
       "      <td>121.0</td>\n",
       "      <td>228.0</td>\n",
       "      <td>118.0</td>\n",
       "      <td>119.0</td>\n",
       "      <td>3.3</td>\n",
       "      <td>3.8</td>\n",
       "      <td>2.6</td>\n",
       "      <td>27.5</td>\n",
       "      <td>36.0</td>\n",
       "      <td>80.956522</td>\n",
       "      <td>101.958333</td>\n",
       "      <td>52.4375</td>\n",
       "      <td>67.541667</td>\n",
       "      <td>20.000000</td>\n",
       "      <td>36.132143</td>\n",
       "      <td>95.250000</td>\n",
       "      <td>152.625000</td>\n",
       "      <td>6</td>\n",
       "    </tr>\n",
       "    <tr>\n",
       "      <th>3</th>\n",
       "      <td>105.70</td>\n",
       "      <td>3</td>\n",
       "      <td>1</td>\n",
       "      <td>0</td>\n",
       "      <td>59.967156</td>\n",
       "      <td>white</td>\n",
       "      <td>25.0</td>\n",
       "      <td>30.9</td>\n",
       "      <td>8.1</td>\n",
       "      <td>10.1</td>\n",
       "      <td>70.0</td>\n",
       "      <td>107.0</td>\n",
       "      <td>7.6</td>\n",
       "      <td>14.5</td>\n",
       "      <td>11.0</td>\n",
       "      <td>13.0</td>\n",
       "      <td>19.0</td>\n",
       "      <td>23.0</td>\n",
       "      <td>15.0</td>\n",
       "      <td>16.0</td>\n",
       "      <td>7.5</td>\n",
       "      <td>7.8</td>\n",
       "      <td>106.0</td>\n",
       "      <td>110.0</td>\n",
       "      <td>1.1</td>\n",
       "      <td>1.2</td>\n",
       "      <td>47.0</td>\n",
       "      <td>127.0</td>\n",
       "      <td>140.0</td>\n",
       "      <td>141.0</td>\n",
       "      <td>3.2</td>\n",
       "      <td>4.0</td>\n",
       "      <td>2.6</td>\n",
       "      <td>28.4</td>\n",
       "      <td>51.3</td>\n",
       "      <td>87.521739</td>\n",
       "      <td>108.000000</td>\n",
       "      <td>56.4000</td>\n",
       "      <td>70.700000</td>\n",
       "      <td>24.086957</td>\n",
       "      <td>36.776667</td>\n",
       "      <td>96.478261</td>\n",
       "      <td>102.714286</td>\n",
       "      <td>13</td>\n",
       "    </tr>\n",
       "    <tr>\n",
       "      <th>4</th>\n",
       "      <td>69.00</td>\n",
       "      <td>1</td>\n",
       "      <td>0</td>\n",
       "      <td>1</td>\n",
       "      <td>79.060470</td>\n",
       "      <td>white</td>\n",
       "      <td>38.0</td>\n",
       "      <td>38.0</td>\n",
       "      <td>13.2</td>\n",
       "      <td>13.2</td>\n",
       "      <td>262.0</td>\n",
       "      <td>262.0</td>\n",
       "      <td>10.8</td>\n",
       "      <td>10.8</td>\n",
       "      <td>18.0</td>\n",
       "      <td>18.0</td>\n",
       "      <td>21.0</td>\n",
       "      <td>21.0</td>\n",
       "      <td>19.0</td>\n",
       "      <td>19.0</td>\n",
       "      <td>9.4</td>\n",
       "      <td>9.4</td>\n",
       "      <td>106.0</td>\n",
       "      <td>106.0</td>\n",
       "      <td>1.3</td>\n",
       "      <td>1.3</td>\n",
       "      <td>126.0</td>\n",
       "      <td>126.0</td>\n",
       "      <td>141.0</td>\n",
       "      <td>141.0</td>\n",
       "      <td>3.7</td>\n",
       "      <td>3.7</td>\n",
       "      <td>1.2</td>\n",
       "      <td>13.8</td>\n",
       "      <td>35.6</td>\n",
       "      <td>90.318182</td>\n",
       "      <td>140.800000</td>\n",
       "      <td>71.8500</td>\n",
       "      <td>88.285714</td>\n",
       "      <td>21.000000</td>\n",
       "      <td>36.620000</td>\n",
       "      <td>95.782609</td>\n",
       "      <td>124.000000</td>\n",
       "      <td>15</td>\n",
       "    </tr>\n",
       "  </tbody>\n",
       "</table>\n",
       "</div>"
      ],
      "text/plain": [
       "   weight  aki_stage  delay_rrt  gender  admission_age ethnicity  \\\n",
       "0  104.50          1          1       1      66.262081   unknown   \n",
       "1  100.00          1          1       1      70.489938     black   \n",
       "2   98.95          3          0       1      37.700917   unknown   \n",
       "3  105.70          3          1       0      59.967156     white   \n",
       "4   69.00          1          0       1      79.060470     white   \n",
       "\n",
       "   hematocrit_min  hematocrit_max  hemoglobin_min  hemoglobin_max  \\\n",
       "0            31.4            31.9            11.3            11.3   \n",
       "1            34.0            34.2            11.3            11.4   \n",
       "2            27.1            29.4             9.9            10.4   \n",
       "3            25.0            30.9             8.1            10.1   \n",
       "4            38.0            38.0            13.2            13.2   \n",
       "\n",
       "   platelets_min  platelets_max  wbc_min  wbc_max  aniongap_min  aniongap_max  \\\n",
       "0          246.0          247.0     11.2     11.2          20.0          23.0   \n",
       "1          185.0          186.0     12.1     13.5          14.0          16.0   \n",
       "2          185.0          252.0     22.4     31.1          26.0          30.0   \n",
       "3           70.0          107.0      7.6     14.5          11.0          13.0   \n",
       "4          262.0          262.0     10.8     10.8          18.0          18.0   \n",
       "\n",
       "   bicarbonate_min  bicarbonate_max  bun_min  bun_max  calcium_min  \\\n",
       "0             23.0             24.0    109.0    114.0          8.7   \n",
       "1             20.0             21.0     36.0     41.0          7.5   \n",
       "2             15.0             18.0     40.0     53.0          7.4   \n",
       "3             19.0             23.0     15.0     16.0          7.5   \n",
       "4             21.0             21.0     19.0     19.0          9.4   \n",
       "\n",
       "   calcium_max  chloride_min  chloride_max  creatinine_min  creatinine_max  \\\n",
       "0          9.5         106.0         114.0             3.0             3.1   \n",
       "1          7.7         103.0         104.0             1.1             1.1   \n",
       "2         10.2          73.0          76.0             7.8            10.5   \n",
       "3          7.8         106.0         110.0             1.1             1.2   \n",
       "4          9.4         106.0         106.0             1.3             1.3   \n",
       "\n",
       "   glucose_min  glucose_max  sodium_min  sodium_max  potassium_min  \\\n",
       "0        172.0        317.0       146.0       154.0            3.9   \n",
       "1        106.0        140.0       134.0       135.0            4.4   \n",
       "2        121.0        228.0       118.0       119.0            3.3   \n",
       "3         47.0        127.0       140.0       141.0            3.2   \n",
       "4        126.0        126.0       141.0       141.0            3.7   \n",
       "\n",
       "   potassium_max  inr_max  pt_max  ptt_max  heart_rate_mean    sbp_mean  \\\n",
       "0            4.1      1.3    14.6     47.5        89.625000  132.500000   \n",
       "1            4.8      1.3    13.9     25.0        84.208333  107.500000   \n",
       "2            3.8      2.6    27.5     36.0        80.956522  101.958333   \n",
       "3            4.0      2.6    28.4     51.3        87.521739  108.000000   \n",
       "4            3.7      1.2    13.8     35.6        90.318182  140.800000   \n",
       "\n",
       "   dbp_mean   mbp_mean  resp_rate_mean  temperature_mean  spo2_mean  \\\n",
       "0   68.5000  83.090909       21.673077         37.405000  96.909091   \n",
       "1   56.4600  74.019231       17.134615         36.978000  96.680000   \n",
       "2   52.4375  67.541667       20.000000         36.132143  95.250000   \n",
       "3   56.4000  70.700000       24.086957         36.776667  96.478261   \n",
       "4   71.8500  88.285714       21.000000         36.620000  95.782609   \n",
       "\n",
       "   glucose_mean  gcs_min  \n",
       "0    257.500000       10  \n",
       "1    123.666667        3  \n",
       "2    152.625000        6  \n",
       "3    102.714286       13  \n",
       "4    124.000000       15  "
      ]
     },
     "execution_count": 3,
     "metadata": {},
     "output_type": "execute_result"
    }
   ],
   "source": [
    "pd.set_option('display.max_columns', 100)\n",
    "aki_data.head()"
   ]
  },
  {
   "cell_type": "code",
   "execution_count": 4,
   "id": "0dae0988",
   "metadata": {},
   "outputs": [],
   "source": [
    "# one-hot-encode categorical data ethnicity ?\n",
    "# drop ethnicity\n",
    "aki_data.drop(columns=['ethnicity'],inplace=True)"
   ]
  },
  {
   "cell_type": "code",
   "execution_count": 5,
   "id": "96ceb15d",
   "metadata": {},
   "outputs": [
    {
     "data": {
      "text/plain": [
       "(1778, 42)"
      ]
     },
     "execution_count": 5,
     "metadata": {},
     "output_type": "execute_result"
    }
   ],
   "source": [
    "aki_data.drop(columns=['delay_rrt']).shape"
   ]
  },
  {
   "cell_type": "markdown",
   "id": "253ad920",
   "metadata": {},
   "source": [
    "### Polynomial features "
   ]
  },
  {
   "cell_type": "markdown",
   "id": "d03e0aa5",
   "metadata": {},
   "source": [
    "Any of the features could be related to each other, or have an interactive effect with each other. Any synergistic effect on delay_rrt could increase the significant predictive power to the model. \n"
   ]
  },
  {
   "cell_type": "code",
   "execution_count": 6,
   "id": "cc0eaa9a",
   "metadata": {},
   "outputs": [],
   "source": [
    "X = aki_data.drop(columns=['delay_rrt'])\n",
    "y = aki_data['delay_rrt']"
   ]
  },
  {
   "cell_type": "code",
   "execution_count": 7,
   "id": "b3d150b4",
   "metadata": {},
   "outputs": [],
   "source": [
    "# Generating the polynomial features table.  \n",
    "# instantiate\n",
    "poly = PolynomialFeatures(include_bias=False, degree=2)"
   ]
  },
  {
   "cell_type": "code",
   "execution_count": 8,
   "id": "2ced0ef2",
   "metadata": {},
   "outputs": [
    {
     "data": {
      "text/plain": [
       "(1778, 945)"
      ]
     },
     "execution_count": 8,
     "metadata": {},
     "output_type": "execute_result"
    }
   ],
   "source": [
    "# fit and transform the variables in the numerical dataframe\n",
    "X_poly = poly.fit_transform(X)\n",
    "X_poly.shape"
   ]
  },
  {
   "cell_type": "code",
   "execution_count": 9,
   "id": "fee974ed",
   "metadata": {},
   "outputs": [],
   "source": [
    "# Checking column names to all polynomial features\n",
    "X_poly = pd.DataFrame(X_poly,columns=poly.get_feature_names(X.columns))\n"
   ]
  },
  {
   "cell_type": "code",
   "execution_count": 10,
   "id": "a2294fc9",
   "metadata": {},
   "outputs": [],
   "source": [
    "# Gennerating list of poly feature correlations\n",
    "X_poly_corrs = X_poly.corrwith(y)"
   ]
  },
  {
   "cell_type": "code",
   "execution_count": 11,
   "id": "3f6b1811",
   "metadata": {},
   "outputs": [
    {
     "data": {
      "text/plain": [
       "chloride_min temperature_mean       0.198818\n",
       "chloride_min spo2_mean              0.182815\n",
       "chloride_min^2                      0.180279\n",
       "chloride_min                        0.179294\n",
       "bicarbonate_min chloride_min        0.158487\n",
       "bicarbonate_min chloride_max        0.152728\n",
       "chloride_min sodium_min             0.148421\n",
       "calcium_min chloride_min            0.145373\n",
       "chloride_min chloride_max           0.144399\n",
       "admission_age bicarbonate_min       0.140705\n",
       "admission_age chloride_min          0.137339\n",
       "bicarbonate_min temperature_mean    0.132319\n",
       "bicarbonate_min sodium_min          0.130960\n",
       "bicarbonate_min spo2_mean           0.130260\n",
       "bicarbonate_min                     0.128809\n",
       "bicarbonate_min sodium_max          0.126990\n",
       "bicarbonate_min heart_rate_mean     0.123727\n",
       "calcium_min chloride_max            0.121496\n",
       "chloride_max temperature_mean       0.121356\n",
       "chloride_min sodium_max             0.119685\n",
       "dtype: float64"
      ]
     },
     "execution_count": 11,
     "metadata": {},
     "output_type": "execute_result"
    }
   ],
   "source": [
    "# Shows top 20 features most positively correlated with delay_rrt\n",
    "X_poly_corrs.sort_values(ascending=False).head(20)"
   ]
  },
  {
   "cell_type": "code",
   "execution_count": 12,
   "id": "4fbfe1ab",
   "metadata": {},
   "outputs": [
    {
     "data": {
      "text/plain": [
       "aniongap_max gcs_min            -0.248238\n",
       "aniongap_max temperature_mean   -0.249200\n",
       "aniongap_max sodium_max         -0.249964\n",
       "aniongap_max spo2_mean          -0.250221\n",
       "aniongap_max calcium_max        -0.254303\n",
       "aniongap_max                    -0.254689\n",
       "aniongap_max^2                  -0.255885\n",
       "creatinine_max resp_rate_mean   -0.256791\n",
       "creatinine_max gcs_min          -0.257502\n",
       "hemoglobin_max creatinine_max   -0.257905\n",
       "aniongap_min creatinine_max     -0.258068\n",
       "aniongap_max sbp_mean           -0.259088\n",
       "hematocrit_max creatinine_max   -0.259116\n",
       "calcium_max creatinine_max      -0.259650\n",
       "aniongap_min potassium_max      -0.260355\n",
       "aniongap_max dbp_mean           -0.262543\n",
       "creatinine_max potassium_max    -0.273823\n",
       "aniongap_max mbp_mean           -0.274197\n",
       "aniongap_max creatinine_max     -0.290806\n",
       "aniongap_max potassium_max      -0.291583\n",
       "dtype: float64"
      ]
     },
     "execution_count": 12,
     "metadata": {},
     "output_type": "execute_result"
    }
   ],
   "source": [
    "# Shows bottom 20 features most positively correlated with delay_rrt\n",
    "X_poly_corrs.sort_values(ascending=False).tail(20) "
   ]
  },
  {
   "cell_type": "code",
   "execution_count": 13,
   "id": "114d573c",
   "metadata": {},
   "outputs": [],
   "source": [
    "# # Adding interaction features into train set ?\n",
    "# aki_data['aniongap_max*potassium_max'] = aki_data['aniongap_max'] * aki_data['potassium_max']\n",
    "# aki_data['calcium_max*creatinine_max'] = aki_data['calcium_max'] * aki_data['creatinine_max']"
   ]
  },
  {
   "cell_type": "code",
   "execution_count": 14,
   "id": "75605b4a",
   "metadata": {},
   "outputs": [],
   "source": [
    "# X = aki_data.drop(columns=['delay_rrt'])\n",
    "# y = aki_data[['delay_rrt']]"
   ]
  },
  {
   "cell_type": "code",
   "execution_count": 15,
   "id": "463b3015",
   "metadata": {},
   "outputs": [],
   "source": [
    "# train test split\n",
    "# X_train, y_train : 50%\n",
    "# X_valid, y_valid : 25%\n",
    "# X_test, y_test   : 25%"
   ]
  },
  {
   "cell_type": "markdown",
   "id": "7c165d8b",
   "metadata": {},
   "source": [
    "### Baseline model (with SMOTE)"
   ]
  },
  {
   "cell_type": "markdown",
   "id": "3969d4d9",
   "metadata": {},
   "source": [
    "From the correlated features, it seemed that 'aniongap_max' has the highest (negative) correlation. So will start with this. "
   ]
  },
  {
   "cell_type": "code",
   "execution_count": 16,
   "id": "4297fc45",
   "metadata": {},
   "outputs": [],
   "source": [
    "X_sm = aki_data[['aniongap_max']]\n",
    "y_sm = aki_data[['delay_rrt']]"
   ]
  },
  {
   "cell_type": "code",
   "execution_count": 17,
   "id": "c66a38be",
   "metadata": {},
   "outputs": [
    {
     "data": {
      "text/plain": [
       "delay_rrt\n",
       "1            0.814961\n",
       "0            0.185039\n",
       "dtype: float64"
      ]
     },
     "execution_count": 17,
     "metadata": {},
     "output_type": "execute_result"
    }
   ],
   "source": [
    "# imbalanced \n",
    "y_sm.value_counts(normalize=True)"
   ]
  },
  {
   "cell_type": "code",
   "execution_count": 18,
   "id": "0c842565",
   "metadata": {},
   "outputs": [],
   "source": [
    "# split data\n",
    "Xsm_train, Xsm_test, ysm_train, ysm_test = train_test_split(X_sm, y_sm, test_size = 0.33, random_state=42, stratify =y)"
   ]
  },
  {
   "cell_type": "code",
   "execution_count": 19,
   "id": "37ed714e",
   "metadata": {},
   "outputs": [],
   "source": [
    "# scaling\n",
    "ss = StandardScaler()\n",
    "\n",
    "Xsm_train_sc = ss.fit_transform(Xsm_train)\n",
    "Xsm_test_sc = ss.transform(Xsm_test)"
   ]
  },
  {
   "cell_type": "code",
   "execution_count": 20,
   "id": "b0efabfc",
   "metadata": {},
   "outputs": [],
   "source": [
    "# create synthetic data for training set\n",
    "smote = SMOTE()"
   ]
  },
  {
   "cell_type": "code",
   "execution_count": 21,
   "id": "b0b01b25",
   "metadata": {},
   "outputs": [],
   "source": [
    "# Xsmote_train, ysmote_train = smote.fit_sample(Xsm_train_sc, ysm_train)\n",
    "Xsmote_train, ysmote_train = smote.fit_resample(Xsm_train_sc, ysm_train)"
   ]
  },
  {
   "cell_type": "code",
   "execution_count": 22,
   "id": "d885259d",
   "metadata": {},
   "outputs": [
    {
     "data": {
      "text/plain": [
       "<bound method SamplerMixin.fit of SMOTE()>"
      ]
     },
     "execution_count": 22,
     "metadata": {},
     "output_type": "execute_result"
    }
   ],
   "source": [
    "smote.fit"
   ]
  },
  {
   "cell_type": "code",
   "execution_count": 23,
   "id": "ba59a08b",
   "metadata": {},
   "outputs": [
    {
     "data": {
      "text/plain": [
       "delay_rrt\n",
       "0            971\n",
       "1            971\n",
       "dtype: int64"
      ]
     },
     "execution_count": 23,
     "metadata": {},
     "output_type": "execute_result"
    }
   ],
   "source": [
    "# balanced\n",
    "ysmote_train.value_counts()"
   ]
  },
  {
   "cell_type": "code",
   "execution_count": 24,
   "id": "d6e3dfd2",
   "metadata": {},
   "outputs": [
    {
     "data": {
      "text/plain": [
       "(0.6204943357363543, 0.6695059625212947)"
      ]
     },
     "execution_count": 24,
     "metadata": {},
     "output_type": "execute_result"
    }
   ],
   "source": [
    "# instantiate\n",
    "lr = LogisticRegression()\n",
    "\n",
    "# fit model\n",
    "lr.fit(Xsmote_train, ysmote_train)\n",
    "\n",
    "# score\n",
    "lr.score(Xsmote_train, ysmote_train), lr.score(Xsm_test_sc, ysm_test)"
   ]
  },
  {
   "cell_type": "markdown",
   "id": "33975fd5",
   "metadata": {},
   "source": [
    "So the **baseline accuracy** is 0.620 (for train set), and 0.670 (for test set)"
   ]
  },
  {
   "cell_type": "markdown",
   "id": "76587191",
   "metadata": {},
   "source": [
    "## Feature selection"
   ]
  },
  {
   "cell_type": "markdown",
   "id": "11f645d8",
   "metadata": {},
   "source": [
    "### Logistic regression (with SMOTE)"
   ]
  },
  {
   "cell_type": "code",
   "execution_count": 25,
   "id": "736681ba",
   "metadata": {},
   "outputs": [],
   "source": [
    "# from previous notebook\n",
    "# drop the above columns\n",
    "aki_data.drop(columns=['gender','sbp_mean','dbp_mean'],inplace=True)"
   ]
  },
  {
   "cell_type": "code",
   "execution_count": 26,
   "id": "fc2ec91c",
   "metadata": {},
   "outputs": [
    {
     "data": {
      "text/plain": [
       "(1778, 39)"
      ]
     },
     "execution_count": 26,
     "metadata": {},
     "output_type": "execute_result"
    }
   ],
   "source": [
    "aki_data.drop(columns=['delay_rrt']).shape"
   ]
  },
  {
   "cell_type": "code",
   "execution_count": 27,
   "id": "64876480",
   "metadata": {},
   "outputs": [],
   "source": [
    "# using (most) entire dataset WITHOUT polynomic features\n",
    "X = aki_data.drop(columns=['delay_rrt'])\n",
    "y = aki_data[['delay_rrt']]"
   ]
  },
  {
   "cell_type": "code",
   "execution_count": 28,
   "id": "061bd496",
   "metadata": {},
   "outputs": [],
   "source": [
    "# split data\n",
    "X_train, X_test, y_train, y_test = train_test_split(X, y, test_size = 0.33, random_state = 42, stratify =y)"
   ]
  },
  {
   "cell_type": "code",
   "execution_count": 29,
   "id": "2922c73e",
   "metadata": {},
   "outputs": [],
   "source": [
    "pipe = Pipeline([\n",
    "        ('scale', StandardScaler()),\n",
    "        ('sampling', SMOTE(sampling_strategy='minority')),\n",
    "        ('logreg', LogisticRegression(max_iter=1_000, solver='saga'))\n",
    "    ])\n"
   ]
  },
  {
   "cell_type": "code",
   "execution_count": 30,
   "id": "3f23e79f",
   "metadata": {},
   "outputs": [],
   "source": [
    "# regardless of parameters, there is overfitting.\n",
    "pipe_params = {\n",
    "    'sampling__k_neighbors': [5, 10],   # \n",
    "    'logreg__penalty': ['l2', 'l1'],   # \n",
    "    'logreg__C': [1] # \n",
    "}"
   ]
  },
  {
   "cell_type": "code",
   "execution_count": 31,
   "id": "5b9d9e1d",
   "metadata": {},
   "outputs": [],
   "source": [
    "grid = GridSearchCV(pipe, pipe_params, scoring='roc_auc', n_jobs=-1)"
   ]
  },
  {
   "cell_type": "code",
   "execution_count": 32,
   "id": "a2aea3a5",
   "metadata": {},
   "outputs": [
    {
     "data": {
      "text/plain": [
       "GridSearchCV(estimator=Pipeline(steps=[('scale', StandardScaler()),\n",
       "                                       ('sampling',\n",
       "                                        SMOTE(sampling_strategy='minority')),\n",
       "                                       ('logreg',\n",
       "                                        LogisticRegression(max_iter=1000,\n",
       "                                                           solver='saga'))]),\n",
       "             n_jobs=-1,\n",
       "             param_grid={'logreg__C': [1], 'logreg__penalty': ['l2', 'l1'],\n",
       "                         'sampling__k_neighbors': [5, 10]},\n",
       "             scoring='roc_auc')"
      ]
     },
     "execution_count": 32,
     "metadata": {},
     "output_type": "execute_result"
    }
   ],
   "source": [
    "grid.fit(X_train, y_train)"
   ]
  },
  {
   "cell_type": "code",
   "execution_count": 33,
   "id": "cfbe1b24",
   "metadata": {},
   "outputs": [
    {
     "data": {
      "text/plain": [
       "{'logreg__C': 1, 'logreg__penalty': 'l2', 'sampling__k_neighbors': 10}"
      ]
     },
     "execution_count": 33,
     "metadata": {},
     "output_type": "execute_result"
    }
   ],
   "source": [
    "grid.best_params_"
   ]
  },
  {
   "cell_type": "code",
   "execution_count": 34,
   "id": "ea8ea2ed",
   "metadata": {},
   "outputs": [
    {
     "data": {
      "text/plain": [
       "(0.8301235839340886, 0.7226018195078884)"
      ]
     },
     "execution_count": 34,
     "metadata": {},
     "output_type": "execute_result"
    }
   ],
   "source": [
    "grid.score(X_train, y_train), grid.score(X_test, y_test)"
   ]
  },
  {
   "cell_type": "markdown",
   "id": "6855c70f",
   "metadata": {},
   "source": [
    "Accuracy for train set is 0.831, while test set is 0.726. "
   ]
  },
  {
   "cell_type": "code",
   "execution_count": 35,
   "id": "e448651b",
   "metadata": {},
   "outputs": [],
   "source": [
    "# getting feature importance \n",
    "lr_coef = grid.best_estimator_.named_steps['logreg'].coef_"
   ]
  },
  {
   "cell_type": "code",
   "execution_count": 36,
   "id": "7a356aba",
   "metadata": {},
   "outputs": [
    {
     "data": {
      "text/html": [
       "<div>\n",
       "<style scoped>\n",
       "    .dataframe tbody tr th:only-of-type {\n",
       "        vertical-align: middle;\n",
       "    }\n",
       "\n",
       "    .dataframe tbody tr th {\n",
       "        vertical-align: top;\n",
       "    }\n",
       "\n",
       "    .dataframe thead th {\n",
       "        text-align: right;\n",
       "    }\n",
       "</style>\n",
       "<table border=\"1\" class=\"dataframe\">\n",
       "  <thead>\n",
       "    <tr style=\"text-align: right;\">\n",
       "      <th></th>\n",
       "      <th>variable</th>\n",
       "      <th>coef</th>\n",
       "    </tr>\n",
       "  </thead>\n",
       "  <tbody>\n",
       "    <tr>\n",
       "      <th>15</th>\n",
       "      <td>bun_min</td>\n",
       "      <td>1.740401</td>\n",
       "    </tr>\n",
       "    <tr>\n",
       "      <th>10</th>\n",
       "      <td>wbc_max</td>\n",
       "      <td>1.071415</td>\n",
       "    </tr>\n",
       "    <tr>\n",
       "      <th>13</th>\n",
       "      <td>bicarbonate_min</td>\n",
       "      <td>0.622655</td>\n",
       "    </tr>\n",
       "    <tr>\n",
       "      <th>35</th>\n",
       "      <td>temperature_mean</td>\n",
       "      <td>0.556780</td>\n",
       "    </tr>\n",
       "    <tr>\n",
       "      <th>3</th>\n",
       "      <td>hematocrit_min</td>\n",
       "      <td>0.553349</td>\n",
       "    </tr>\n",
       "    <tr>\n",
       "      <th>19</th>\n",
       "      <td>chloride_min</td>\n",
       "      <td>0.525415</td>\n",
       "    </tr>\n",
       "    <tr>\n",
       "      <th>6</th>\n",
       "      <td>hemoglobin_max</td>\n",
       "      <td>0.453564</td>\n",
       "    </tr>\n",
       "    <tr>\n",
       "      <th>17</th>\n",
       "      <td>calcium_min</td>\n",
       "      <td>0.391762</td>\n",
       "    </tr>\n",
       "    <tr>\n",
       "      <th>22</th>\n",
       "      <td>creatinine_max</td>\n",
       "      <td>0.391611</td>\n",
       "    </tr>\n",
       "    <tr>\n",
       "      <th>31</th>\n",
       "      <td>ptt_max</td>\n",
       "      <td>0.386170</td>\n",
       "    </tr>\n",
       "    <tr>\n",
       "      <th>30</th>\n",
       "      <td>pt_max</td>\n",
       "      <td>0.275772</td>\n",
       "    </tr>\n",
       "    <tr>\n",
       "      <th>0</th>\n",
       "      <td>weight</td>\n",
       "      <td>0.143297</td>\n",
       "    </tr>\n",
       "    <tr>\n",
       "      <th>20</th>\n",
       "      <td>chloride_max</td>\n",
       "      <td>0.120558</td>\n",
       "    </tr>\n",
       "    <tr>\n",
       "      <th>11</th>\n",
       "      <td>aniongap_min</td>\n",
       "      <td>0.102348</td>\n",
       "    </tr>\n",
       "    <tr>\n",
       "      <th>8</th>\n",
       "      <td>platelets_max</td>\n",
       "      <td>0.088927</td>\n",
       "    </tr>\n",
       "    <tr>\n",
       "      <th>2</th>\n",
       "      <td>admission_age</td>\n",
       "      <td>0.079800</td>\n",
       "    </tr>\n",
       "    <tr>\n",
       "      <th>29</th>\n",
       "      <td>inr_max</td>\n",
       "      <td>0.051411</td>\n",
       "    </tr>\n",
       "    <tr>\n",
       "      <th>36</th>\n",
       "      <td>spo2_mean</td>\n",
       "      <td>0.042039</td>\n",
       "    </tr>\n",
       "    <tr>\n",
       "      <th>32</th>\n",
       "      <td>heart_rate_mean</td>\n",
       "      <td>-0.008651</td>\n",
       "    </tr>\n",
       "    <tr>\n",
       "      <th>23</th>\n",
       "      <td>glucose_min</td>\n",
       "      <td>-0.059023</td>\n",
       "    </tr>\n",
       "    <tr>\n",
       "      <th>37</th>\n",
       "      <td>glucose_mean</td>\n",
       "      <td>-0.068734</td>\n",
       "    </tr>\n",
       "    <tr>\n",
       "      <th>7</th>\n",
       "      <td>platelets_min</td>\n",
       "      <td>-0.077091</td>\n",
       "    </tr>\n",
       "    <tr>\n",
       "      <th>33</th>\n",
       "      <td>mbp_mean</td>\n",
       "      <td>-0.080034</td>\n",
       "    </tr>\n",
       "    <tr>\n",
       "      <th>24</th>\n",
       "      <td>glucose_max</td>\n",
       "      <td>-0.091498</td>\n",
       "    </tr>\n",
       "    <tr>\n",
       "      <th>38</th>\n",
       "      <td>gcs_min</td>\n",
       "      <td>-0.093727</td>\n",
       "    </tr>\n",
       "    <tr>\n",
       "      <th>27</th>\n",
       "      <td>potassium_min</td>\n",
       "      <td>-0.124327</td>\n",
       "    </tr>\n",
       "    <tr>\n",
       "      <th>12</th>\n",
       "      <td>aniongap_max</td>\n",
       "      <td>-0.130542</td>\n",
       "    </tr>\n",
       "    <tr>\n",
       "      <th>1</th>\n",
       "      <td>aki_stage</td>\n",
       "      <td>-0.176617</td>\n",
       "    </tr>\n",
       "    <tr>\n",
       "      <th>28</th>\n",
       "      <td>potassium_max</td>\n",
       "      <td>-0.191336</td>\n",
       "    </tr>\n",
       "    <tr>\n",
       "      <th>25</th>\n",
       "      <td>sodium_min</td>\n",
       "      <td>-0.227896</td>\n",
       "    </tr>\n",
       "    <tr>\n",
       "      <th>18</th>\n",
       "      <td>calcium_max</td>\n",
       "      <td>-0.254520</td>\n",
       "    </tr>\n",
       "    <tr>\n",
       "      <th>26</th>\n",
       "      <td>sodium_max</td>\n",
       "      <td>-0.273513</td>\n",
       "    </tr>\n",
       "    <tr>\n",
       "      <th>4</th>\n",
       "      <td>hematocrit_max</td>\n",
       "      <td>-0.299659</td>\n",
       "    </tr>\n",
       "    <tr>\n",
       "      <th>34</th>\n",
       "      <td>resp_rate_mean</td>\n",
       "      <td>-0.348373</td>\n",
       "    </tr>\n",
       "    <tr>\n",
       "      <th>14</th>\n",
       "      <td>bicarbonate_max</td>\n",
       "      <td>-0.470534</td>\n",
       "    </tr>\n",
       "    <tr>\n",
       "      <th>5</th>\n",
       "      <td>hemoglobin_min</td>\n",
       "      <td>-0.715982</td>\n",
       "    </tr>\n",
       "    <tr>\n",
       "      <th>9</th>\n",
       "      <td>wbc_min</td>\n",
       "      <td>-0.851116</td>\n",
       "    </tr>\n",
       "    <tr>\n",
       "      <th>16</th>\n",
       "      <td>bun_max</td>\n",
       "      <td>-1.122809</td>\n",
       "    </tr>\n",
       "    <tr>\n",
       "      <th>21</th>\n",
       "      <td>creatinine_min</td>\n",
       "      <td>-1.151577</td>\n",
       "    </tr>\n",
       "  </tbody>\n",
       "</table>\n",
       "</div>"
      ],
      "text/plain": [
       "            variable      coef\n",
       "15           bun_min  1.740401\n",
       "10           wbc_max  1.071415\n",
       "13   bicarbonate_min  0.622655\n",
       "35  temperature_mean  0.556780\n",
       "3     hematocrit_min  0.553349\n",
       "19      chloride_min  0.525415\n",
       "6     hemoglobin_max  0.453564\n",
       "17       calcium_min  0.391762\n",
       "22    creatinine_max  0.391611\n",
       "31           ptt_max  0.386170\n",
       "30            pt_max  0.275772\n",
       "0             weight  0.143297\n",
       "20      chloride_max  0.120558\n",
       "11      aniongap_min  0.102348\n",
       "8      platelets_max  0.088927\n",
       "2      admission_age  0.079800\n",
       "29           inr_max  0.051411\n",
       "36         spo2_mean  0.042039\n",
       "32   heart_rate_mean -0.008651\n",
       "23       glucose_min -0.059023\n",
       "37      glucose_mean -0.068734\n",
       "7      platelets_min -0.077091\n",
       "33          mbp_mean -0.080034\n",
       "24       glucose_max -0.091498\n",
       "38           gcs_min -0.093727\n",
       "27     potassium_min -0.124327\n",
       "12      aniongap_max -0.130542\n",
       "1          aki_stage -0.176617\n",
       "28     potassium_max -0.191336\n",
       "25        sodium_min -0.227896\n",
       "18       calcium_max -0.254520\n",
       "26        sodium_max -0.273513\n",
       "4     hematocrit_max -0.299659\n",
       "34    resp_rate_mean -0.348373\n",
       "14   bicarbonate_max -0.470534\n",
       "5     hemoglobin_min -0.715982\n",
       "9            wbc_min -0.851116\n",
       "16           bun_max -1.122809\n",
       "21    creatinine_min -1.151577"
      ]
     },
     "execution_count": 36,
     "metadata": {},
     "output_type": "execute_result"
    }
   ],
   "source": [
    "coef_tot = pd.DataFrame(list(zip(X.columns,lr_coef[0])))\n",
    "coef_tot.columns = ['variable','coef']\n",
    "coef_tot.sort_values(by='coef',ascending=False)"
   ]
  },
  {
   "cell_type": "markdown",
   "id": "20593a99",
   "metadata": {},
   "source": [
    "**top 5 features**"
   ]
  },
  {
   "cell_type": "code",
   "execution_count": 37,
   "id": "c42c241a",
   "metadata": {},
   "outputs": [
    {
     "data": {
      "text/html": [
       "<div>\n",
       "<style scoped>\n",
       "    .dataframe tbody tr th:only-of-type {\n",
       "        vertical-align: middle;\n",
       "    }\n",
       "\n",
       "    .dataframe tbody tr th {\n",
       "        vertical-align: top;\n",
       "    }\n",
       "\n",
       "    .dataframe thead th {\n",
       "        text-align: right;\n",
       "    }\n",
       "</style>\n",
       "<table border=\"1\" class=\"dataframe\">\n",
       "  <thead>\n",
       "    <tr style=\"text-align: right;\">\n",
       "      <th></th>\n",
       "      <th>variable</th>\n",
       "      <th>coef</th>\n",
       "    </tr>\n",
       "  </thead>\n",
       "  <tbody>\n",
       "    <tr>\n",
       "      <th>15</th>\n",
       "      <td>bun_min</td>\n",
       "      <td>1.740401</td>\n",
       "    </tr>\n",
       "    <tr>\n",
       "      <th>10</th>\n",
       "      <td>wbc_max</td>\n",
       "      <td>1.071415</td>\n",
       "    </tr>\n",
       "    <tr>\n",
       "      <th>13</th>\n",
       "      <td>bicarbonate_min</td>\n",
       "      <td>0.622655</td>\n",
       "    </tr>\n",
       "    <tr>\n",
       "      <th>35</th>\n",
       "      <td>temperature_mean</td>\n",
       "      <td>0.556780</td>\n",
       "    </tr>\n",
       "    <tr>\n",
       "      <th>3</th>\n",
       "      <td>hematocrit_min</td>\n",
       "      <td>0.553349</td>\n",
       "    </tr>\n",
       "  </tbody>\n",
       "</table>\n",
       "</div>"
      ],
      "text/plain": [
       "            variable      coef\n",
       "15           bun_min  1.740401\n",
       "10           wbc_max  1.071415\n",
       "13   bicarbonate_min  0.622655\n",
       "35  temperature_mean  0.556780\n",
       "3     hematocrit_min  0.553349"
      ]
     },
     "execution_count": 37,
     "metadata": {},
     "output_type": "execute_result"
    }
   ],
   "source": [
    "coef_tot.sort_values(by='coef',ascending=False).head()"
   ]
  },
  {
   "cell_type": "markdown",
   "id": "64e4da59",
   "metadata": {},
   "source": [
    "There is 18x higher likelihood to receive delayed rrt with one unit increase in bun_min, compared to features such as 'platelets_max', 'inr_max', 'glucose_min', 'chloride_max', 'aniongap_min', 'heart_rate_mean', 'glucose_max', 'glucose_mean',\t'mbp_mean', 'platelets_min'."
   ]
  },
  {
   "cell_type": "markdown",
   "id": "3ff97035",
   "metadata": {},
   "source": [
    "**negative features**"
   ]
  },
  {
   "cell_type": "code",
   "execution_count": 38,
   "id": "70a3a200",
   "metadata": {},
   "outputs": [
    {
     "data": {
      "text/html": [
       "<div>\n",
       "<style scoped>\n",
       "    .dataframe tbody tr th:only-of-type {\n",
       "        vertical-align: middle;\n",
       "    }\n",
       "\n",
       "    .dataframe tbody tr th {\n",
       "        vertical-align: top;\n",
       "    }\n",
       "\n",
       "    .dataframe thead th {\n",
       "        text-align: right;\n",
       "    }\n",
       "</style>\n",
       "<table border=\"1\" class=\"dataframe\">\n",
       "  <thead>\n",
       "    <tr style=\"text-align: right;\">\n",
       "      <th></th>\n",
       "      <th>variable</th>\n",
       "      <th>coef</th>\n",
       "    </tr>\n",
       "  </thead>\n",
       "  <tbody>\n",
       "    <tr>\n",
       "      <th>21</th>\n",
       "      <td>creatinine_min</td>\n",
       "      <td>-1.151577</td>\n",
       "    </tr>\n",
       "    <tr>\n",
       "      <th>16</th>\n",
       "      <td>bun_max</td>\n",
       "      <td>-1.122809</td>\n",
       "    </tr>\n",
       "    <tr>\n",
       "      <th>9</th>\n",
       "      <td>wbc_min</td>\n",
       "      <td>-0.851116</td>\n",
       "    </tr>\n",
       "    <tr>\n",
       "      <th>5</th>\n",
       "      <td>hemoglobin_min</td>\n",
       "      <td>-0.715982</td>\n",
       "    </tr>\n",
       "    <tr>\n",
       "      <th>14</th>\n",
       "      <td>bicarbonate_max</td>\n",
       "      <td>-0.470534</td>\n",
       "    </tr>\n",
       "  </tbody>\n",
       "</table>\n",
       "</div>"
      ],
      "text/plain": [
       "           variable      coef\n",
       "21   creatinine_min -1.151577\n",
       "16          bun_max -1.122809\n",
       "9           wbc_min -0.851116\n",
       "5    hemoglobin_min -0.715982\n",
       "14  bicarbonate_max -0.470534"
      ]
     },
     "execution_count": 38,
     "metadata": {},
     "output_type": "execute_result"
    }
   ],
   "source": [
    "coef_tot.sort_values(by='coef').head()"
   ]
  },
  {
   "cell_type": "markdown",
   "id": "67099af4",
   "metadata": {},
   "source": [
    "There is 12x higher likelihood to NOT receive delayed rrt with one unit increase in bun_max, compared to features such as 'platelets_max', 'inr_max', 'glucose_min', 'chloride_max', 'aniongap_min', 'heart_rate_mean', 'glucose_max', 'glucose_mean',\t'mbp_mean', 'platelets_min'."
   ]
  },
  {
   "cell_type": "markdown",
   "id": "49b57224",
   "metadata": {},
   "source": [
    "## Feature extraction"
   ]
  },
  {
   "cell_type": "markdown",
   "id": "65b77570",
   "metadata": {},
   "source": [
    "For feature extraction, we will use PCA to identify and keep those potential important relationships, before performing the predictions/models. Due to the number of features (and high-dimensional manifold) in our dataset, PCA was utilised to perform an unsupervised dimensionality reduction on the training dataset. In such a way, PCA will provide the best linear approximations before modeling and prediction was performed ([source](https://arxiv.org/ftp/arxiv/papers/1403/1403.1949.pdf)). GridSearchCV is used to set the dimensionality of the PCA. "
   ]
  },
  {
   "cell_type": "code",
   "execution_count": 39,
   "id": "220b52c1",
   "metadata": {},
   "outputs": [
    {
     "data": {
      "text/plain": [
       "aniongap_max potassium_max       0.291583\n",
       "aniongap_max creatinine_max      0.290806\n",
       "aniongap_max mbp_mean            0.274197\n",
       "creatinine_max potassium_max     0.273823\n",
       "aniongap_max dbp_mean            0.262543\n",
       "aniongap_min potassium_max       0.260355\n",
       "calcium_max creatinine_max       0.259650\n",
       "hematocrit_max creatinine_max    0.259116\n",
       "aniongap_max sbp_mean            0.259088\n",
       "aniongap_min creatinine_max      0.258068\n",
       "hemoglobin_max creatinine_max    0.257905\n",
       "creatinine_max gcs_min           0.257502\n",
       "creatinine_max resp_rate_mean    0.256791\n",
       "aniongap_max^2                   0.255885\n",
       "aniongap_max                     0.254689\n",
       "aniongap_max calcium_max         0.254303\n",
       "aniongap_max spo2_mean           0.250221\n",
       "aniongap_max sodium_max          0.249964\n",
       "aniongap_max temperature_mean    0.249200\n",
       "aniongap_max gcs_min             0.248238\n",
       "dtype: float64"
      ]
     },
     "execution_count": 39,
     "metadata": {},
     "output_type": "execute_result"
    }
   ],
   "source": [
    "# including polynomial features\n",
    "abs(X_poly_corrs).sort_values(ascending=False).head(20)"
   ]
  },
  {
   "cell_type": "code",
   "execution_count": 40,
   "id": "aecd6f6b",
   "metadata": {},
   "outputs": [],
   "source": [
    "# Adding top abs 20 interaction features into dataset\n",
    "# aniongap_max^2 is not added, because little diff between aniongap_max (which is already in dataset)\n",
    "\n",
    "aki_data['aniongap_max*potassium_max'] = aki_data['aniongap_max'] * aki_data['potassium_max']\n",
    "aki_data['aniongap_max*creatinine_max'] = aki_data['aniongap_max'] * aki_data['creatinine_max']\n",
    "aki_data['aniongap_max*mbp_mean'] = aki_data['aniongap_max'] * aki_data['mbp_mean']\n",
    "aki_data['creatinine_max*potassium_max'] = aki_data['creatinine_max'] * aki_data['potassium_max']\n",
    "aki_data['aniongap_min*potassium_max'] = aki_data['aniongap_min'] * aki_data['potassium_max']\n",
    "aki_data['calcium_max*creatinine_max'] = aki_data['calcium_max'] * aki_data['creatinine_max']\n",
    "aki_data['hematocrit_max*creatinine_max'] = aki_data['hematocrit_max'] * aki_data['creatinine_max']\n",
    "aki_data['aniongap_min*creatinine_max'] = aki_data['aniongap_min'] * aki_data['creatinine_max']\n",
    "aki_data['hemoglobin_max*creatinine_max'] = aki_data['hemoglobin_max'] * aki_data['creatinine_max']\n",
    "aki_data['creatinine_max*gcs_min'] = aki_data['creatinine_max'] * aki_data['gcs_min']\n",
    "aki_data['creatinine_max*resp_rate_mean'] = aki_data['creatinine_max'] = aki_data['resp_rate_mean']\n",
    "aki_data['aniongap_max*calcium_max'] = aki_data['aniongap_max'] * aki_data['calcium_max']\n",
    "aki_data['aniongap_max*spo2_mean'] = aki_data['aniongap_max'] * aki_data['spo2_mean']\n",
    "aki_data['aniongap_max*sodium_max'] = aki_data['aniongap_max'] * aki_data['sodium_max']\n",
    "aki_data['aniongap_max*temperature_mean'] = aki_data['aniongap_max'] * aki_data['temperature_mean']\n",
    "aki_data['aniongap_max*gcs_min'] = aki_data['aniongap_max'] * aki_data['gcs_min']\n",
    "# aki_data['chloride_min*temperature_mean'] = aki_data['chloride_min'] * aki_data['temperature_min']\n",
    "# aki_data['bicarbonate_min*chloride_max'] = aki_data['bicarbonate_min'] * aki_data['chloride_max']"
   ]
  },
  {
   "cell_type": "code",
   "execution_count": 41,
   "id": "b059bff2",
   "metadata": {},
   "outputs": [],
   "source": [
    "X = aki_data.drop(columns=['delay_rrt'])\n",
    "y = aki_data[['delay_rrt']]"
   ]
  },
  {
   "cell_type": "code",
   "execution_count": 42,
   "id": "7cafb96c",
   "metadata": {},
   "outputs": [
    {
     "data": {
      "text/plain": [
       "(1778, 55)"
      ]
     },
     "execution_count": 42,
     "metadata": {},
     "output_type": "execute_result"
    }
   ],
   "source": [
    "# ? + 18 = 55\n",
    "X.shape "
   ]
  },
  {
   "cell_type": "code",
   "execution_count": 43,
   "id": "b89f9468",
   "metadata": {},
   "outputs": [],
   "source": [
    "# split\n",
    "X_train, X_test, y_train, y_test = train_test_split(X, y, test_size=0.33, random_state=42, stratify=y)"
   ]
  },
  {
   "cell_type": "code",
   "execution_count": 44,
   "id": "6a9401ec",
   "metadata": {},
   "outputs": [],
   "source": [
    "# scaling\n",
    "ss_pca = StandardScaler()\n",
    "\n",
    "X_train_sc = ss_pca.fit_transform(X_train)\n",
    "X_test_sc = ss_pca.transform(X_test)"
   ]
  },
  {
   "cell_type": "code",
   "execution_count": 45,
   "id": "8d78ffed",
   "metadata": {},
   "outputs": [
    {
     "data": {
      "text/plain": [
       "PCA(n_components=55)"
      ]
     },
     "execution_count": 45,
     "metadata": {},
     "output_type": "execute_result"
    }
   ],
   "source": [
    "# Instantiate PCA.\n",
    "# up to n_components were tested\n",
    "pca = PCA(n_components = 55)\n",
    "\n",
    "# Fit PCA on the training data.\n",
    "pca.fit(X_train_sc)"
   ]
  },
  {
   "cell_type": "markdown",
   "id": "f71fcfc9",
   "metadata": {},
   "source": [
    "In the below pipeline, PCA will perform unsupervised dimensionality reduction on the training data before upsampling it. This is so that upsampling will only be performed on the reduced dimensional manifold and not on the entire dataset. The models for the prediction will be done last. In the below pipeline, the logistic regression model was utilised. "
   ]
  },
  {
   "cell_type": "code",
   "execution_count": 46,
   "id": "dd39438b",
   "metadata": {},
   "outputs": [],
   "source": [
    "pipe = Pipeline([\n",
    "        ('scale', StandardScaler()),\n",
    "        ('pca', PCA()),\n",
    "        ('sampling', SMOTE(sampling_strategy='minority')),\n",
    "        ('logreg', LogisticRegression(max_iter=1_000, solver='saga'))\n",
    "    ])"
   ]
  },
  {
   "cell_type": "code",
   "execution_count": 47,
   "id": "e5a93de3",
   "metadata": {},
   "outputs": [],
   "source": [
    "pipe_params = {\n",
    "    'pca__n_components': [5,10,15,20,25,30,35,40,45,50,55],  \n",
    "} "
   ]
  },
  {
   "cell_type": "code",
   "execution_count": 48,
   "id": "385dec3e",
   "metadata": {},
   "outputs": [],
   "source": [
    "grid = GridSearchCV(pipe, pipe_params, scoring='roc_auc', n_jobs=-1)"
   ]
  },
  {
   "cell_type": "code",
   "execution_count": 49,
   "id": "8dac0886",
   "metadata": {},
   "outputs": [
    {
     "data": {
      "text/plain": [
       "GridSearchCV(estimator=Pipeline(steps=[('scale', StandardScaler()),\n",
       "                                       ('pca', PCA()),\n",
       "                                       ('sampling',\n",
       "                                        SMOTE(sampling_strategy='minority')),\n",
       "                                       ('logreg',\n",
       "                                        LogisticRegression(max_iter=1000,\n",
       "                                                           solver='saga'))]),\n",
       "             n_jobs=-1,\n",
       "             param_grid={'pca__n_components': [5, 10, 15, 20, 25, 30, 35, 40,\n",
       "                                               45, 50, 55]},\n",
       "             scoring='roc_auc')"
      ]
     },
     "execution_count": 49,
     "metadata": {},
     "output_type": "execute_result"
    }
   ],
   "source": [
    "grid.fit(X_train, y_train)"
   ]
  },
  {
   "cell_type": "code",
   "execution_count": 50,
   "id": "af15f3bf",
   "metadata": {},
   "outputs": [
    {
     "data": {
      "image/png": "[encoded data removed]",
      "text/plain": [
       "<Figure size 432x432 with 2 Axes>"
      ]
     },
     "metadata": {
      "needs_background": "light"
     },
     "output_type": "display_data"
    }
   ],
   "source": [
    "# https://scikit-learn.org/stable/auto_examples/compose/plot_digits_pipe.html#sphx-glr-auto-examples-compose-plot-digits-pipe-py\n",
    "# Plot search for best combination of PCA n_components and logistic regression accuracy\n",
    "# pca.fit(X_train_sc)\n",
    "fig, (ax0, ax1) = plt.subplots(nrows=2, sharex=True, figsize=(6, 6))\n",
    "ax0.plot(np.arange(1, pca.n_components_ + 1),\n",
    "         pca.explained_variance_ratio_.cumsum(), '+', linewidth=10)\n",
    "ax0.set_ylabel('Cumulative PCA explained variance ratio')\n",
    "\n",
    "results = pd.DataFrame(grid.cv_results_)\n",
    "components_col = 'param_pca__n_components'\n",
    "best_clfs = results.groupby(components_col).apply(\n",
    "    lambda g: g.nlargest(1, 'mean_test_score'))\n",
    "\n",
    "best_clfs.plot(x=components_col, y='mean_test_score', yerr='std_test_score',\n",
    "               legend=False, ax=ax1)\n",
    "ax1.set_ylabel('Classification accuracy (val)')\n",
    "ax1.set_xlabel('n_components');\n",
    "plt.suptitle('Dimensional reduction based on PCA n_components');"
   ]
  },
  {
   "cell_type": "code",
   "execution_count": 66,
   "id": "9586d9d2",
   "metadata": {},
   "outputs": [
    {
     "name": "stdout",
     "output_type": "stream",
     "text": [
      "Cumulative explained variance (for n_components=20): 0.9317110347308232\n"
     ]
    }
   ],
   "source": [
    "print(f'Cumulative explained variance (for n_components=20): {pca.explained_variance_ratio_.cumsum()[20]}')"
   ]
  },
  {
   "cell_type": "code",
   "execution_count": 52,
   "id": "46f4aa5b",
   "metadata": {},
   "outputs": [
    {
     "data": {
      "text/plain": [
       "{'pca__n_components': 45}"
      ]
     },
     "execution_count": 52,
     "metadata": {},
     "output_type": "execute_result"
    }
   ],
   "source": [
    "grid.best_params_"
   ]
  },
  {
   "cell_type": "code",
   "execution_count": 53,
   "id": "223ee140",
   "metadata": {},
   "outputs": [
    {
     "data": {
      "text/plain": [
       "(0.8301048590955904, 0.7202410656020881)"
      ]
     },
     "execution_count": 53,
     "metadata": {},
     "output_type": "execute_result"
    }
   ],
   "source": [
    "grid.score(X_train, y_train), grid.score(X_test, y_test)"
   ]
  },
  {
   "cell_type": "markdown",
   "id": "38f3e7fd",
   "metadata": {},
   "source": [
    "GridSearchCV chose n_components=45, however, there was overfitting at n_components=45. Since PCA utilises n_components, the decision is to use n_components=20, to minimise overfitting, and we would retain approximately 93% of the variability in the data.\n",
    "<br>\n",
    "<br> The curse is after the dataset is PCA-transformed, there is no correlation between any features. In addition, the new principal components are not interpretable. So, to dig into the feature importance, one will have to convert the PCA-transformed data back to the original features."
   ]
  },
  {
   "cell_type": "markdown",
   "id": "41531586",
   "metadata": {},
   "source": [
    "### Models"
   ]
  },
  {
   "cell_type": "code",
   "execution_count": 54,
   "id": "bcb07cf0",
   "metadata": {},
   "outputs": [],
   "source": [
    "# Instantiate models\n",
    "models = {'lr': LogisticRegression(max_iter=1000, solver='saga'),\n",
    "        'dt': DecisionTreeClassifier(),\n",
    "        'rf': RandomForestClassifier(),\n",
    "        'et': ExtraTreesClassifier(),\n",
    "        'svc': SVC(probability=True),\n",
    "        } "
   ]
  },
  {
   "cell_type": "code",
   "execution_count": 55,
   "id": "80a0d8e1",
   "metadata": {},
   "outputs": [],
   "source": [
    "def run_models(model, model_params):\n",
    "    pipe = Pipeline([\n",
    "            ('scale', StandardScaler()),\n",
    "            ('pca', PCA(n_components = 30)),\n",
    "            ('sampling', SMOTE(sampling_strategy = 'minority')),\n",
    "            (model, models[model])\n",
    "            ])\n",
    "    \n",
    "    grid = GridSearchCV(pipe, param_grid=model_params, cv=3, scoring='roc_auc', n_jobs=-1)\n",
    "    grid.fit(X_train, y_train)\n",
    "\n",
    "    # metrics\n",
    "    train_score = grid.score(X_train, y_train)\n",
    "    test_score = grid.score(X_test, y_test)\n",
    "    preds = grid.predict(X_test)\n",
    "    tn, fp, fn, tp = confusion_matrix(y_test, preds).ravel()\n",
    "  \n",
    "    # View confusion matrix\n",
    "    plot_confusion_matrix(grid, X_test, y_test, cmap='Blues', values_format='d');\n",
    "    \n",
    "    # Calculate the sensitivity/ recall\n",
    "    sens = tp / (tp + fn)\n",
    "    \n",
    "    # Calculate the specificity\n",
    "    spec = tn / (tn + fp) \n",
    "    \n",
    "    # print results\n",
    "    print(f'Best params: {grid.best_params_}')\n",
    "    print(f'Training score: {round(train_score, 4)}')\n",
    "    print(f'Test score: {round(test_score, 4)}')\n",
    "    print(f'Recall: {round(sens, 4)}')\n",
    "    print(f'Specificity: {round(spec, 4)}')\n",
    "    return grid"
   ]
  },
  {
   "cell_type": "markdown",
   "id": "82bbaa2d",
   "metadata": {},
   "source": [
    "**Logistic Regression**"
   ]
  },
  {
   "cell_type": "code",
   "execution_count": 56,
   "id": "fd638152",
   "metadata": {},
   "outputs": [
    {
     "name": "stdout",
     "output_type": "stream",
     "text": [
      "Best params: {'lr__C': 0.1, 'lr__penalty': 'l1', 'sampling__k_neighbors': 10}\n",
      "Training score: 0.8032\n",
      "Test score: 0.7273\n",
      "Recall: 0.7406\n",
      "Specificity: 0.5872\n"
     ]
    },
    {
     "data": {
      "image/png": "[encoded data removed]",
      "text/plain": [
       "<Figure size 432x288 with 2 Axes>"
      ]
     },
     "metadata": {
      "needs_background": "light"
     },
     "output_type": "display_data"
    }
   ],
   "source": [
    "# logistic regression\n",
    "# grid_params = {\n",
    "#     'sampling__k_neighbors': [10,15,20],  \n",
    "#     'lr__penalty': ['l1', 'l2',  'elasticnet'],   \n",
    "#     'lr__C': [0.1, 1, 10]  \n",
    "# } \n",
    "\n",
    "best_params = {\n",
    "    'sampling__k_neighbors': [10],  \n",
    "    'lr__penalty': ['l1'],   \n",
    "    'lr__C': [0.1]  \n",
    "# }\n",
    "\n",
    "lr = run_models('lr', best_params)"
   ]
  },
  {
   "cell_type": "markdown",
   "id": "f466eac7",
   "metadata": {},
   "source": [
    "**Decision Tree Classifier**"
   ]
  },
  {
   "cell_type": "code",
   "execution_count": 57,
   "id": "6a65e132",
   "metadata": {},
   "outputs": [
    {
     "name": "stdout",
     "output_type": "stream",
     "text": [
      "Best params: {'dt__max_depth': 70, 'dt__min_samples_leaf': 90, 'dt__min_samples_split': 90, 'sampling__k_neighbors': 60}\n",
      "Training score: 0.7909\n",
      "Test score: 0.6947\n",
      "Recall: 0.636\n",
      "Specificity: 0.6422\n"
     ]
    },
    {
     "data": {
      "image/png": "[encoded data removed]",
      "text/plain": [
       "<Figure size 432x288 with 2 Axes>"
      ]
     },
     "metadata": {
      "needs_background": "light"
     },
     "output_type": "display_data"
    }
   ],
   "source": [
    "# decision tree classifier\n",
    "# grid_params = {\n",
    "#     'sampling__k_neighbors': [40, 50, 60],  \n",
    "#     'dt__max_depth': [70, 80, 90],\n",
    "#     'dt__min_samples_split': [70, 80, 90],\n",
    "#     'dt__min_samples_leaf': [70, 80, 90],\n",
    "# } \n",
    "\n",
    "best_params = {\n",
    "    'sampling__k_neighbors': [60],  \n",
    "    'dt__max_depth': [70],\n",
    "    'dt__min_samples_split': [90],\n",
    "    'dt__min_samples_leaf': [90],\n",
    "} \n",
    "\n",
    "dt = run_models('dt', best_params)"
   ]
  },
  {
   "cell_type": "markdown",
   "id": "80c83052",
   "metadata": {},
   "source": [
    "**Random forest classifier**"
   ]
  },
  {
   "cell_type": "code",
   "execution_count": 58,
   "id": "e3a7ee79",
   "metadata": {},
   "outputs": [
    {
     "name": "stdout",
     "output_type": "stream",
     "text": [
      "Best params: {'rf__max_depth': 10, 'rf__min_samples_leaf': 50, 'rf__min_samples_split': 20, 'rf__n_estimators': 20, 'sampling__k_neighbors': 30}\n",
      "Training score: 0.8638\n",
      "Test score: 0.6855\n",
      "Recall: 0.7427\n",
      "Specificity: 0.4679\n"
     ]
    },
    {
     "data": {
      "image/png": "[encoded data removed]",
      "text/plain": [
       "<Figure size 432x288 with 2 Axes>"
      ]
     },
     "metadata": {
      "needs_background": "light"
     },
     "output_type": "display_data"
    }
   ],
   "source": [
    "# random forest classifier\n",
    "# grid_params = {\n",
    "#     'sampling__k_neighbors': [70, 80, 90],\n",
    "#     'rf__n_estimators': [70, 80, 90],\n",
    "#     'rf__max_depth': [50, 80, 90],\n",
    "#     'rf__min_samples_split': [70, 80, 90],\n",
    "#     'rf__min_samples_leaf': [70, 80, 90],\n",
    "# } \n",
    "\n",
    "best_params = {\n",
    "    'sampling__k_neighbors': [30], \n",
    "    'rf__n_estimators': [20],\n",
    "    'rf__max_depth': [10],\n",
    "    'rf__min_samples_split': [20],\n",
    "    'rf__min_samples_leaf': [50],\n",
    "} \n",
    "\n",
    "rf = run_models('rf', best_params)\n"
   ]
  },
  {
   "cell_type": "markdown",
   "id": "86b77586",
   "metadata": {},
   "source": [
    "**Extra trees classifier**"
   ]
  },
  {
   "cell_type": "code",
   "execution_count": 59,
   "id": "f99da4fe",
   "metadata": {},
   "outputs": [
    {
     "name": "stdout",
     "output_type": "stream",
     "text": [
      "Best params: {'et__max_depth': 4, 'et__min_samples_leaf': 10, 'et__min_samples_split': 15, 'et__n_estimators': 35, 'sampling__k_neighbors': 15}\n",
      "Training score: 0.857\n",
      "Test score: 0.7277\n",
      "Recall: 0.7322\n",
      "Specificity: 0.578\n"
     ]
    },
    {
     "data": {
      "image/png": "[encoded data removed]",
      "text/plain": [
       "<Figure size 432x288 with 2 Axes>"
      ]
     },
     "metadata": {
      "needs_background": "light"
     },
     "output_type": "display_data"
    }
   ],
   "source": [
    "# extra trees classifier\n",
    "# grid_params = {\n",
    "#     'sampling__k_neighbors': [15, 20, 25],\n",
    "#     'et__n_estimators': [30, 35],\n",
    "#     'et__max_depth': [4, 5, 6],\n",
    "#     'et__min_samples_split': [10, 15],\n",
    "#     'et__min_samples_leaf': [10, 15],\n",
    "# } \n",
    "\n",
    "best_params = {\n",
    "    'sampling__k_neighbors': [20],\n",
    "    'et__n_estimators': [30],  \n",
    "    'et__max_depth': [4],  \n",
    "    'et__min_samples_split': [15],\n",
    "    'et__min_samples_leaf': [10],\n",
    "}\n",
    "\n",
    "et = run_models('et', best_params)"
   ]
  },
  {
   "cell_type": "markdown",
   "id": "ad9b4678",
   "metadata": {},
   "source": [
    "**Feature importance**"
   ]
  },
  {
   "cell_type": "code",
   "execution_count": 60,
   "id": "26b952a1",
   "metadata": {},
   "outputs": [
    {
     "data": {
      "image/png": "[encoded data removed]",
      "text/plain": [
       "<Figure size 1440x1080 with 1 Axes>"
      ]
     },
     "metadata": {
      "needs_background": "light"
     },
     "output_type": "display_data"
    }
   ],
   "source": [
    "# https://stackoverflow.com/questions/50796024/feature-variable-importance-after-a-pca-analysis\n",
    "# PCA-transform data back to orignal features\n",
    "num_plot = 20\n",
    "\n",
    "pipe = Pipeline([\n",
    "            ('scale', StandardScaler()),\n",
    "            ('pca', PCA(n_components = num_plot)),\n",
    "            ('sampling', SMOTE(sampling_strategy='minority', k_neighbors=20)),\n",
    "            ('rf', ExtraTreesClassifier(n_estimators=30, max_depth=6, min_samples_split = 10, min_samples_leaf = 15)),\n",
    "            ])\n",
    "\n",
    "pipe.fit(X_train, y_train)\n",
    "\n",
    "model = pipe.steps[1][1]\n",
    "n_pcs = model.components_.shape[0]\n",
    "\n",
    "# get index for more important feature from each n_component\n",
    "feature_names = X_train.columns\n",
    "most_important = [np.abs(model.components_[i]).argmax() for i in range(n_pcs)]\n",
    "most_important_names = [feature_names[most_important[i]] for i in range(n_pcs)]\n",
    "\n",
    "# combine for plotting later\n",
    "zipped_feats = zip(most_important_names, pipe.steps[3][1].feature_importances_)\n",
    "zipped_feats = sorted(zipped_feats, key=lambda x: x[1], reverse=True)\n",
    "features, importances = zip(*zipped_feats)\n",
    "\n",
    "# n_components = 20\n",
    "top_features = features[:num_plot]\n",
    "top_importances = importances[:num_plot]\n",
    "plt.figure(figsize=(20,15))\n",
    "plt.barh(range(len(top_importances)), top_importances, align='center')\n",
    "plt.yticks(range(len(top_importances)), top_features)\n",
    "plt.title('Feature Importances',fontsize=20)\n",
    "plt.xlabel('Gini Importance',fontsize=15)\n",
    "plt.show() "
   ]
  },
  {
   "cell_type": "markdown",
   "id": "37eed970",
   "metadata": {},
   "source": [
    "**Support Vector Classification**"
   ]
  },
  {
   "cell_type": "code",
   "execution_count": 61,
   "id": "58f35d9f",
   "metadata": {},
   "outputs": [
    {
     "name": "stdout",
     "output_type": "stream",
     "text": [
      "Best params: {'sampling__k_neighbors': 30, 'svc__C': 10, 'svc__gamma': 'scale', 'svc__kernel': 'linear'}\n",
      "Training score: 0.8063\n",
      "Test score: 0.7324\n",
      "Recall: 0.7176\n",
      "Specificity: 0.6055\n"
     ]
    },
    {
     "data": {
      "image/png": "[encoded data removed]",
      "text/plain": [
       "<Figure size 432x288 with 2 Axes>"
      ]
     },
     "metadata": {
      "needs_background": "light"
     },
     "output_type": "display_data"
    }
   ],
   "source": [
    "# Support Vector Classification\n",
    "# grid_params = {\n",
    "#     'sampling__k_neighbors': [25, 30],     \n",
    "#     'svc__kernel': ['linear', 'sigmoid'],   \n",
    "#     'svc__gamma' : ['scale', 'auto'], \n",
    "#     'svc__C': [1 ,5 ,10] \n",
    "# } \n",
    "\n",
    "best_params = {\n",
    "    'sampling__k_neighbors': [30],     \n",
    "    'svc__kernel': ['linear'],    \n",
    "    'svc__gamma' : ['scale'],\n",
    "    'svc__C': [10] \n",
    "} \n",
    "\n",
    "svc = run_models('svc', best_params)"
   ]
  },
  {
   "cell_type": "markdown",
   "id": "d2f53b91",
   "metadata": {},
   "source": [
    "**Feature importance**"
   ]
  },
  {
   "cell_type": "code",
   "execution_count": 62,
   "id": "dec7737a",
   "metadata": {},
   "outputs": [
    {
     "name": "stdout",
     "output_type": "stream",
     "text": [
      "('aniongap_max*creatinine_max',)\n",
      "(array([-0.26403962, -0.08274747, -0.12295176,  0.0170741 , -0.07941787,\n",
      "       -0.01720758,  0.23581009,  0.24812305, -0.27333569,  0.16784321,\n",
      "       -0.14063603, -0.05085818,  0.0607359 , -0.12750844, -0.53725808,\n",
      "       -0.2241743 ,  0.0583987 , -0.05377906, -0.04928964, -0.00105487,\n",
      "        0.32070493, -0.02713314, -0.18489336, -0.24918143, -0.08455037,\n",
      "        0.12466718, -0.17747838, -0.52683501, -0.21476526, -0.28266959]),)\n"
     ]
    }
   ],
   "source": [
    "# https://stackoverflow.com/questions/50796024/feature-variable-importance-after-a-pca-analysis\n",
    "# PCA-transform data back to orignal features\n",
    "num_plot = 30\n",
    "\n",
    "pipe = Pipeline([\n",
    "            ('scale', StandardScaler()),\n",
    "            ('pca', PCA(n_components = num_plot)),\n",
    "            ('sampling', SMOTE(sampling_strategy='minority',k_neighbors =30)),\n",
    "            ('svc', SVC(C=10, gamma='auto', kernel='linear',probability=True)),\n",
    "            ])\n",
    "\n",
    "pipe.fit(X_train, y_train)\n",
    "\n",
    "model = pipe.steps[1][1]\n",
    "n_pcs = model.components_.shape[0]\n",
    "\n",
    "# get index for more important feature from each n_component\n",
    "feature_names = X_train.columns\n",
    "most_important = [np.abs(model.components_[i]).argmax() for i in range(n_pcs)]\n",
    "most_important_names = [feature_names[most_important[i]] for i in range(n_pcs)]\n",
    "\n",
    "# combine for plotting later\n",
    "zipped_feats = zip(most_important_names, pipe.steps[3][1].coef_)\n",
    "zipped_feats = sorted(zipped_feats, key=lambda x: x[1], reverse=True)\n",
    "features, importances = zip(*zipped_feats)\n",
    "\n",
    "# n_components = 30\n",
    "top_features = features[:num_plot]\n",
    "top_importances = importances[:num_plot]\n",
    "print(top_features)\n",
    "print(top_importances)\n",
    "# plt.figure(figsize=(10,7))\n",
    "# plt.barh(range(len(top_importances)), top_importances, align='center')\n",
    "# plt.yticks(range(len(top_importances)), top_features)\n",
    "# plt.title('Feature Importances')\n",
    "# plt.xlabel('Coefficients')\n",
    "# plt.show() "
   ]
  },
  {
   "cell_type": "code",
   "execution_count": null,
   "id": "9632ddc8",
   "metadata": {},
   "outputs": [],
   "source": []
  },
  {
   "cell_type": "code",
   "execution_count": null,
   "id": "b3e11b62",
   "metadata": {},
   "outputs": [],
   "source": []
  },
  {
   "cell_type": "markdown",
   "id": "31b9e55e",
   "metadata": {},
   "source": [
    "## Plot ROC-AUC "
   ]
  },
  {
   "cell_type": "code",
   "execution_count": 63,
   "id": "2d33eff1",
   "metadata": {},
   "outputs": [],
   "source": [
    "def plot_all_auc(models):\n",
    "    fig, ax = plt.subplots(figsize=(10,10))\n",
    "    axes = {}\n",
    "    for i, m in enumerate(models.keys()):\n",
    "        axes[f'ax{i}'] = plot_roc_curve(m, X_test, y_test, ax=ax, name=models[m])\n",
    "        \n",
    "    plt.plot([0, 1], [0, 1], color='k', linestyle='--')\n",
    "    plt.title('ROC-AUC curve',fontsize=20)\n",
    "    plt.xlabel('False Positive Rate (FPR)',fontsize=16)\n",
    "    plt.ylabel('True Positive Rate (TPR)',fontsize=16)\n",
    "    plt.legend()"
   ]
  },
  {
   "cell_type": "code",
   "execution_count": 64,
   "id": "bcede07b",
   "metadata": {},
   "outputs": [
    {
     "data": {
      "image/png": "[encoded data removed]",
      "text/plain": [
       "<Figure size 720x720 with 1 Axes>"
      ]
     },
     "metadata": {
      "needs_background": "light"
     },
     "output_type": "display_data"
    }
   ],
   "source": [
    "models_built = {\n",
    "    lr : 'LogisticRegression', \n",
    "    dt : 'DecisionTreeClassifier',\n",
    "    rf : 'RandomForestClassifier',\n",
    "    et : 'ExtraTreesClassifier',\n",
    "    svc : 'SVC',\n",
    "} \n",
    "\n",
    "plot_all_auc(models_built)"
   ]
  },
  {
   "cell_type": "code",
   "execution_count": null,
   "id": "46c43b5d",
   "metadata": {},
   "outputs": [],
   "source": []
  }
 ],
 "metadata": {
  "kernelspec": {
   "display_name": "Python 3",
   "language": "python",
   "name": "python3"
  },
  "language_info": {
   "codemirror_mode": {
    "name": "ipython",
    "version": 3
   },
   "file_extension": ".py",
   "mimetype": "text/x-python",
   "name": "python",
   "nbconvert_exporter": "python",
   "pygments_lexer": "ipython3",
   "version": "3.8.8"
  },
  "toc": {
   "base_numbering": 1,
   "nav_menu": {},
   "number_sections": true,
   "sideBar": true,
   "skip_h1_title": false,
   "title_cell": "Table of Contents",
   "title_sidebar": "Contents",
   "toc_cell": false,
   "toc_position": {
    "height": "calc(100% - 180px)",
    "left": "10px",
    "top": "150px",
    "width": "384px"
   },
   "toc_section_display": true,
   "toc_window_display": true
  }
 },
 "nbformat": 4,
 "nbformat_minor": 5
}
