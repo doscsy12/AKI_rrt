{
 "cells": [
  {
   "cell_type": "markdown",
   "id": "c49ebe37",
   "metadata": {},
   "source": [
    "# AKI - early/delayed renal treatment"
   ]
  },
  {
   "cell_type": "markdown",
   "id": "f3c0b8b4",
   "metadata": {},
   "source": [
    "*import libraries*"
   ]
  },
  {
   "cell_type": "code",
   "execution_count": 4,
   "id": "eff1102d",
   "metadata": {},
   "outputs": [],
   "source": [
    "# Import libraries here\n",
    "import numpy as np\n",
    "import pandas as pd\n",
    "import matplotlib.pyplot as plt\n",
    "import matplotlib\n",
    "import seaborn as sns\n",
    "pd.options.mode.chained_assignment = None  # default='warn'\n",
    "\n",
    "from sklearn.model_selection import train_test_split, GridSearchCV\n",
    "from sklearn.preprocessing import StandardScaler, PolynomialFeatures\n",
    "from sklearn.linear_model import (RidgeCV, \n",
    "                                  LassoCV, \n",
    "                                  ElasticNetCV, \n",
    "                                  LogisticRegressionCV,\n",
    "                                  LinearRegression,\n",
    "                                  LogisticRegression)\n",
    "from imblearn.over_sampling import SMOTE\n",
    "from imblearn.pipeline import Pipeline\n",
    "from sklearn.metrics import (confusion_matrix, \n",
    "                             plot_confusion_matrix, \n",
    "                             roc_auc_score, \n",
    "                             plot_roc_curve, \n",
    "                             accuracy_score,\n",
    "                            )\n",
    "from sklearn.decomposition import PCA\n",
    "\n",
    "from sklearn.linear_model import LogisticRegression\n",
    "from sklearn.tree import DecisionTreeClassifier\n",
    "from sklearn.ensemble import RandomForestClassifier, ExtraTreesClassifier, BaggingClassifier, AdaBoostClassifier\n",
    "from sklearn.svm import LinearSVC, SVC\n",
    "\n",
    "import xgboost as xgb\n",
    "import time\n",
    "import warnings\n",
    "warnings.filterwarnings('ignore')"
   ]
  },
  {
   "cell_type": "code",
   "execution_count": 34,
   "id": "8f830581",
   "metadata": {},
   "outputs": [],
   "source": [
    "# import data\n",
    "aki_data = pd.read_csv('cleaned_data.csv')"
   ]
  },
  {
   "cell_type": "code",
   "execution_count": 35,
   "id": "dceb5140",
   "metadata": {},
   "outputs": [
    {
     "data": {
      "text/html": [
       "<div>\n",
       "<style scoped>\n",
       "    .dataframe tbody tr th:only-of-type {\n",
       "        vertical-align: middle;\n",
       "    }\n",
       "\n",
       "    .dataframe tbody tr th {\n",
       "        vertical-align: top;\n",
       "    }\n",
       "\n",
       "    .dataframe thead th {\n",
       "        text-align: right;\n",
       "    }\n",
       "</style>\n",
       "<table border=\"1\" class=\"dataframe\">\n",
       "  <thead>\n",
       "    <tr style=\"text-align: right;\">\n",
       "      <th></th>\n",
       "      <th>weight</th>\n",
       "      <th>aki_stage</th>\n",
       "      <th>delay_rrt</th>\n",
       "      <th>gender</th>\n",
       "      <th>admission_age</th>\n",
       "      <th>ethnicity</th>\n",
       "      <th>hematocrit_min</th>\n",
       "      <th>hematocrit_max</th>\n",
       "      <th>hemoglobin_min</th>\n",
       "      <th>hemoglobin_max</th>\n",
       "      <th>platelets_min</th>\n",
       "      <th>platelets_max</th>\n",
       "      <th>wbc_min</th>\n",
       "      <th>wbc_max</th>\n",
       "      <th>aniongap_min</th>\n",
       "      <th>aniongap_max</th>\n",
       "      <th>bicarbonate_min</th>\n",
       "      <th>bicarbonate_max</th>\n",
       "      <th>bun_min</th>\n",
       "      <th>bun_max</th>\n",
       "      <th>calcium_min</th>\n",
       "      <th>calcium_max</th>\n",
       "      <th>chloride_min</th>\n",
       "      <th>chloride_max</th>\n",
       "      <th>creatinine_min</th>\n",
       "      <th>creatinine_max</th>\n",
       "      <th>glucose_min</th>\n",
       "      <th>glucose_max</th>\n",
       "      <th>sodium_min</th>\n",
       "      <th>sodium_max</th>\n",
       "      <th>potassium_min</th>\n",
       "      <th>potassium_max</th>\n",
       "      <th>inr_max</th>\n",
       "      <th>pt_max</th>\n",
       "      <th>ptt_max</th>\n",
       "      <th>heart_rate_mean</th>\n",
       "      <th>sbp_mean</th>\n",
       "      <th>dbp_mean</th>\n",
       "      <th>mbp_mean</th>\n",
       "      <th>resp_rate_mean</th>\n",
       "      <th>temperature_mean</th>\n",
       "      <th>spo2_mean</th>\n",
       "      <th>glucose_mean</th>\n",
       "      <th>gcs_min</th>\n",
       "    </tr>\n",
       "  </thead>\n",
       "  <tbody>\n",
       "    <tr>\n",
       "      <th>0</th>\n",
       "      <td>104.50</td>\n",
       "      <td>1</td>\n",
       "      <td>1</td>\n",
       "      <td>1</td>\n",
       "      <td>66.262081</td>\n",
       "      <td>unknown</td>\n",
       "      <td>31.4</td>\n",
       "      <td>31.9</td>\n",
       "      <td>11.3</td>\n",
       "      <td>11.3</td>\n",
       "      <td>246.0</td>\n",
       "      <td>247.0</td>\n",
       "      <td>11.2</td>\n",
       "      <td>11.2</td>\n",
       "      <td>20.0</td>\n",
       "      <td>23.0</td>\n",
       "      <td>23.0</td>\n",
       "      <td>24.0</td>\n",
       "      <td>109.0</td>\n",
       "      <td>114.0</td>\n",
       "      <td>8.7</td>\n",
       "      <td>9.5</td>\n",
       "      <td>106.0</td>\n",
       "      <td>114.0</td>\n",
       "      <td>3.0</td>\n",
       "      <td>3.1</td>\n",
       "      <td>172.0</td>\n",
       "      <td>317.0</td>\n",
       "      <td>146.0</td>\n",
       "      <td>154.0</td>\n",
       "      <td>3.9</td>\n",
       "      <td>4.1</td>\n",
       "      <td>1.3</td>\n",
       "      <td>14.6</td>\n",
       "      <td>47.5</td>\n",
       "      <td>89.625000</td>\n",
       "      <td>132.500000</td>\n",
       "      <td>68.5000</td>\n",
       "      <td>83.090909</td>\n",
       "      <td>21.673077</td>\n",
       "      <td>37.405000</td>\n",
       "      <td>96.909091</td>\n",
       "      <td>257.500000</td>\n",
       "      <td>10</td>\n",
       "    </tr>\n",
       "    <tr>\n",
       "      <th>1</th>\n",
       "      <td>100.00</td>\n",
       "      <td>1</td>\n",
       "      <td>1</td>\n",
       "      <td>1</td>\n",
       "      <td>70.489938</td>\n",
       "      <td>black</td>\n",
       "      <td>34.0</td>\n",
       "      <td>34.2</td>\n",
       "      <td>11.3</td>\n",
       "      <td>11.4</td>\n",
       "      <td>185.0</td>\n",
       "      <td>186.0</td>\n",
       "      <td>12.1</td>\n",
       "      <td>13.5</td>\n",
       "      <td>14.0</td>\n",
       "      <td>16.0</td>\n",
       "      <td>20.0</td>\n",
       "      <td>21.0</td>\n",
       "      <td>36.0</td>\n",
       "      <td>41.0</td>\n",
       "      <td>7.5</td>\n",
       "      <td>7.7</td>\n",
       "      <td>103.0</td>\n",
       "      <td>104.0</td>\n",
       "      <td>1.1</td>\n",
       "      <td>1.1</td>\n",
       "      <td>106.0</td>\n",
       "      <td>140.0</td>\n",
       "      <td>134.0</td>\n",
       "      <td>135.0</td>\n",
       "      <td>4.4</td>\n",
       "      <td>4.8</td>\n",
       "      <td>1.3</td>\n",
       "      <td>13.9</td>\n",
       "      <td>25.0</td>\n",
       "      <td>84.208333</td>\n",
       "      <td>107.500000</td>\n",
       "      <td>56.4600</td>\n",
       "      <td>74.019231</td>\n",
       "      <td>17.134615</td>\n",
       "      <td>36.978000</td>\n",
       "      <td>96.680000</td>\n",
       "      <td>123.666667</td>\n",
       "      <td>3</td>\n",
       "    </tr>\n",
       "    <tr>\n",
       "      <th>2</th>\n",
       "      <td>98.95</td>\n",
       "      <td>3</td>\n",
       "      <td>0</td>\n",
       "      <td>1</td>\n",
       "      <td>37.700917</td>\n",
       "      <td>unknown</td>\n",
       "      <td>27.1</td>\n",
       "      <td>29.4</td>\n",
       "      <td>9.9</td>\n",
       "      <td>10.4</td>\n",
       "      <td>185.0</td>\n",
       "      <td>252.0</td>\n",
       "      <td>22.4</td>\n",
       "      <td>31.1</td>\n",
       "      <td>26.0</td>\n",
       "      <td>30.0</td>\n",
       "      <td>15.0</td>\n",
       "      <td>18.0</td>\n",
       "      <td>40.0</td>\n",
       "      <td>53.0</td>\n",
       "      <td>7.4</td>\n",
       "      <td>10.2</td>\n",
       "      <td>73.0</td>\n",
       "      <td>76.0</td>\n",
       "      <td>7.8</td>\n",
       "      <td>10.5</td>\n",
       "      <td>121.0</td>\n",
       "      <td>228.0</td>\n",
       "      <td>118.0</td>\n",
       "      <td>119.0</td>\n",
       "      <td>3.3</td>\n",
       "      <td>3.8</td>\n",
       "      <td>2.6</td>\n",
       "      <td>27.5</td>\n",
       "      <td>36.0</td>\n",
       "      <td>80.956522</td>\n",
       "      <td>101.958333</td>\n",
       "      <td>52.4375</td>\n",
       "      <td>67.541667</td>\n",
       "      <td>20.000000</td>\n",
       "      <td>36.132143</td>\n",
       "      <td>95.250000</td>\n",
       "      <td>152.625000</td>\n",
       "      <td>6</td>\n",
       "    </tr>\n",
       "    <tr>\n",
       "      <th>3</th>\n",
       "      <td>105.70</td>\n",
       "      <td>3</td>\n",
       "      <td>1</td>\n",
       "      <td>0</td>\n",
       "      <td>59.967156</td>\n",
       "      <td>white</td>\n",
       "      <td>25.0</td>\n",
       "      <td>30.9</td>\n",
       "      <td>8.1</td>\n",
       "      <td>10.1</td>\n",
       "      <td>70.0</td>\n",
       "      <td>107.0</td>\n",
       "      <td>7.6</td>\n",
       "      <td>14.5</td>\n",
       "      <td>11.0</td>\n",
       "      <td>13.0</td>\n",
       "      <td>19.0</td>\n",
       "      <td>23.0</td>\n",
       "      <td>15.0</td>\n",
       "      <td>16.0</td>\n",
       "      <td>7.5</td>\n",
       "      <td>7.8</td>\n",
       "      <td>106.0</td>\n",
       "      <td>110.0</td>\n",
       "      <td>1.1</td>\n",
       "      <td>1.2</td>\n",
       "      <td>47.0</td>\n",
       "      <td>127.0</td>\n",
       "      <td>140.0</td>\n",
       "      <td>141.0</td>\n",
       "      <td>3.2</td>\n",
       "      <td>4.0</td>\n",
       "      <td>2.6</td>\n",
       "      <td>28.4</td>\n",
       "      <td>51.3</td>\n",
       "      <td>87.521739</td>\n",
       "      <td>108.000000</td>\n",
       "      <td>56.4000</td>\n",
       "      <td>70.700000</td>\n",
       "      <td>24.086957</td>\n",
       "      <td>36.776667</td>\n",
       "      <td>96.478261</td>\n",
       "      <td>102.714286</td>\n",
       "      <td>13</td>\n",
       "    </tr>\n",
       "    <tr>\n",
       "      <th>4</th>\n",
       "      <td>69.00</td>\n",
       "      <td>1</td>\n",
       "      <td>0</td>\n",
       "      <td>1</td>\n",
       "      <td>79.060470</td>\n",
       "      <td>white</td>\n",
       "      <td>38.0</td>\n",
       "      <td>38.0</td>\n",
       "      <td>13.2</td>\n",
       "      <td>13.2</td>\n",
       "      <td>262.0</td>\n",
       "      <td>262.0</td>\n",
       "      <td>10.8</td>\n",
       "      <td>10.8</td>\n",
       "      <td>18.0</td>\n",
       "      <td>18.0</td>\n",
       "      <td>21.0</td>\n",
       "      <td>21.0</td>\n",
       "      <td>19.0</td>\n",
       "      <td>19.0</td>\n",
       "      <td>9.4</td>\n",
       "      <td>9.4</td>\n",
       "      <td>106.0</td>\n",
       "      <td>106.0</td>\n",
       "      <td>1.3</td>\n",
       "      <td>1.3</td>\n",
       "      <td>126.0</td>\n",
       "      <td>126.0</td>\n",
       "      <td>141.0</td>\n",
       "      <td>141.0</td>\n",
       "      <td>3.7</td>\n",
       "      <td>3.7</td>\n",
       "      <td>1.2</td>\n",
       "      <td>13.8</td>\n",
       "      <td>35.6</td>\n",
       "      <td>90.318182</td>\n",
       "      <td>140.800000</td>\n",
       "      <td>71.8500</td>\n",
       "      <td>88.285714</td>\n",
       "      <td>21.000000</td>\n",
       "      <td>36.620000</td>\n",
       "      <td>95.782609</td>\n",
       "      <td>124.000000</td>\n",
       "      <td>15</td>\n",
       "    </tr>\n",
       "  </tbody>\n",
       "</table>\n",
       "</div>"
      ],
      "text/plain": [
       "   weight  aki_stage  delay_rrt  gender  admission_age ethnicity  \\\n",
       "0  104.50          1          1       1      66.262081   unknown   \n",
       "1  100.00          1          1       1      70.489938     black   \n",
       "2   98.95          3          0       1      37.700917   unknown   \n",
       "3  105.70          3          1       0      59.967156     white   \n",
       "4   69.00          1          0       1      79.060470     white   \n",
       "\n",
       "   hematocrit_min  hematocrit_max  hemoglobin_min  hemoglobin_max  \\\n",
       "0            31.4            31.9            11.3            11.3   \n",
       "1            34.0            34.2            11.3            11.4   \n",
       "2            27.1            29.4             9.9            10.4   \n",
       "3            25.0            30.9             8.1            10.1   \n",
       "4            38.0            38.0            13.2            13.2   \n",
       "\n",
       "   platelets_min  platelets_max  wbc_min  wbc_max  aniongap_min  aniongap_max  \\\n",
       "0          246.0          247.0     11.2     11.2          20.0          23.0   \n",
       "1          185.0          186.0     12.1     13.5          14.0          16.0   \n",
       "2          185.0          252.0     22.4     31.1          26.0          30.0   \n",
       "3           70.0          107.0      7.6     14.5          11.0          13.0   \n",
       "4          262.0          262.0     10.8     10.8          18.0          18.0   \n",
       "\n",
       "   bicarbonate_min  bicarbonate_max  bun_min  bun_max  calcium_min  \\\n",
       "0             23.0             24.0    109.0    114.0          8.7   \n",
       "1             20.0             21.0     36.0     41.0          7.5   \n",
       "2             15.0             18.0     40.0     53.0          7.4   \n",
       "3             19.0             23.0     15.0     16.0          7.5   \n",
       "4             21.0             21.0     19.0     19.0          9.4   \n",
       "\n",
       "   calcium_max  chloride_min  chloride_max  creatinine_min  creatinine_max  \\\n",
       "0          9.5         106.0         114.0             3.0             3.1   \n",
       "1          7.7         103.0         104.0             1.1             1.1   \n",
       "2         10.2          73.0          76.0             7.8            10.5   \n",
       "3          7.8         106.0         110.0             1.1             1.2   \n",
       "4          9.4         106.0         106.0             1.3             1.3   \n",
       "\n",
       "   glucose_min  glucose_max  sodium_min  sodium_max  potassium_min  \\\n",
       "0        172.0        317.0       146.0       154.0            3.9   \n",
       "1        106.0        140.0       134.0       135.0            4.4   \n",
       "2        121.0        228.0       118.0       119.0            3.3   \n",
       "3         47.0        127.0       140.0       141.0            3.2   \n",
       "4        126.0        126.0       141.0       141.0            3.7   \n",
       "\n",
       "   potassium_max  inr_max  pt_max  ptt_max  heart_rate_mean    sbp_mean  \\\n",
       "0            4.1      1.3    14.6     47.5        89.625000  132.500000   \n",
       "1            4.8      1.3    13.9     25.0        84.208333  107.500000   \n",
       "2            3.8      2.6    27.5     36.0        80.956522  101.958333   \n",
       "3            4.0      2.6    28.4     51.3        87.521739  108.000000   \n",
       "4            3.7      1.2    13.8     35.6        90.318182  140.800000   \n",
       "\n",
       "   dbp_mean   mbp_mean  resp_rate_mean  temperature_mean  spo2_mean  \\\n",
       "0   68.5000  83.090909       21.673077         37.405000  96.909091   \n",
       "1   56.4600  74.019231       17.134615         36.978000  96.680000   \n",
       "2   52.4375  67.541667       20.000000         36.132143  95.250000   \n",
       "3   56.4000  70.700000       24.086957         36.776667  96.478261   \n",
       "4   71.8500  88.285714       21.000000         36.620000  95.782609   \n",
       "\n",
       "   glucose_mean  gcs_min  \n",
       "0    257.500000       10  \n",
       "1    123.666667        3  \n",
       "2    152.625000        6  \n",
       "3    102.714286       13  \n",
       "4    124.000000       15  "
      ]
     },
     "execution_count": 35,
     "metadata": {},
     "output_type": "execute_result"
    }
   ],
   "source": [
    "pd.set_option('display.max_columns', 100)\n",
    "aki_data.head()"
   ]
  },
  {
   "cell_type": "code",
   "execution_count": 36,
   "id": "54728b9c",
   "metadata": {},
   "outputs": [],
   "source": [
    "# one-hot-encode categorical data ethnicity ?\n",
    "# drop ethnicity\n",
    "aki_data.drop(columns=['ethnicity'],inplace=True)"
   ]
  },
  {
   "cell_type": "markdown",
   "id": "553a278b",
   "metadata": {},
   "source": [
    "### Polynomial features "
   ]
  },
  {
   "cell_type": "markdown",
   "id": "6a24260a",
   "metadata": {},
   "source": [
    "Any of the features could be related to each other, or have an interactive effect with each other. Any synergistic effect on delay_rrt could increase the significant predictive power to the model. \n"
   ]
  },
  {
   "cell_type": "code",
   "execution_count": 37,
   "id": "2a2f51e7",
   "metadata": {},
   "outputs": [],
   "source": [
    "X = aki_data.drop(columns=['delay_rrt'])\n",
    "y = aki_data['delay_rrt']"
   ]
  },
  {
   "cell_type": "code",
   "execution_count": 38,
   "id": "d2ab0d70",
   "metadata": {},
   "outputs": [],
   "source": [
    "# Generating the polynomial features table.  \n",
    "# instantiate\n",
    "poly = PolynomialFeatures(include_bias=False, degree=2)"
   ]
  },
  {
   "cell_type": "code",
   "execution_count": 39,
   "id": "72584cac",
   "metadata": {},
   "outputs": [
    {
     "data": {
      "text/plain": [
       "(1778, 945)"
      ]
     },
     "execution_count": 39,
     "metadata": {},
     "output_type": "execute_result"
    }
   ],
   "source": [
    "# fit and transform the variables in the numerical dataframe\n",
    "X_poly = poly.fit_transform(X)\n",
    "X_poly.shape"
   ]
  },
  {
   "cell_type": "code",
   "execution_count": 40,
   "id": "dafbd33e",
   "metadata": {},
   "outputs": [],
   "source": [
    "# Checking column names to all polynomial features\n",
    "X_poly = pd.DataFrame(X_poly,columns=poly.get_feature_names(X.columns))\n"
   ]
  },
  {
   "cell_type": "code",
   "execution_count": 41,
   "id": "3cd3ae72",
   "metadata": {},
   "outputs": [],
   "source": [
    "# Gennerating list of poly feature correlations\n",
    "X_poly_corrs = X_poly.corrwith(y)"
   ]
  },
  {
   "cell_type": "code",
   "execution_count": 42,
   "id": "0a40c8a3",
   "metadata": {},
   "outputs": [
    {
     "data": {
      "text/plain": [
       "chloride_min temperature_mean       0.198818\n",
       "chloride_min spo2_mean              0.182815\n",
       "chloride_min^2                      0.180279\n",
       "chloride_min                        0.179294\n",
       "bicarbonate_min chloride_min        0.158487\n",
       "bicarbonate_min chloride_max        0.152728\n",
       "chloride_min sodium_min             0.148421\n",
       "calcium_min chloride_min            0.145373\n",
       "chloride_min chloride_max           0.144399\n",
       "admission_age bicarbonate_min       0.140705\n",
       "admission_age chloride_min          0.137339\n",
       "bicarbonate_min temperature_mean    0.132319\n",
       "bicarbonate_min sodium_min          0.130960\n",
       "bicarbonate_min spo2_mean           0.130260\n",
       "bicarbonate_min                     0.128809\n",
       "bicarbonate_min sodium_max          0.126990\n",
       "bicarbonate_min heart_rate_mean     0.123727\n",
       "calcium_min chloride_max            0.121496\n",
       "chloride_max temperature_mean       0.121356\n",
       "chloride_min sodium_max             0.119685\n",
       "dtype: float64"
      ]
     },
     "execution_count": 42,
     "metadata": {},
     "output_type": "execute_result"
    }
   ],
   "source": [
    "# Shows top 20 features most positively correlated with delay_rrt\n",
    "X_poly_corrs.sort_values(ascending=False).head(20)"
   ]
  },
  {
   "cell_type": "code",
   "execution_count": 43,
   "id": "dba4331e",
   "metadata": {},
   "outputs": [
    {
     "data": {
      "text/plain": [
       "aniongap_max gcs_min            -0.248238\n",
       "aniongap_max temperature_mean   -0.249200\n",
       "aniongap_max sodium_max         -0.249964\n",
       "aniongap_max spo2_mean          -0.250221\n",
       "aniongap_max calcium_max        -0.254303\n",
       "aniongap_max                    -0.254689\n",
       "aniongap_max^2                  -0.255885\n",
       "creatinine_max resp_rate_mean   -0.256791\n",
       "creatinine_max gcs_min          -0.257502\n",
       "hemoglobin_max creatinine_max   -0.257905\n",
       "aniongap_min creatinine_max     -0.258068\n",
       "aniongap_max sbp_mean           -0.259088\n",
       "hematocrit_max creatinine_max   -0.259116\n",
       "calcium_max creatinine_max      -0.259650\n",
       "aniongap_min potassium_max      -0.260355\n",
       "aniongap_max dbp_mean           -0.262543\n",
       "creatinine_max potassium_max    -0.273823\n",
       "aniongap_max mbp_mean           -0.274197\n",
       "aniongap_max creatinine_max     -0.290806\n",
       "aniongap_max potassium_max      -0.291583\n",
       "dtype: float64"
      ]
     },
     "execution_count": 43,
     "metadata": {},
     "output_type": "execute_result"
    }
   ],
   "source": [
    "# Shows bottom 20 features most positively correlated with delay_rrt\n",
    "X_poly_corrs.sort_values(ascending=False).tail(20) "
   ]
  },
  {
   "cell_type": "code",
   "execution_count": null,
   "id": "5cef3bd5",
   "metadata": {},
   "outputs": [],
   "source": [
    "# # Adding interaction features into train set ?\n",
    "# aki_data['aniongap_max*potassium_max'] = aki_data['aniongap_max'] * aki_data['potassium_max']\n",
    "# aki_data['calcium_max*creatinine_max'] = aki_data['calcium_max'] * aki_data['creatinine_max']"
   ]
  },
  {
   "cell_type": "markdown",
   "id": "d52e202d",
   "metadata": {},
   "source": [
    "**train_test_split**"
   ]
  },
  {
   "cell_type": "code",
   "execution_count": 5,
   "id": "65decb89",
   "metadata": {},
   "outputs": [],
   "source": [
    "X = aki_data.drop(columns=['delay_rrt'])\n",
    "y = aki_data[['delay_rrt']]"
   ]
  },
  {
   "cell_type": "markdown",
   "id": "ad7c9a04",
   "metadata": {},
   "source": [
    "X_train, y_train : 50%\n",
    "<br> X_valid, y_valid : 25%\n",
    "<br> X_test, y_test   : 25%"
   ]
  },
  {
   "cell_type": "code",
   "execution_count": 6,
   "id": "b1cc6dac",
   "metadata": {},
   "outputs": [],
   "source": [
    "# X_train, X_test, y_train, y_test = train_test_split(X, y, test_size=0.33)"
   ]
  },
  {
   "cell_type": "markdown",
   "id": "167d2ba9",
   "metadata": {},
   "source": [
    "## train set"
   ]
  },
  {
   "cell_type": "code",
   "execution_count": 7,
   "id": "4fc23457",
   "metadata": {},
   "outputs": [
    {
     "data": {
      "text/plain": [
       "(1191, 43)"
      ]
     },
     "execution_count": 7,
     "metadata": {},
     "output_type": "execute_result"
    }
   ],
   "source": [
    "X_train.shape"
   ]
  },
  {
   "cell_type": "code",
   "execution_count": 8,
   "id": "9c27fcb8",
   "metadata": {},
   "outputs": [
    {
     "name": "stdout",
     "output_type": "stream",
     "text": [
      "<class 'pandas.core.frame.DataFrame'>\n",
      "Int64Index: 1191 entries, 435 to 1674\n",
      "Data columns (total 43 columns):\n",
      " #   Column            Non-Null Count  Dtype  \n",
      "---  ------            --------------  -----  \n",
      " 0   weight            1191 non-null   float64\n",
      " 1   aki_stage         1191 non-null   int64  \n",
      " 2   gender            1191 non-null   int64  \n",
      " 3   admission_age     1191 non-null   float64\n",
      " 4   ethnicity         1191 non-null   object \n",
      " 5   hematocrit_min    1191 non-null   float64\n",
      " 6   hematocrit_max    1191 non-null   float64\n",
      " 7   hemoglobin_min    1191 non-null   float64\n",
      " 8   hemoglobin_max    1191 non-null   float64\n",
      " 9   platelets_min     1191 non-null   float64\n",
      " 10  platelets_max     1191 non-null   float64\n",
      " 11  wbc_min           1191 non-null   float64\n",
      " 12  wbc_max           1191 non-null   float64\n",
      " 13  aniongap_min      1191 non-null   float64\n",
      " 14  aniongap_max      1191 non-null   float64\n",
      " 15  bicarbonate_min   1191 non-null   float64\n",
      " 16  bicarbonate_max   1191 non-null   float64\n",
      " 17  bun_min           1191 non-null   float64\n",
      " 18  bun_max           1191 non-null   float64\n",
      " 19  calcium_min       1191 non-null   float64\n",
      " 20  calcium_max       1191 non-null   float64\n",
      " 21  chloride_min      1191 non-null   float64\n",
      " 22  chloride_max      1191 non-null   float64\n",
      " 23  creatinine_min    1191 non-null   float64\n",
      " 24  creatinine_max    1191 non-null   float64\n",
      " 25  glucose_min       1191 non-null   float64\n",
      " 26  glucose_max       1191 non-null   float64\n",
      " 27  sodium_min        1191 non-null   float64\n",
      " 28  sodium_max        1191 non-null   float64\n",
      " 29  potassium_min     1191 non-null   float64\n",
      " 30  potassium_max     1191 non-null   float64\n",
      " 31  inr_max           1191 non-null   float64\n",
      " 32  pt_max            1191 non-null   float64\n",
      " 33  ptt_max           1191 non-null   float64\n",
      " 34  heart_rate_mean   1191 non-null   float64\n",
      " 35  sbp_mean          1191 non-null   float64\n",
      " 36  dbp_mean          1191 non-null   float64\n",
      " 37  mbp_mean          1191 non-null   float64\n",
      " 38  resp_rate_mean    1191 non-null   float64\n",
      " 39  temperature_mean  1191 non-null   float64\n",
      " 40  spo2_mean         1191 non-null   float64\n",
      " 41  glucose_mean      1191 non-null   float64\n",
      " 42  gcs_min           1191 non-null   int64  \n",
      "dtypes: float64(39), int64(3), object(1)\n",
      "memory usage: 409.4+ KB\n"
     ]
    }
   ],
   "source": [
    "X_train.info()"
   ]
  },
  {
   "cell_type": "markdown",
   "id": "8a794644",
   "metadata": {},
   "source": [
    "### Baseline model (with SMOTE)"
   ]
  },
  {
   "cell_type": "markdown",
   "id": "3652b62c",
   "metadata": {},
   "source": [
    "From the correlated features, it seemed that 'aniongap_max' has the highest (negative) correlation. So will start with this. "
   ]
  },
  {
   "cell_type": "code",
   "execution_count": 13,
   "id": "7069d339",
   "metadata": {},
   "outputs": [],
   "source": [
    "X_sm = aki_data[['aniongap_max']]\n",
    "y_sm = aki_data[['delay_rrt']]"
   ]
  },
  {
   "cell_type": "code",
   "execution_count": 14,
   "id": "d8887e5d",
   "metadata": {},
   "outputs": [
    {
     "data": {
      "text/plain": [
       "delay_rrt\n",
       "1            0.814961\n",
       "0            0.185039\n",
       "dtype: float64"
      ]
     },
     "execution_count": 14,
     "metadata": {},
     "output_type": "execute_result"
    }
   ],
   "source": [
    "# imbalanced \n",
    "y_sm.value_counts(normalize=True)"
   ]
  },
  {
   "cell_type": "code",
   "execution_count": 18,
   "id": "a13b07cb",
   "metadata": {},
   "outputs": [],
   "source": [
    "# split data\n",
    "Xsm_train, Xsm_test, ysm_train, ysm_test = train_test_split(X_sm, y_sm, test_size = 0.33, stratify =y)"
   ]
  },
  {
   "cell_type": "code",
   "execution_count": 19,
   "id": "0c2dfde5",
   "metadata": {},
   "outputs": [],
   "source": [
    "# scaling\n",
    "ss = StandardScaler()\n",
    "\n",
    "Xsm_train_sc = ss.fit_transform(Xsm_train)\n",
    "Xsm_test_sc = ss.transform(Xsm_test)"
   ]
  },
  {
   "cell_type": "code",
   "execution_count": 20,
   "id": "86e42e6c",
   "metadata": {},
   "outputs": [],
   "source": [
    "# create synthetic data for training set\n",
    "smote = SMOTE()"
   ]
  },
  {
   "cell_type": "code",
   "execution_count": 21,
   "id": "51dc4554",
   "metadata": {},
   "outputs": [],
   "source": [
    "# Xsmote_train, ysmote_train = smote.fit_sample(Xsm_train_sc, ysm_train)\n",
    "Xsmote_train, ysmote_train = smote.fit_resample(Xsm_train_sc, ysm_train)"
   ]
  },
  {
   "cell_type": "code",
   "execution_count": 22,
   "id": "e58df356",
   "metadata": {},
   "outputs": [
    {
     "data": {
      "text/plain": [
       "<bound method SamplerMixin.fit of SMOTE()>"
      ]
     },
     "execution_count": 22,
     "metadata": {},
     "output_type": "execute_result"
    }
   ],
   "source": [
    "smote.fit"
   ]
  },
  {
   "cell_type": "code",
   "execution_count": 23,
   "id": "ea72fd85",
   "metadata": {},
   "outputs": [
    {
     "data": {
      "text/plain": [
       "delay_rrt\n",
       "0            971\n",
       "1            971\n",
       "dtype: int64"
      ]
     },
     "execution_count": 23,
     "metadata": {},
     "output_type": "execute_result"
    }
   ],
   "source": [
    "# balanced\n",
    "ysmote_train.value_counts()"
   ]
  },
  {
   "cell_type": "code",
   "execution_count": 25,
   "id": "75629fc4",
   "metadata": {},
   "outputs": [
    {
     "data": {
      "text/plain": [
       "(0.606076210092688, 0.6712095400340715)"
      ]
     },
     "execution_count": 25,
     "metadata": {},
     "output_type": "execute_result"
    }
   ],
   "source": [
    "# instantiate\n",
    "lr = LogisticRegression()\n",
    "\n",
    "# fit model\n",
    "lr.fit(Xsmote_train, ysmote_train)\n",
    "\n",
    "# score\n",
    "lr.score(Xsmote_train, ysmote_train), lr.score(Xsm_test_sc, ysm_test)"
   ]
  },
  {
   "cell_type": "markdown",
   "id": "b49ec5a1",
   "metadata": {},
   "source": [
    "So the **baseline accuracy** is 0.606 (for train set), and 0.671 (for test set)"
   ]
  },
  {
   "cell_type": "markdown",
   "id": "31a76204",
   "metadata": {},
   "source": [
    "### Logistic regression (with SMOTE)"
   ]
  },
  {
   "cell_type": "code",
   "execution_count": 44,
   "id": "a0560b84",
   "metadata": {},
   "outputs": [],
   "source": [
    "# using (most) entire dataset\n",
    "X = aki_data.drop(columns=['delay_rrt'])\n",
    "y = aki_data[['delay_rrt']]"
   ]
  },
  {
   "cell_type": "code",
   "execution_count": 54,
   "id": "58c22471",
   "metadata": {},
   "outputs": [],
   "source": [
    "# split data\n",
    "X_train, X_test, y_train, y_test = train_test_split(X, y, test_size = 0.33, random_state = 42, stratify =y)"
   ]
  },
  {
   "cell_type": "code",
   "execution_count": 55,
   "id": "be458e21",
   "metadata": {},
   "outputs": [],
   "source": [
    "pipe = Pipeline([\n",
    "        ('scale', StandardScaler()),\n",
    "        ('sampling', SMOTE(sampling_strategy='minority')),\n",
    "        ('logreg', LogisticRegression(max_iter=1_000, solver='saga'))\n",
    "    ])\n"
   ]
  },
  {
   "cell_type": "code",
   "execution_count": 56,
   "id": "e6ffa1e2",
   "metadata": {},
   "outputs": [],
   "source": [
    "# regardless of parameters, there is overfitting.\n",
    "pipe_params = {\n",
    "    'sampling__k_neighbors': [5, 10],   # \n",
    "    'logreg__penalty': ['l2', 'l1'],   # \n",
    "    'logreg__C': [1] # \n",
    "}"
   ]
  },
  {
   "cell_type": "code",
   "execution_count": 57,
   "id": "f74c1a34",
   "metadata": {},
   "outputs": [],
   "source": [
    "grid = GridSearchCV(pipe, pipe_params, scoring='roc_auc', n_jobs=-1)"
   ]
  },
  {
   "cell_type": "code",
   "execution_count": 58,
   "id": "3b87cd27",
   "metadata": {},
   "outputs": [
    {
     "data": {
      "text/plain": [
       "GridSearchCV(estimator=Pipeline(steps=[('scale', StandardScaler()),\n",
       "                                       ('sampling',\n",
       "                                        SMOTE(sampling_strategy='minority')),\n",
       "                                       ('logreg',\n",
       "                                        LogisticRegression(max_iter=1000,\n",
       "                                                           solver='saga'))]),\n",
       "             n_jobs=-1,\n",
       "             param_grid={'logreg__C': [1], 'logreg__penalty': ['l2', 'l1'],\n",
       "                         'sampling__k_neighbors': [5, 10]},\n",
       "             scoring='roc_auc')"
      ]
     },
     "execution_count": 58,
     "metadata": {},
     "output_type": "execute_result"
    }
   ],
   "source": [
    "grid.fit(X_train, y_train)\n"
   ]
  },
  {
   "cell_type": "code",
   "execution_count": 59,
   "id": "105d79ae",
   "metadata": {},
   "outputs": [
    {
     "data": {
      "text/plain": [
       "{'logreg__C': 1, 'logreg__penalty': 'l1', 'sampling__k_neighbors': 10}"
      ]
     },
     "execution_count": 59,
     "metadata": {},
     "output_type": "execute_result"
    }
   ],
   "source": [
    "grid.best_params_"
   ]
  },
  {
   "cell_type": "code",
   "execution_count": 60,
   "id": "fceaed3b",
   "metadata": {},
   "outputs": [
    {
     "data": {
      "text/plain": [
       "(0.8299082482913585, 0.7254424014433227)"
      ]
     },
     "execution_count": 60,
     "metadata": {},
     "output_type": "execute_result"
    }
   ],
   "source": [
    "grid.score(X_train, y_train), grid.score(X_test, y_test)"
   ]
  },
  {
   "cell_type": "markdown",
   "id": "e5ffecfe",
   "metadata": {},
   "source": [
    "Accuracy for train set is 0.831, while test set is 0.725. So using all the features will lead to overfitting (train accuracy >> test accuracy)."
   ]
  },
  {
   "cell_type": "code",
   "execution_count": null,
   "id": "63c26215",
   "metadata": {},
   "outputs": [],
   "source": []
  }
 ],
 "metadata": {
  "kernelspec": {
   "display_name": "Python 3",
   "language": "python",
   "name": "python3"
  },
  "language_info": {
   "codemirror_mode": {
    "name": "ipython",
    "version": 3
   },
   "file_extension": ".py",
   "mimetype": "text/x-python",
   "name": "python",
   "nbconvert_exporter": "python",
   "pygments_lexer": "ipython3",
   "version": "3.8.8"
  },
  "toc": {
   "base_numbering": 1,
   "nav_menu": {},
   "number_sections": true,
   "sideBar": true,
   "skip_h1_title": false,
   "title_cell": "Table of Contents",
   "title_sidebar": "Contents",
   "toc_cell": false,
   "toc_position": {},
   "toc_section_display": true,
   "toc_window_display": true
  }
 },
 "nbformat": 4,
 "nbformat_minor": 5
}
