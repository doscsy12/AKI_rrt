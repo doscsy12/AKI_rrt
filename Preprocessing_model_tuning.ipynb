{
 "cells": [
  {
   "cell_type": "markdown",
   "id": "206f5771",
   "metadata": {},
   "source": [
    "# AKI - early/delayed renal treatment"
   ]
  },
  {
   "cell_type": "markdown",
   "id": "2458e7a0",
   "metadata": {},
   "source": [
    "*import libraries*"
   ]
  },
  {
   "cell_type": "code",
   "execution_count": 4,
   "id": "63dca455",
   "metadata": {},
   "outputs": [],
   "source": [
    "# Import libraries here\n",
    "import numpy as np\n",
    "import pandas as pd\n",
    "import matplotlib.pyplot as plt\n",
    "import matplotlib\n",
    "import seaborn as sns\n",
    "pd.options.mode.chained_assignment = None  # default='warn'\n",
    "\n",
    "from sklearn.model_selection import train_test_split, GridSearchCV\n",
    "from sklearn.preprocessing import StandardScaler, PolynomialFeatures\n",
    "from sklearn.linear_model import (RidgeCV, \n",
    "                                  LassoCV, \n",
    "                                  ElasticNetCV, \n",
    "                                  LogisticRegressionCV,\n",
    "                                  LinearRegression,\n",
    "                                  LogisticRegression)\n",
    "from imblearn.over_sampling import SMOTE\n",
    "from imblearn.pipeline import Pipeline\n",
    "from sklearn.metrics import (confusion_matrix, \n",
    "                             plot_confusion_matrix, \n",
    "                             roc_auc_score, \n",
    "                             plot_roc_curve, \n",
    "                             accuracy_score,\n",
    "                            )\n",
    "from sklearn.decomposition import PCA\n",
    "\n",
    "from sklearn.linear_model import LogisticRegression\n",
    "from sklearn.tree import DecisionTreeClassifier\n",
    "from sklearn.ensemble import RandomForestClassifier, ExtraTreesClassifier, BaggingClassifier, AdaBoostClassifier\n",
    "from sklearn.svm import LinearSVC, SVC\n",
    "\n",
    "import xgboost as xgb\n",
    "import time\n",
    "import warnings\n",
    "warnings.filterwarnings('ignore')"
   ]
  },
  {
   "cell_type": "code",
   "execution_count": 80,
   "id": "18f8c6a0",
   "metadata": {},
   "outputs": [],
   "source": [
    "# import data\n",
    "aki_data = pd.read_csv('cleaned_data.csv')"
   ]
  },
  {
   "cell_type": "code",
   "execution_count": 81,
   "id": "dbc82440",
   "metadata": {},
   "outputs": [
    {
     "data": {
      "text/html": [
       "<div>\n",
       "<style scoped>\n",
       "    .dataframe tbody tr th:only-of-type {\n",
       "        vertical-align: middle;\n",
       "    }\n",
       "\n",
       "    .dataframe tbody tr th {\n",
       "        vertical-align: top;\n",
       "    }\n",
       "\n",
       "    .dataframe thead th {\n",
       "        text-align: right;\n",
       "    }\n",
       "</style>\n",
       "<table border=\"1\" class=\"dataframe\">\n",
       "  <thead>\n",
       "    <tr style=\"text-align: right;\">\n",
       "      <th></th>\n",
       "      <th>weight</th>\n",
       "      <th>aki_stage</th>\n",
       "      <th>delay_rrt</th>\n",
       "      <th>gender</th>\n",
       "      <th>admission_age</th>\n",
       "      <th>ethnicity</th>\n",
       "      <th>hematocrit_min</th>\n",
       "      <th>hematocrit_max</th>\n",
       "      <th>hemoglobin_min</th>\n",
       "      <th>hemoglobin_max</th>\n",
       "      <th>platelets_min</th>\n",
       "      <th>platelets_max</th>\n",
       "      <th>wbc_min</th>\n",
       "      <th>wbc_max</th>\n",
       "      <th>aniongap_min</th>\n",
       "      <th>aniongap_max</th>\n",
       "      <th>bicarbonate_min</th>\n",
       "      <th>bicarbonate_max</th>\n",
       "      <th>bun_min</th>\n",
       "      <th>bun_max</th>\n",
       "      <th>calcium_min</th>\n",
       "      <th>calcium_max</th>\n",
       "      <th>chloride_min</th>\n",
       "      <th>chloride_max</th>\n",
       "      <th>creatinine_min</th>\n",
       "      <th>creatinine_max</th>\n",
       "      <th>glucose_min</th>\n",
       "      <th>glucose_max</th>\n",
       "      <th>sodium_min</th>\n",
       "      <th>sodium_max</th>\n",
       "      <th>potassium_min</th>\n",
       "      <th>potassium_max</th>\n",
       "      <th>inr_max</th>\n",
       "      <th>pt_max</th>\n",
       "      <th>ptt_max</th>\n",
       "      <th>heart_rate_mean</th>\n",
       "      <th>sbp_mean</th>\n",
       "      <th>dbp_mean</th>\n",
       "      <th>mbp_mean</th>\n",
       "      <th>resp_rate_mean</th>\n",
       "      <th>temperature_mean</th>\n",
       "      <th>spo2_mean</th>\n",
       "      <th>glucose_mean</th>\n",
       "      <th>gcs_min</th>\n",
       "    </tr>\n",
       "  </thead>\n",
       "  <tbody>\n",
       "    <tr>\n",
       "      <th>0</th>\n",
       "      <td>104.50</td>\n",
       "      <td>1</td>\n",
       "      <td>1</td>\n",
       "      <td>1</td>\n",
       "      <td>66.262081</td>\n",
       "      <td>unknown</td>\n",
       "      <td>31.4</td>\n",
       "      <td>31.9</td>\n",
       "      <td>11.3</td>\n",
       "      <td>11.3</td>\n",
       "      <td>246.0</td>\n",
       "      <td>247.0</td>\n",
       "      <td>11.2</td>\n",
       "      <td>11.2</td>\n",
       "      <td>20.0</td>\n",
       "      <td>23.0</td>\n",
       "      <td>23.0</td>\n",
       "      <td>24.0</td>\n",
       "      <td>109.0</td>\n",
       "      <td>114.0</td>\n",
       "      <td>8.7</td>\n",
       "      <td>9.5</td>\n",
       "      <td>106.0</td>\n",
       "      <td>114.0</td>\n",
       "      <td>3.0</td>\n",
       "      <td>3.1</td>\n",
       "      <td>172.0</td>\n",
       "      <td>317.0</td>\n",
       "      <td>146.0</td>\n",
       "      <td>154.0</td>\n",
       "      <td>3.9</td>\n",
       "      <td>4.1</td>\n",
       "      <td>1.3</td>\n",
       "      <td>14.6</td>\n",
       "      <td>47.5</td>\n",
       "      <td>89.625000</td>\n",
       "      <td>132.500000</td>\n",
       "      <td>68.5000</td>\n",
       "      <td>83.090909</td>\n",
       "      <td>21.673077</td>\n",
       "      <td>37.405000</td>\n",
       "      <td>96.909091</td>\n",
       "      <td>257.500000</td>\n",
       "      <td>10</td>\n",
       "    </tr>\n",
       "    <tr>\n",
       "      <th>1</th>\n",
       "      <td>100.00</td>\n",
       "      <td>1</td>\n",
       "      <td>1</td>\n",
       "      <td>1</td>\n",
       "      <td>70.489938</td>\n",
       "      <td>black</td>\n",
       "      <td>34.0</td>\n",
       "      <td>34.2</td>\n",
       "      <td>11.3</td>\n",
       "      <td>11.4</td>\n",
       "      <td>185.0</td>\n",
       "      <td>186.0</td>\n",
       "      <td>12.1</td>\n",
       "      <td>13.5</td>\n",
       "      <td>14.0</td>\n",
       "      <td>16.0</td>\n",
       "      <td>20.0</td>\n",
       "      <td>21.0</td>\n",
       "      <td>36.0</td>\n",
       "      <td>41.0</td>\n",
       "      <td>7.5</td>\n",
       "      <td>7.7</td>\n",
       "      <td>103.0</td>\n",
       "      <td>104.0</td>\n",
       "      <td>1.1</td>\n",
       "      <td>1.1</td>\n",
       "      <td>106.0</td>\n",
       "      <td>140.0</td>\n",
       "      <td>134.0</td>\n",
       "      <td>135.0</td>\n",
       "      <td>4.4</td>\n",
       "      <td>4.8</td>\n",
       "      <td>1.3</td>\n",
       "      <td>13.9</td>\n",
       "      <td>25.0</td>\n",
       "      <td>84.208333</td>\n",
       "      <td>107.500000</td>\n",
       "      <td>56.4600</td>\n",
       "      <td>74.019231</td>\n",
       "      <td>17.134615</td>\n",
       "      <td>36.978000</td>\n",
       "      <td>96.680000</td>\n",
       "      <td>123.666667</td>\n",
       "      <td>3</td>\n",
       "    </tr>\n",
       "    <tr>\n",
       "      <th>2</th>\n",
       "      <td>98.95</td>\n",
       "      <td>3</td>\n",
       "      <td>0</td>\n",
       "      <td>1</td>\n",
       "      <td>37.700917</td>\n",
       "      <td>unknown</td>\n",
       "      <td>27.1</td>\n",
       "      <td>29.4</td>\n",
       "      <td>9.9</td>\n",
       "      <td>10.4</td>\n",
       "      <td>185.0</td>\n",
       "      <td>252.0</td>\n",
       "      <td>22.4</td>\n",
       "      <td>31.1</td>\n",
       "      <td>26.0</td>\n",
       "      <td>30.0</td>\n",
       "      <td>15.0</td>\n",
       "      <td>18.0</td>\n",
       "      <td>40.0</td>\n",
       "      <td>53.0</td>\n",
       "      <td>7.4</td>\n",
       "      <td>10.2</td>\n",
       "      <td>73.0</td>\n",
       "      <td>76.0</td>\n",
       "      <td>7.8</td>\n",
       "      <td>10.5</td>\n",
       "      <td>121.0</td>\n",
       "      <td>228.0</td>\n",
       "      <td>118.0</td>\n",
       "      <td>119.0</td>\n",
       "      <td>3.3</td>\n",
       "      <td>3.8</td>\n",
       "      <td>2.6</td>\n",
       "      <td>27.5</td>\n",
       "      <td>36.0</td>\n",
       "      <td>80.956522</td>\n",
       "      <td>101.958333</td>\n",
       "      <td>52.4375</td>\n",
       "      <td>67.541667</td>\n",
       "      <td>20.000000</td>\n",
       "      <td>36.132143</td>\n",
       "      <td>95.250000</td>\n",
       "      <td>152.625000</td>\n",
       "      <td>6</td>\n",
       "    </tr>\n",
       "    <tr>\n",
       "      <th>3</th>\n",
       "      <td>105.70</td>\n",
       "      <td>3</td>\n",
       "      <td>1</td>\n",
       "      <td>0</td>\n",
       "      <td>59.967156</td>\n",
       "      <td>white</td>\n",
       "      <td>25.0</td>\n",
       "      <td>30.9</td>\n",
       "      <td>8.1</td>\n",
       "      <td>10.1</td>\n",
       "      <td>70.0</td>\n",
       "      <td>107.0</td>\n",
       "      <td>7.6</td>\n",
       "      <td>14.5</td>\n",
       "      <td>11.0</td>\n",
       "      <td>13.0</td>\n",
       "      <td>19.0</td>\n",
       "      <td>23.0</td>\n",
       "      <td>15.0</td>\n",
       "      <td>16.0</td>\n",
       "      <td>7.5</td>\n",
       "      <td>7.8</td>\n",
       "      <td>106.0</td>\n",
       "      <td>110.0</td>\n",
       "      <td>1.1</td>\n",
       "      <td>1.2</td>\n",
       "      <td>47.0</td>\n",
       "      <td>127.0</td>\n",
       "      <td>140.0</td>\n",
       "      <td>141.0</td>\n",
       "      <td>3.2</td>\n",
       "      <td>4.0</td>\n",
       "      <td>2.6</td>\n",
       "      <td>28.4</td>\n",
       "      <td>51.3</td>\n",
       "      <td>87.521739</td>\n",
       "      <td>108.000000</td>\n",
       "      <td>56.4000</td>\n",
       "      <td>70.700000</td>\n",
       "      <td>24.086957</td>\n",
       "      <td>36.776667</td>\n",
       "      <td>96.478261</td>\n",
       "      <td>102.714286</td>\n",
       "      <td>13</td>\n",
       "    </tr>\n",
       "    <tr>\n",
       "      <th>4</th>\n",
       "      <td>69.00</td>\n",
       "      <td>1</td>\n",
       "      <td>0</td>\n",
       "      <td>1</td>\n",
       "      <td>79.060470</td>\n",
       "      <td>white</td>\n",
       "      <td>38.0</td>\n",
       "      <td>38.0</td>\n",
       "      <td>13.2</td>\n",
       "      <td>13.2</td>\n",
       "      <td>262.0</td>\n",
       "      <td>262.0</td>\n",
       "      <td>10.8</td>\n",
       "      <td>10.8</td>\n",
       "      <td>18.0</td>\n",
       "      <td>18.0</td>\n",
       "      <td>21.0</td>\n",
       "      <td>21.0</td>\n",
       "      <td>19.0</td>\n",
       "      <td>19.0</td>\n",
       "      <td>9.4</td>\n",
       "      <td>9.4</td>\n",
       "      <td>106.0</td>\n",
       "      <td>106.0</td>\n",
       "      <td>1.3</td>\n",
       "      <td>1.3</td>\n",
       "      <td>126.0</td>\n",
       "      <td>126.0</td>\n",
       "      <td>141.0</td>\n",
       "      <td>141.0</td>\n",
       "      <td>3.7</td>\n",
       "      <td>3.7</td>\n",
       "      <td>1.2</td>\n",
       "      <td>13.8</td>\n",
       "      <td>35.6</td>\n",
       "      <td>90.318182</td>\n",
       "      <td>140.800000</td>\n",
       "      <td>71.8500</td>\n",
       "      <td>88.285714</td>\n",
       "      <td>21.000000</td>\n",
       "      <td>36.620000</td>\n",
       "      <td>95.782609</td>\n",
       "      <td>124.000000</td>\n",
       "      <td>15</td>\n",
       "    </tr>\n",
       "  </tbody>\n",
       "</table>\n",
       "</div>"
      ],
      "text/plain": [
       "   weight  aki_stage  delay_rrt  gender  admission_age ethnicity  \\\n",
       "0  104.50          1          1       1      66.262081   unknown   \n",
       "1  100.00          1          1       1      70.489938     black   \n",
       "2   98.95          3          0       1      37.700917   unknown   \n",
       "3  105.70          3          1       0      59.967156     white   \n",
       "4   69.00          1          0       1      79.060470     white   \n",
       "\n",
       "   hematocrit_min  hematocrit_max  hemoglobin_min  hemoglobin_max  \\\n",
       "0            31.4            31.9            11.3            11.3   \n",
       "1            34.0            34.2            11.3            11.4   \n",
       "2            27.1            29.4             9.9            10.4   \n",
       "3            25.0            30.9             8.1            10.1   \n",
       "4            38.0            38.0            13.2            13.2   \n",
       "\n",
       "   platelets_min  platelets_max  wbc_min  wbc_max  aniongap_min  aniongap_max  \\\n",
       "0          246.0          247.0     11.2     11.2          20.0          23.0   \n",
       "1          185.0          186.0     12.1     13.5          14.0          16.0   \n",
       "2          185.0          252.0     22.4     31.1          26.0          30.0   \n",
       "3           70.0          107.0      7.6     14.5          11.0          13.0   \n",
       "4          262.0          262.0     10.8     10.8          18.0          18.0   \n",
       "\n",
       "   bicarbonate_min  bicarbonate_max  bun_min  bun_max  calcium_min  \\\n",
       "0             23.0             24.0    109.0    114.0          8.7   \n",
       "1             20.0             21.0     36.0     41.0          7.5   \n",
       "2             15.0             18.0     40.0     53.0          7.4   \n",
       "3             19.0             23.0     15.0     16.0          7.5   \n",
       "4             21.0             21.0     19.0     19.0          9.4   \n",
       "\n",
       "   calcium_max  chloride_min  chloride_max  creatinine_min  creatinine_max  \\\n",
       "0          9.5         106.0         114.0             3.0             3.1   \n",
       "1          7.7         103.0         104.0             1.1             1.1   \n",
       "2         10.2          73.0          76.0             7.8            10.5   \n",
       "3          7.8         106.0         110.0             1.1             1.2   \n",
       "4          9.4         106.0         106.0             1.3             1.3   \n",
       "\n",
       "   glucose_min  glucose_max  sodium_min  sodium_max  potassium_min  \\\n",
       "0        172.0        317.0       146.0       154.0            3.9   \n",
       "1        106.0        140.0       134.0       135.0            4.4   \n",
       "2        121.0        228.0       118.0       119.0            3.3   \n",
       "3         47.0        127.0       140.0       141.0            3.2   \n",
       "4        126.0        126.0       141.0       141.0            3.7   \n",
       "\n",
       "   potassium_max  inr_max  pt_max  ptt_max  heart_rate_mean    sbp_mean  \\\n",
       "0            4.1      1.3    14.6     47.5        89.625000  132.500000   \n",
       "1            4.8      1.3    13.9     25.0        84.208333  107.500000   \n",
       "2            3.8      2.6    27.5     36.0        80.956522  101.958333   \n",
       "3            4.0      2.6    28.4     51.3        87.521739  108.000000   \n",
       "4            3.7      1.2    13.8     35.6        90.318182  140.800000   \n",
       "\n",
       "   dbp_mean   mbp_mean  resp_rate_mean  temperature_mean  spo2_mean  \\\n",
       "0   68.5000  83.090909       21.673077         37.405000  96.909091   \n",
       "1   56.4600  74.019231       17.134615         36.978000  96.680000   \n",
       "2   52.4375  67.541667       20.000000         36.132143  95.250000   \n",
       "3   56.4000  70.700000       24.086957         36.776667  96.478261   \n",
       "4   71.8500  88.285714       21.000000         36.620000  95.782609   \n",
       "\n",
       "   glucose_mean  gcs_min  \n",
       "0    257.500000       10  \n",
       "1    123.666667        3  \n",
       "2    152.625000        6  \n",
       "3    102.714286       13  \n",
       "4    124.000000       15  "
      ]
     },
     "execution_count": 81,
     "metadata": {},
     "output_type": "execute_result"
    }
   ],
   "source": [
    "pd.set_option('display.max_columns', 100)\n",
    "aki_data.head()"
   ]
  },
  {
   "cell_type": "code",
   "execution_count": 82,
   "id": "969dc72e",
   "metadata": {},
   "outputs": [],
   "source": [
    "# one-hot-encode categorical data ethnicity ?\n",
    "# drop ethnicity\n",
    "aki_data.drop(columns=['ethnicity'],inplace=True)"
   ]
  },
  {
   "cell_type": "code",
   "execution_count": 83,
   "id": "c93eaf3f",
   "metadata": {},
   "outputs": [
    {
     "data": {
      "text/plain": [
       "(1778, 42)"
      ]
     },
     "execution_count": 83,
     "metadata": {},
     "output_type": "execute_result"
    }
   ],
   "source": [
    "aki_data.drop(columns=['delay_rrt']).shape"
   ]
  },
  {
   "cell_type": "markdown",
   "id": "3a921ce7",
   "metadata": {},
   "source": [
    "### Polynomial features "
   ]
  },
  {
   "cell_type": "markdown",
   "id": "b9ff4338",
   "metadata": {},
   "source": [
    "Any of the features could be related to each other, or have an interactive effect with each other. Any synergistic effect on delay_rrt could increase the significant predictive power to the model. \n"
   ]
  },
  {
   "cell_type": "code",
   "execution_count": 37,
   "id": "64b2dab6",
   "metadata": {},
   "outputs": [],
   "source": [
    "X = aki_data.drop(columns=['delay_rrt'])\n",
    "y = aki_data['delay_rrt']"
   ]
  },
  {
   "cell_type": "code",
   "execution_count": 38,
   "id": "3c421739",
   "metadata": {},
   "outputs": [],
   "source": [
    "# Generating the polynomial features table.  \n",
    "# instantiate\n",
    "poly = PolynomialFeatures(include_bias=False, degree=2)"
   ]
  },
  {
   "cell_type": "code",
   "execution_count": 39,
   "id": "dccb5d73",
   "metadata": {},
   "outputs": [
    {
     "data": {
      "text/plain": [
       "(1778, 945)"
      ]
     },
     "execution_count": 39,
     "metadata": {},
     "output_type": "execute_result"
    }
   ],
   "source": [
    "# fit and transform the variables in the numerical dataframe\n",
    "X_poly = poly.fit_transform(X)\n",
    "X_poly.shape"
   ]
  },
  {
   "cell_type": "code",
   "execution_count": 40,
   "id": "e7672bcd",
   "metadata": {},
   "outputs": [],
   "source": [
    "# Checking column names to all polynomial features\n",
    "X_poly = pd.DataFrame(X_poly,columns=poly.get_feature_names(X.columns))\n"
   ]
  },
  {
   "cell_type": "code",
   "execution_count": 41,
   "id": "376640f1",
   "metadata": {},
   "outputs": [],
   "source": [
    "# Gennerating list of poly feature correlations\n",
    "X_poly_corrs = X_poly.corrwith(y)"
   ]
  },
  {
   "cell_type": "code",
   "execution_count": 42,
   "id": "28a4fb18",
   "metadata": {},
   "outputs": [
    {
     "data": {
      "text/plain": [
       "chloride_min temperature_mean       0.198818\n",
       "chloride_min spo2_mean              0.182815\n",
       "chloride_min^2                      0.180279\n",
       "chloride_min                        0.179294\n",
       "bicarbonate_min chloride_min        0.158487\n",
       "bicarbonate_min chloride_max        0.152728\n",
       "chloride_min sodium_min             0.148421\n",
       "calcium_min chloride_min            0.145373\n",
       "chloride_min chloride_max           0.144399\n",
       "admission_age bicarbonate_min       0.140705\n",
       "admission_age chloride_min          0.137339\n",
       "bicarbonate_min temperature_mean    0.132319\n",
       "bicarbonate_min sodium_min          0.130960\n",
       "bicarbonate_min spo2_mean           0.130260\n",
       "bicarbonate_min                     0.128809\n",
       "bicarbonate_min sodium_max          0.126990\n",
       "bicarbonate_min heart_rate_mean     0.123727\n",
       "calcium_min chloride_max            0.121496\n",
       "chloride_max temperature_mean       0.121356\n",
       "chloride_min sodium_max             0.119685\n",
       "dtype: float64"
      ]
     },
     "execution_count": 42,
     "metadata": {},
     "output_type": "execute_result"
    }
   ],
   "source": [
    "# Shows top 20 features most positively correlated with delay_rrt\n",
    "X_poly_corrs.sort_values(ascending=False).head(20)"
   ]
  },
  {
   "cell_type": "code",
   "execution_count": 43,
   "id": "f70d31b4",
   "metadata": {},
   "outputs": [
    {
     "data": {
      "text/plain": [
       "aniongap_max gcs_min            -0.248238\n",
       "aniongap_max temperature_mean   -0.249200\n",
       "aniongap_max sodium_max         -0.249964\n",
       "aniongap_max spo2_mean          -0.250221\n",
       "aniongap_max calcium_max        -0.254303\n",
       "aniongap_max                    -0.254689\n",
       "aniongap_max^2                  -0.255885\n",
       "creatinine_max resp_rate_mean   -0.256791\n",
       "creatinine_max gcs_min          -0.257502\n",
       "hemoglobin_max creatinine_max   -0.257905\n",
       "aniongap_min creatinine_max     -0.258068\n",
       "aniongap_max sbp_mean           -0.259088\n",
       "hematocrit_max creatinine_max   -0.259116\n",
       "calcium_max creatinine_max      -0.259650\n",
       "aniongap_min potassium_max      -0.260355\n",
       "aniongap_max dbp_mean           -0.262543\n",
       "creatinine_max potassium_max    -0.273823\n",
       "aniongap_max mbp_mean           -0.274197\n",
       "aniongap_max creatinine_max     -0.290806\n",
       "aniongap_max potassium_max      -0.291583\n",
       "dtype: float64"
      ]
     },
     "execution_count": 43,
     "metadata": {},
     "output_type": "execute_result"
    }
   ],
   "source": [
    "# Shows bottom 20 features most positively correlated with delay_rrt\n",
    "X_poly_corrs.sort_values(ascending=False).tail(20) "
   ]
  },
  {
   "cell_type": "code",
   "execution_count": null,
   "id": "9be61299",
   "metadata": {},
   "outputs": [],
   "source": [
    "# # Adding interaction features into train set ?\n",
    "# aki_data['aniongap_max*potassium_max'] = aki_data['aniongap_max'] * aki_data['potassium_max']\n",
    "# aki_data['calcium_max*creatinine_max'] = aki_data['calcium_max'] * aki_data['creatinine_max']"
   ]
  },
  {
   "cell_type": "markdown",
   "id": "89464b5d",
   "metadata": {},
   "source": [
    "**train_test_split**"
   ]
  },
  {
   "cell_type": "code",
   "execution_count": 5,
   "id": "924a6817",
   "metadata": {},
   "outputs": [],
   "source": [
    "X = aki_data.drop(columns=['delay_rrt'])\n",
    "y = aki_data[['delay_rrt']]"
   ]
  },
  {
   "cell_type": "code",
   "execution_count": null,
   "id": "6dd4a9ab",
   "metadata": {},
   "outputs": [],
   "source": [
    "# X_train, y_train : 50%\n",
    "# X_valid, y_valid : 25%\n",
    "# X_test, y_test   : 25%"
   ]
  },
  {
   "cell_type": "code",
   "execution_count": 6,
   "id": "cebb68e6",
   "metadata": {},
   "outputs": [],
   "source": [
    "# X_train, X_test, y_train, y_test = train_test_split(X, y, test_size=0.33)"
   ]
  },
  {
   "cell_type": "markdown",
   "id": "dbef9be4",
   "metadata": {},
   "source": [
    "### Baseline model (with SMOTE)"
   ]
  },
  {
   "cell_type": "markdown",
   "id": "848be347",
   "metadata": {},
   "source": [
    "From the correlated features, it seemed that 'aniongap_max' has the highest (negative) correlation. So will start with this. "
   ]
  },
  {
   "cell_type": "code",
   "execution_count": 13,
   "id": "9c07f36d",
   "metadata": {},
   "outputs": [],
   "source": [
    "X_sm = aki_data[['aniongap_max']]\n",
    "y_sm = aki_data[['delay_rrt']]"
   ]
  },
  {
   "cell_type": "code",
   "execution_count": 14,
   "id": "2bda020a",
   "metadata": {},
   "outputs": [
    {
     "data": {
      "text/plain": [
       "delay_rrt\n",
       "1            0.814961\n",
       "0            0.185039\n",
       "dtype: float64"
      ]
     },
     "execution_count": 14,
     "metadata": {},
     "output_type": "execute_result"
    }
   ],
   "source": [
    "# imbalanced \n",
    "y_sm.value_counts(normalize=True)"
   ]
  },
  {
   "cell_type": "code",
   "execution_count": 18,
   "id": "45bb4c38",
   "metadata": {},
   "outputs": [],
   "source": [
    "# split data\n",
    "Xsm_train, Xsm_test, ysm_train, ysm_test = train_test_split(X_sm, y_sm, test_size = 0.33, stratify =y)"
   ]
  },
  {
   "cell_type": "code",
   "execution_count": 19,
   "id": "42a2ffa8",
   "metadata": {},
   "outputs": [],
   "source": [
    "# scaling\n",
    "ss = StandardScaler()\n",
    "\n",
    "Xsm_train_sc = ss.fit_transform(Xsm_train)\n",
    "Xsm_test_sc = ss.transform(Xsm_test)"
   ]
  },
  {
   "cell_type": "code",
   "execution_count": 20,
   "id": "6a991425",
   "metadata": {},
   "outputs": [],
   "source": [
    "# create synthetic data for training set\n",
    "smote = SMOTE()"
   ]
  },
  {
   "cell_type": "code",
   "execution_count": 21,
   "id": "4d45268d",
   "metadata": {},
   "outputs": [],
   "source": [
    "# Xsmote_train, ysmote_train = smote.fit_sample(Xsm_train_sc, ysm_train)\n",
    "Xsmote_train, ysmote_train = smote.fit_resample(Xsm_train_sc, ysm_train)"
   ]
  },
  {
   "cell_type": "code",
   "execution_count": 22,
   "id": "c9823da7",
   "metadata": {},
   "outputs": [
    {
     "data": {
      "text/plain": [
       "<bound method SamplerMixin.fit of SMOTE()>"
      ]
     },
     "execution_count": 22,
     "metadata": {},
     "output_type": "execute_result"
    }
   ],
   "source": [
    "smote.fit"
   ]
  },
  {
   "cell_type": "code",
   "execution_count": 23,
   "id": "5ccc200e",
   "metadata": {},
   "outputs": [
    {
     "data": {
      "text/plain": [
       "delay_rrt\n",
       "0            971\n",
       "1            971\n",
       "dtype: int64"
      ]
     },
     "execution_count": 23,
     "metadata": {},
     "output_type": "execute_result"
    }
   ],
   "source": [
    "# balanced\n",
    "ysmote_train.value_counts()"
   ]
  },
  {
   "cell_type": "code",
   "execution_count": 25,
   "id": "7a2ad96d",
   "metadata": {},
   "outputs": [
    {
     "data": {
      "text/plain": [
       "(0.606076210092688, 0.6712095400340715)"
      ]
     },
     "execution_count": 25,
     "metadata": {},
     "output_type": "execute_result"
    }
   ],
   "source": [
    "# instantiate\n",
    "lr = LogisticRegression()\n",
    "\n",
    "# fit model\n",
    "lr.fit(Xsmote_train, ysmote_train)\n",
    "\n",
    "# score\n",
    "lr.score(Xsmote_train, ysmote_train), lr.score(Xsm_test_sc, ysm_test)"
   ]
  },
  {
   "cell_type": "markdown",
   "id": "048378b7",
   "metadata": {},
   "source": [
    "So the **baseline accuracy** is 0.606 (for train set), and 0.671 (for test set)"
   ]
  },
  {
   "cell_type": "markdown",
   "id": "45f70a5b",
   "metadata": {},
   "source": [
    "### Logistic regression (with SMOTE)"
   ]
  },
  {
   "cell_type": "code",
   "execution_count": 44,
   "id": "5d9f0d0a",
   "metadata": {},
   "outputs": [],
   "source": [
    "# using (most) entire dataset WITHOUT polynomic features\n",
    "X = aki_data.drop(columns=['delay_rrt'])\n",
    "y = aki_data[['delay_rrt']]"
   ]
  },
  {
   "cell_type": "code",
   "execution_count": 54,
   "id": "86c52b5d",
   "metadata": {},
   "outputs": [],
   "source": [
    "# split data\n",
    "X_train, X_test, y_train, y_test = train_test_split(X, y, test_size = 0.33, random_state = 42, stratify =y)"
   ]
  },
  {
   "cell_type": "code",
   "execution_count": 55,
   "id": "17726b50",
   "metadata": {},
   "outputs": [],
   "source": [
    "pipe = Pipeline([\n",
    "        ('scale', StandardScaler()),\n",
    "        ('sampling', SMOTE(sampling_strategy='minority')),\n",
    "        ('logreg', LogisticRegression(max_iter=1_000, solver='saga'))\n",
    "    ])\n"
   ]
  },
  {
   "cell_type": "code",
   "execution_count": 69,
   "id": "00705788",
   "metadata": {},
   "outputs": [],
   "source": [
    "# regardless of parameters, there is overfitting.\n",
    "pipe_params = {\n",
    "    'sampling__k_neighbors': [5, 10],   # \n",
    "    'logreg__penalty': ['l2', 'l1'],   # \n",
    "    'logreg__C': [1] # \n",
    "}"
   ]
  },
  {
   "cell_type": "code",
   "execution_count": 70,
   "id": "089fe216",
   "metadata": {},
   "outputs": [],
   "source": [
    "grid = GridSearchCV(pipe, pipe_params, scoring='roc_auc', n_jobs=-1)"
   ]
  },
  {
   "cell_type": "code",
   "execution_count": 71,
   "id": "8908dd73",
   "metadata": {},
   "outputs": [
    {
     "data": {
      "text/plain": [
       "GridSearchCV(estimator=Pipeline(steps=[('scale', StandardScaler()),\n",
       "                                       ('sampling',\n",
       "                                        SMOTE(sampling_strategy='minority')),\n",
       "                                       ('logreg',\n",
       "                                        LogisticRegression(max_iter=1000,\n",
       "                                                           solver='saga'))]),\n",
       "             n_jobs=-1,\n",
       "             param_grid={'logreg__C': [1], 'logreg__penalty': ['l2', 'l1'],\n",
       "                         'sampling__k_neighbors': [5, 10]},\n",
       "             scoring='roc_auc')"
      ]
     },
     "execution_count": 71,
     "metadata": {},
     "output_type": "execute_result"
    }
   ],
   "source": [
    "grid.fit(X_train, y_train)"
   ]
  },
  {
   "cell_type": "code",
   "execution_count": 72,
   "id": "2017e33b",
   "metadata": {},
   "outputs": [
    {
     "data": {
      "text/plain": [
       "{'logreg__C': 1, 'logreg__penalty': 'l2', 'sampling__k_neighbors': 5}"
      ]
     },
     "execution_count": 72,
     "metadata": {},
     "output_type": "execute_result"
    }
   ],
   "source": [
    "grid.best_params_"
   ]
  },
  {
   "cell_type": "code",
   "execution_count": 73,
   "id": "76b102a6",
   "metadata": {},
   "outputs": [
    {
     "data": {
      "text/plain": [
       "(0.8285553787098586, 0.7261141606848106)"
      ]
     },
     "execution_count": 73,
     "metadata": {},
     "output_type": "execute_result"
    }
   ],
   "source": [
    "grid.score(X_train, y_train), grid.score(X_test, y_test)"
   ]
  },
  {
   "cell_type": "markdown",
   "id": "7d482463",
   "metadata": {},
   "source": [
    "Accuracy for train set is 0.831, while test set is 0.725. So using all the features will lead to overfitting (train accuracy >> test accuracy)."
   ]
  },
  {
   "cell_type": "markdown",
   "id": "db5783ef",
   "metadata": {},
   "source": [
    "## Feature extraction"
   ]
  },
  {
   "cell_type": "markdown",
   "id": "a24581c4",
   "metadata": {},
   "source": [
    "For feature extraction, we will use PCA to identify and keep those potential important relationships, before performing the predictions/models. Due to the number of features (and high-dimensional manifold) in our dataset, PCA was utilised to perform an unsupervised dimensionality reduction on the training dataset. In such a way, PCA will provide the best linear approximations before modeling and prediction was performed ([source](https://arxiv.org/ftp/arxiv/papers/1403/1403.1949.pdf)). GridSearchCV is used to set the dimensionality of the PCA. "
   ]
  },
  {
   "cell_type": "code",
   "execution_count": 112,
   "id": "f432d16c",
   "metadata": {},
   "outputs": [
    {
     "data": {
      "text/plain": [
       "aniongap_max potassium_max       0.291583\n",
       "aniongap_max creatinine_max      0.290806\n",
       "aniongap_max mbp_mean            0.274197\n",
       "creatinine_max potassium_max     0.273823\n",
       "aniongap_max dbp_mean            0.262543\n",
       "aniongap_min potassium_max       0.260355\n",
       "calcium_max creatinine_max       0.259650\n",
       "hematocrit_max creatinine_max    0.259116\n",
       "aniongap_max sbp_mean            0.259088\n",
       "aniongap_min creatinine_max      0.258068\n",
       "hemoglobin_max creatinine_max    0.257905\n",
       "creatinine_max gcs_min           0.257502\n",
       "creatinine_max resp_rate_mean    0.256791\n",
       "aniongap_max^2                   0.255885\n",
       "aniongap_max                     0.254689\n",
       "aniongap_max calcium_max         0.254303\n",
       "aniongap_max spo2_mean           0.250221\n",
       "aniongap_max sodium_max          0.249964\n",
       "aniongap_max temperature_mean    0.249200\n",
       "aniongap_max gcs_min             0.248238\n",
       "dtype: float64"
      ]
     },
     "execution_count": 112,
     "metadata": {},
     "output_type": "execute_result"
    }
   ],
   "source": [
    "# including polynomial features\n",
    "abs(X_poly_corrs).sort_values(ascending=False).head(20)"
   ]
  },
  {
   "cell_type": "code",
   "execution_count": 75,
   "id": "d85eee40",
   "metadata": {},
   "outputs": [],
   "source": [
    "# Adding top abs 20 interaction features into dataset\n",
    "# aniongap_max^2 is not added, because little diff between aniongap_max (which is already in dataset)\n",
    "\n",
    "aki_data['aniongap_max*potassium_max'] = aki_data['aniongap_max'] * aki_data['potassium_max']\n",
    "aki_data['aniongap_max*creatinine_max'] = aki_data['aniongap_max'] * aki_data['creatinine_max']\n",
    "aki_data['aniongap_max*mbp_mean'] = aki_data['aniongap_max'] * aki_data['mbp_mean']\n",
    "aki_data['creatinine_max*potassium_max'] = aki_data['creatinine_max'] * aki_data['potassium_max']\n",
    "aki_data['aniongap_max*dbp_mean'] = aki_data['aniongap_max'] * aki_data['dbp_mean']\n",
    "aki_data['aniongap_min*potassium_max'] = aki_data['aniongap_min'] * aki_data['potassium_max']\n",
    "aki_data['calcium_max*creatinine_max'] = aki_data['calcium_max'] * aki_data['creatinine_max']\n",
    "aki_data['hematocrit_max*creatinine_max'] = aki_data['hematocrit_max'] * aki_data['creatinine_max']\n",
    "aki_data['aniongap_max*sbp_mean'] = aki_data['aniongap_max'] * aki_data['sbp_mean']\n",
    "aki_data['aniongap_min*creatinine_max'] = aki_data['aniongap_min'] * aki_data['creatinine_max']\n",
    "aki_data['hemoglobin_max*creatinine_max'] = aki_data['hemoglobin_max'] * aki_data['creatinine_max']\n",
    "aki_data['creatinine_max*gcs_min'] = aki_data['creatinine_max'] * aki_data['gcs_min']\n",
    "aki_data['creatinine_max*resp_rate_mean'] = aki_data['creatinine_max'] = aki_data['resp_rate_mean']\n",
    "aki_data['aniongap_max*calcium_max'] = aki_data['aniongap_max'] * aki_data['calcium_max']\n",
    "aki_data['aniongap_max*spo2_mean'] = aki_data['aniongap_max'] * aki_data['spo2_mean']\n",
    "aki_data['aniongap_max*sodium_max'] = aki_data['aniongap_max'] * aki_data['sodium_max']\n",
    "aki_data['aniongap_max*temperature_mean'] = aki_data['aniongap_max'] * aki_data['temperature_mean']\n",
    "aki_data['aniongap_max*gcs_min'] = aki_data['aniongap_max'] * aki_data['gcs_min']\n",
    "# aki_data['chloride_min*temperature_mean'] = aki_data['chloride_min'] * aki_data['temperature_min']\n",
    "# aki_data['bicarbonate_min*chloride_max'] = aki_data['bicarbonate_min'] * aki_data['chloride_max']"
   ]
  },
  {
   "cell_type": "code",
   "execution_count": 76,
   "id": "7772021f",
   "metadata": {},
   "outputs": [],
   "source": [
    "X = aki_data.drop(columns=['delay_rrt'])\n",
    "y = aki_data[['delay_rrt']]"
   ]
  },
  {
   "cell_type": "code",
   "execution_count": 77,
   "id": "83ce0560",
   "metadata": {},
   "outputs": [
    {
     "data": {
      "text/plain": [
       "(1778, 60)"
      ]
     },
     "execution_count": 77,
     "metadata": {},
     "output_type": "execute_result"
    }
   ],
   "source": [
    "# 42 + 18 = 60\n",
    "X.shape "
   ]
  },
  {
   "cell_type": "code",
   "execution_count": 84,
   "id": "58175164",
   "metadata": {},
   "outputs": [],
   "source": [
    "# split\n",
    "X_train, X_test, y_train, y_test = train_test_split(X, y, test_size=0.33, random_state=42, stratify=y)"
   ]
  },
  {
   "cell_type": "code",
   "execution_count": 86,
   "id": "9d78a1c2",
   "metadata": {},
   "outputs": [],
   "source": [
    "# scaling\n",
    "ss_pca = StandardScaler()\n",
    "\n",
    "X_train_sc = ss_pca.fit_transform(X_train)\n",
    "X_test_sc = ss_pca.transform(X_test)"
   ]
  },
  {
   "cell_type": "code",
   "execution_count": 113,
   "id": "47acbe83",
   "metadata": {},
   "outputs": [
    {
     "data": {
      "text/plain": [
       "PCA(n_components=60)"
      ]
     },
     "execution_count": 113,
     "metadata": {},
     "output_type": "execute_result"
    }
   ],
   "source": [
    "# Instantiate PCA.\n",
    "# up to n_components were tested\n",
    "pca = PCA(n_components = 60)\n",
    "\n",
    "# Fit PCA on the training data.\n",
    "pca.fit(X_train_sc)"
   ]
  },
  {
   "cell_type": "markdown",
   "id": "b2486ce4",
   "metadata": {},
   "source": [
    "In the below pipeline, PCA will perform unsupervised dimensionality reduction on the training data before upsampling it. This is so that upsampling will only be performed on the reduced dimensional manifold and not on the entire dataset. The models for the prediction will be done last. In the below pipeline, the logistic regression model was utilised. "
   ]
  },
  {
   "cell_type": "code",
   "execution_count": 114,
   "id": "2abafb32",
   "metadata": {},
   "outputs": [],
   "source": [
    "pipe = Pipeline([\n",
    "        ('scale', StandardScaler()),\n",
    "        ('pca', PCA()),\n",
    "        ('sampling', SMOTE(sampling_strategy='minority')),\n",
    "        ('logreg', LogisticRegression(max_iter=1_000, solver='saga'))\n",
    "    ])"
   ]
  },
  {
   "cell_type": "code",
   "execution_count": 115,
   "id": "0e771074",
   "metadata": {},
   "outputs": [],
   "source": [
    "pipe_params = {\n",
    "    'pca__n_components': [5,10,15,20,25,30,35,40,45,50,55,60],  \n",
    "} "
   ]
  },
  {
   "cell_type": "code",
   "execution_count": 116,
   "id": "0ea23d28",
   "metadata": {},
   "outputs": [],
   "source": [
    "grid = GridSearchCV(pipe, pipe_params, scoring='roc_auc', n_jobs=-1)"
   ]
  },
  {
   "cell_type": "code",
   "execution_count": 117,
   "id": "ec7184e1",
   "metadata": {},
   "outputs": [
    {
     "data": {
      "text/plain": [
       "GridSearchCV(estimator=Pipeline(steps=[('scale', StandardScaler()),\n",
       "                                       ('pca', PCA()),\n",
       "                                       ('sampling',\n",
       "                                        SMOTE(sampling_strategy='minority')),\n",
       "                                       ('logreg',\n",
       "                                        LogisticRegression(max_iter=1000,\n",
       "                                                           solver='saga'))]),\n",
       "             n_jobs=-1,\n",
       "             param_grid={'pca__n_components': [5, 10, 15, 20, 25, 30, 35, 40,\n",
       "                                               45, 50, 55, 60]},\n",
       "             scoring='roc_auc')"
      ]
     },
     "execution_count": 117,
     "metadata": {},
     "output_type": "execute_result"
    }
   ],
   "source": [
    "grid.fit(X_train, y_train)"
   ]
  },
  {
   "cell_type": "code",
   "execution_count": 118,
   "id": "58c8c848",
   "metadata": {},
   "outputs": [
    {
     "data": {
      "image/png": "[encoded data removed]",
      "text/plain": [
       "<Figure size 432x432 with 2 Axes>"
      ]
     },
     "metadata": {
      "needs_background": "light"
     },
     "output_type": "display_data"
    }
   ],
   "source": [
    "# https://scikit-learn.org/stable/auto_examples/compose/plot_digits_pipe.html#sphx-glr-auto-examples-compose-plot-digits-pipe-py\n",
    "# Plot search for best combination of PCA n_components and logistic regression accuracy\n",
    "# pca.fit(X_train_sc)\n",
    "fig, (ax0, ax1) = plt.subplots(nrows=2, sharex=True, figsize=(6, 6))\n",
    "ax0.plot(np.arange(1, pca.n_components_ + 1),\n",
    "         pca.explained_variance_ratio_.cumsum(), '+', linewidth=10)\n",
    "ax0.set_ylabel('Cumulative PCA explained variance ratio')\n",
    "\n",
    "results = pd.DataFrame(grid.cv_results_)\n",
    "components_col = 'param_pca__n_components'\n",
    "best_clfs = results.groupby(components_col).apply(\n",
    "    lambda g: g.nlargest(1, 'mean_test_score'))\n",
    "\n",
    "best_clfs.plot(x=components_col, y='mean_test_score', yerr='std_test_score',\n",
    "               legend=False, ax=ax1)\n",
    "ax1.set_ylabel('Classification accuracy (val)')\n",
    "ax1.set_xlabel('n_components');\n",
    "plt.suptitle('Dimensional reduction based on PCA n_components');"
   ]
  },
  {
   "cell_type": "code",
   "execution_count": 197,
   "id": "35dac447",
   "metadata": {},
   "outputs": [
    {
     "name": "stdout",
     "output_type": "stream",
     "text": [
      "Cumulative explained variance (for n_components=30): 0.9833514870322004\n"
     ]
    }
   ],
   "source": [
    "print(f'Cumulative explained variance (for n_components=30): {pca.explained_variance_ratio_.cumsum()[30]}')"
   ]
  },
  {
   "cell_type": "code",
   "execution_count": 187,
   "id": "500d1f7d",
   "metadata": {},
   "outputs": [
    {
     "data": {
      "text/plain": [
       "{'pca__n_components': 50}"
      ]
     },
     "execution_count": 187,
     "metadata": {},
     "output_type": "execute_result"
    }
   ],
   "source": [
    "grid.best_params_"
   ]
  },
  {
   "cell_type": "code",
   "execution_count": 188,
   "id": "d4966550",
   "metadata": {},
   "outputs": [
    {
     "data": {
      "text/plain": [
       "(0.8294307649096526, 0.7255767532916203)"
      ]
     },
     "execution_count": 188,
     "metadata": {},
     "output_type": "execute_result"
    }
   ],
   "source": [
    "grid.score(X_train, y_train), grid.score(X_test, y_test)"
   ]
  },
  {
   "cell_type": "markdown",
   "id": "ccc190ed",
   "metadata": {},
   "source": [
    "GridSearchCV chose n_components=50, however, there was overfitting at n_components=50. Since PCA utilises n_components, the decision is to use n_components=30, to minimise overfitting, and we would retain approximately 98% of the variability in the data.\n",
    "<br>\n",
    "<br> The curse is after the dataset is PCA-transformed, there is no correlation between any features. In addition, the new principal components are not interpretable. So, to dig into the feature importance, one will have to convert the PCA-transformed data back to the original features."
   ]
  },
  {
   "cell_type": "markdown",
   "id": "d5a03736",
   "metadata": {},
   "source": [
    "### Models"
   ]
  },
  {
   "cell_type": "code",
   "execution_count": 122,
   "id": "be5db8ef",
   "metadata": {},
   "outputs": [],
   "source": [
    "# Instantiate models\n",
    "models = {'lr': LogisticRegression(max_iter=1000, solver='saga'),\n",
    "        'dt': DecisionTreeClassifier(),\n",
    "        'rf': RandomForestClassifier(),\n",
    "        'et': ExtraTreesClassifier(),\n",
    "        'svc': SVC(probability=True),\n",
    "        } "
   ]
  },
  {
   "cell_type": "code",
   "execution_count": 194,
   "id": "6c69232e",
   "metadata": {},
   "outputs": [],
   "source": [
    "def run_models(model, model_params):\n",
    "    pipe = Pipeline([\n",
    "            ('scale', StandardScaler()),\n",
    "            ('pca', PCA(n_components = 30)),\n",
    "            ('sampling', SMOTE(sampling_strategy = 'minority')),\n",
    "            (model, models[model])\n",
    "            ])\n",
    "    \n",
    "    grid = GridSearchCV(pipe, param_grid=model_params, cv=3, scoring='roc_auc', n_jobs=-1)\n",
    "    grid.fit(X_train, y_train)\n",
    "\n",
    "    # metrics\n",
    "    train_score = grid.score(X_train, y_train)\n",
    "    test_score = grid.score(X_test, y_test)\n",
    "    preds = grid.predict(X_test)\n",
    "    tn, fp, fn, tp = confusion_matrix(y_test, preds).ravel()\n",
    "  \n",
    "    # View confusion matrix\n",
    "    plot_confusion_matrix(grid, X_test, y_test, cmap='Blues', values_format='d');\n",
    "    \n",
    "    # Calculate the sensitivity/ recall\n",
    "    sens = tp / (tp + fn)\n",
    "    \n",
    "    # Calculate the specificity\n",
    "    spec = tn / (tn + fp) \n",
    "    \n",
    "    # print results\n",
    "    print(f'Best params: {grid.best_params_}')\n",
    "    print(f'Training score: {round(train_score, 4)}')\n",
    "    print(f'Test score: {round(test_score, 4)}')\n",
    "    print(f'Recall: {round(sens, 4)}')\n",
    "    print(f'Specificity: {round(spec, 4)}')\n",
    "    return grid"
   ]
  },
  {
   "cell_type": "markdown",
   "id": "ce5774a3",
   "metadata": {},
   "source": [
    "**Logistic Regression**"
   ]
  },
  {
   "cell_type": "code",
   "execution_count": 198,
   "id": "2bf6b68b",
   "metadata": {},
   "outputs": [
    {
     "name": "stdout",
     "output_type": "stream",
     "text": [
      "Best params: {'lr__C': 10, 'lr__penalty': 'l1', 'sampling__k_neighbors': 10}\n",
      "Training score: 0.7949\n",
      "Test score: 0.7312\n",
      "Recall: 0.7427\n",
      "Specificity: 0.5688\n"
     ]
    },
    {
     "data": {
      "image/png": "[encoded data removed]",
      "text/plain": [
       "<Figure size 432x288 with 2 Axes>"
      ]
     },
     "metadata": {
      "needs_background": "light"
     },
     "output_type": "display_data"
    }
   ],
   "source": [
    "# logistic regression\n",
    "grid_params = {\n",
    "    'sampling__k_neighbors': [10,15,20],  \n",
    "    'lr__penalty': ['l1', 'l2',  'elasticnet'],   \n",
    "    'lr__C': [0.1, 1, 10]  \n",
    "} \n",
    "\n",
    "# best_params = {\n",
    "#     'sampling__k_neighbors': [200],  \n",
    "#     'lr__penalty': ['l1'],   \n",
    "#     'lr__C': [1]  \n",
    "# }\n",
    "\n",
    "lr = run_models('lr', grid_params)"
   ]
  },
  {
   "cell_type": "markdown",
   "id": "a5b83b31",
   "metadata": {},
   "source": [
    "**Decision Tree Classifier**"
   ]
  },
  {
   "cell_type": "code",
   "execution_count": 199,
   "id": "b176fc90",
   "metadata": {},
   "outputs": [
    {
     "name": "stdout",
     "output_type": "stream",
     "text": [
      "Best params: {'dt__max_depth': 70, 'dt__min_samples_leaf': 80, 'dt__min_samples_split': 80, 'sampling__k_neighbors': 60}\n",
      "Training score: 0.7932\n",
      "Test score: 0.6668\n",
      "Recall: 0.682\n",
      "Specificity: 0.5596\n"
     ]
    },
    {
     "data": {
      "image/png": "[encoded data removed]",
      "text/plain": [
       "<Figure size 432x288 with 2 Axes>"
      ]
     },
     "metadata": {
      "needs_background": "light"
     },
     "output_type": "display_data"
    }
   ],
   "source": [
    "# decision tree classifier\n",
    "grid_params = {\n",
    "    'sampling__k_neighbors': [40, 50, 60],  \n",
    "    'dt__max_depth': [70, 80, 90],\n",
    "    'dt__min_samples_split': [70, 80, 90],\n",
    "    'dt__min_samples_leaf': [70, 80, 90],\n",
    "} \n",
    "\n",
    "# best_params = {\n",
    "#     'sampling__k_neighbors': [50],  \n",
    "#     'dt__max_depth': [80],\n",
    "#     'dt__min_samples_split': [80],\n",
    "#     'dt__min_samples_leaf': [80],\n",
    "# } \n",
    "\n",
    "dt = run_models('dt', grid_params)"
   ]
  },
  {
   "cell_type": "markdown",
   "id": "81c8a494",
   "metadata": {},
   "source": [
    "**Random forest classifier**"
   ]
  },
  {
   "cell_type": "code",
   "execution_count": 212,
   "id": "465e3885",
   "metadata": {},
   "outputs": [
    {
     "name": "stdout",
     "output_type": "stream",
     "text": [
      "Best params: {'rf__max_depth': 10, 'rf__min_samples_leaf': 50, 'rf__min_samples_split': 20, 'rf__n_estimators': 20, 'sampling__k_neighbors': 30}\n",
      "Training score: 0.8389\n",
      "Test score: 0.7013\n",
      "Recall: 0.7029\n",
      "Specificity: 0.5413\n"
     ]
    },
    {
     "data": {
      "image/png": "[encoded data removed]",
      "text/plain": [
       "<Figure size 432x288 with 2 Axes>"
      ]
     },
     "metadata": {
      "needs_background": "light"
     },
     "output_type": "display_data"
    }
   ],
   "source": [
    "# random forest classifier\n",
    "# grid_params = {\n",
    "#     'sampling__k_neighbors': [70, 80, 90],\n",
    "#     'rf__n_estimators': [70, 80, 90],\n",
    "#     'rf__max_depth': [50, 80, 90],\n",
    "#     'rf__min_samples_split': [70, 80, 90],\n",
    "#     'rf__min_samples_leaf': [70, 80, 90],\n",
    "# } \n",
    "\n",
    "best_params = {\n",
    "    'sampling__k_neighbors': [30], \n",
    "    'rf__n_estimators': [20],\n",
    "    'rf__max_depth': [10],\n",
    "    'rf__min_samples_split': [20],\n",
    "    'rf__min_samples_leaf': [50],\n",
    "} \n",
    "\n",
    "rf = run_models('rf', best_params)\n"
   ]
  },
  {
   "cell_type": "markdown",
   "id": "7c68e776",
   "metadata": {},
   "source": [
    "**Extra trees classifier**"
   ]
  },
  {
   "cell_type": "code",
   "execution_count": 213,
   "id": "b895409e",
   "metadata": {},
   "outputs": [
    {
     "name": "stdout",
     "output_type": "stream",
     "text": [
      "Best params: {'et__max_depth': 6, 'et__min_samples_leaf': 15, 'et__min_samples_split': 10, 'et__n_estimators': 30, 'sampling__k_neighbors': 20}\n",
      "Training score: 0.8382\n",
      "Test score: 0.7104\n",
      "Recall: 0.7364\n",
      "Specificity: 0.5505\n"
     ]
    },
    {
     "data": {
      "image/png": "[encoded data removed]",
      "text/plain": [
       "<Figure size 432x288 with 2 Axes>"
      ]
     },
     "metadata": {
      "needs_background": "light"
     },
     "output_type": "display_data"
    }
   ],
   "source": [
    "# extra trees classifier\n",
    "grid_params = {\n",
    "    'sampling__k_neighbors': [15, 20, 25],\n",
    "    'et__n_estimators': [30, 35],\n",
    "    'et__max_depth': [4, 5, 6],\n",
    "    'et__min_samples_split': [10, 15],\n",
    "    'et__min_samples_leaf': [10, 15],\n",
    "} \n",
    "\n",
    "# best_params = {\n",
    "#     'sampling__k_neighbors': [20],\n",
    "#     'et__n_estimators': [30],  \n",
    "#     'et__max_depth': [4],  \n",
    "#     'et__min_samples_split': [15],\n",
    "#     'et__min_samples_leaf': [10],\n",
    "# }\n",
    "\n",
    "et = run_models('et', grid_params)"
   ]
  },
  {
   "cell_type": "markdown",
   "id": "f4554d0b",
   "metadata": {},
   "source": [
    "**Feature importance**"
   ]
  },
  {
   "cell_type": "code",
   "execution_count": 239,
   "id": "a346a8a2",
   "metadata": {},
   "outputs": [
    {
     "data": {
      "image/png": "[encoded data removed]",
      "text/plain": [
       "<Figure size 1440x1080 with 1 Axes>"
      ]
     },
     "metadata": {
      "needs_background": "light"
     },
     "output_type": "display_data"
    }
   ],
   "source": [
    "# https://stackoverflow.com/questions/50796024/feature-variable-importance-after-a-pca-analysis\n",
    "# PCA-transform data back to orignal features\n",
    "num_plot = 30\n",
    "\n",
    "pipe = Pipeline([\n",
    "            ('scale', StandardScaler()),\n",
    "            ('pca', PCA(n_components = num_plot)),\n",
    "            ('sampling', SMOTE(sampling_strategy='minority', k_neighbors=20)),\n",
    "            ('rf', ExtraTreesClassifier(n_estimators=30, max_depth=6, min_samples_split = 10, min_samples_leaf = 15)),\n",
    "            ])\n",
    "\n",
    "pipe.fit(X_train, y_train)\n",
    "\n",
    "model = pipe.steps[1][1]\n",
    "n_pcs = model.components_.shape[0]\n",
    "\n",
    "# get index for more important feature from each n_component\n",
    "feature_names = X_train.columns\n",
    "most_important = [np.abs(model.components_[i]).argmax() for i in range(n_pcs)]\n",
    "most_important_names = [feature_names[most_important[i]] for i in range(n_pcs)]\n",
    "\n",
    "# combine for plotting later\n",
    "zipped_feats = zip(most_important_names, pipe.steps[3][1].feature_importances_)\n",
    "zipped_feats = sorted(zipped_feats, key=lambda x: x[1], reverse=True)\n",
    "features, importances = zip(*zipped_feats)\n",
    "\n",
    "# n_components = 30\n",
    "top_features = features[:num_plot]\n",
    "top_importances = importances[:num_plot]\n",
    "plt.figure(figsize=(20,15))\n",
    "plt.barh(range(len(top_importances)), top_importances, align='center')\n",
    "plt.yticks(range(len(top_importances)), top_features)\n",
    "plt.title('Feature Importances',fontsize=20)\n",
    "plt.xlabel('Gini Importance',fontsize=15)\n",
    "plt.show() "
   ]
  },
  {
   "cell_type": "markdown",
   "id": "e75c6ea8",
   "metadata": {},
   "source": [
    "**Support Vector Classification**"
   ]
  },
  {
   "cell_type": "code",
   "execution_count": 215,
   "id": "a1dd574e",
   "metadata": {},
   "outputs": [
    {
     "name": "stdout",
     "output_type": "stream",
     "text": [
      "Best params: {'sampling__k_neighbors': 30, 'svc__C': 10, 'svc__gamma': 'auto', 'svc__kernel': 'linear'}\n",
      "Training score: 0.7957\n",
      "Test score: 0.7367\n",
      "Recall: 0.7155\n",
      "Specificity: 0.6055\n"
     ]
    },
    {
     "data": {
      "image/png": "[encoded data removed]",
      "text/plain": [
       "<Figure size 432x288 with 2 Axes>"
      ]
     },
     "metadata": {
      "needs_background": "light"
     },
     "output_type": "display_data"
    }
   ],
   "source": [
    "# Support Vector Classification\n",
    "grid_params = {\n",
    "    'sampling__k_neighbors': [25, 30],     \n",
    "    'svc__kernel': ['linear', 'sigmoid'],   \n",
    "    'svc__gamma' : ['scale', 'auto'], \n",
    "    'svc__C': [1 ,5 ,10] \n",
    "} \n",
    "\n",
    "# best_params = {\n",
    "#     'sampling__k_neighbors': [25],     \n",
    "#     'svc__kernel': ['linear'],    \n",
    "#     'svc__gamma' : ['scale'],\n",
    "#     'svc__C': [1] \n",
    "# } \n",
    "\n",
    "svc = run_models('svc',  grid_params)"
   ]
  },
  {
   "cell_type": "markdown",
   "id": "1580e6ca",
   "metadata": {},
   "source": [
    "**Feature importance**"
   ]
  },
  {
   "cell_type": "code",
   "execution_count": 236,
   "id": "dca23a1b",
   "metadata": {},
   "outputs": [
    {
     "name": "stdout",
     "output_type": "stream",
     "text": [
      "('aniongap_max*mbp_mean',)\n",
      "(array([-0.25505628, -0.07547806, -0.14412705,  0.01565549, -0.06596637,\n",
      "       -0.24364612,  0.02694867,  0.02815358,  0.15201281, -0.19879201,\n",
      "        0.20427593, -0.13499847,  0.02397877, -0.06365191, -0.0347422 ,\n",
      "       -0.62596401,  0.12368254, -0.14825867, -0.06594491, -0.03963345,\n",
      "        0.14276402,  0.28454294,  0.17123582, -0.119109  , -0.22033954,\n",
      "        0.06128376, -0.20386534, -0.19096752, -0.22171608, -0.58128076]),)\n"
     ]
    }
   ],
   "source": [
    "# https://stackoverflow.com/questions/50796024/feature-variable-importance-after-a-pca-analysis\n",
    "# PCA-transform data back to orignal features\n",
    "num_plot = 30\n",
    "\n",
    "pipe = Pipeline([\n",
    "            ('scale', StandardScaler()),\n",
    "            ('pca', PCA(n_components = num_plot)),\n",
    "            ('sampling', SMOTE(sampling_strategy='minority',k_neighbors =30)),\n",
    "            ('svc', SVC(C=10, gamma='auto', kernel='linear',probability=True)),\n",
    "            ])\n",
    "\n",
    "pipe.fit(X_train, y_train)\n",
    "\n",
    "model = pipe.steps[1][1]\n",
    "n_pcs = model.components_.shape[0]\n",
    "\n",
    "# get index for more important feature from each n_component\n",
    "feature_names = X_train.columns\n",
    "most_important = [np.abs(model.components_[i]).argmax() for i in range(n_pcs)]\n",
    "most_important_names = [feature_names[most_important[i]] for i in range(n_pcs)]\n",
    "\n",
    "# combine for plotting later\n",
    "zipped_feats = zip(most_important_names, pipe.steps[3][1].coef_)\n",
    "zipped_feats = sorted(zipped_feats, key=lambda x: x[1], reverse=True)\n",
    "features, importances = zip(*zipped_feats)\n",
    "\n",
    "# n_components = 30\n",
    "top_features = features[:num_plot]\n",
    "top_importances = importances[:num_plot]\n",
    "print(top_features)\n",
    "print(top_importances)\n",
    "# plt.figure(figsize=(10,7))\n",
    "# plt.barh(range(len(top_importances)), top_importances, align='center')\n",
    "# plt.yticks(range(len(top_importances)), top_features)\n",
    "# plt.title('Feature Importances')\n",
    "# plt.xlabel('Coefficients')\n",
    "# plt.show() "
   ]
  },
  {
   "cell_type": "code",
   "execution_count": null,
   "id": "0d352f30",
   "metadata": {},
   "outputs": [],
   "source": []
  },
  {
   "cell_type": "code",
   "execution_count": null,
   "id": "392149eb",
   "metadata": {},
   "outputs": [],
   "source": []
  },
  {
   "cell_type": "markdown",
   "id": "488ecd19",
   "metadata": {},
   "source": [
    "## Plot ROC-AUC "
   ]
  },
  {
   "cell_type": "code",
   "execution_count": 232,
   "id": "8c319502",
   "metadata": {},
   "outputs": [],
   "source": [
    "def plot_all_auc(models):\n",
    "    fig, ax = plt.subplots(figsize=(10,10))\n",
    "    axes = {}\n",
    "    for i, m in enumerate(models.keys()):\n",
    "        axes[f'ax{i}'] = plot_roc_curve(m, X_test, y_test, ax=ax, name=models[m])\n",
    "        \n",
    "    plt.plot([0, 1], [0, 1], color='k', linestyle='--')\n",
    "    plt.title('ROC-AUC curve',fontsize=20)\n",
    "    plt.xlabel('False Positive Rate (FPR)',fontsize=16)\n",
    "    plt.ylabel('True Positive Rate (TPR)',fontsize=16)\n",
    "    plt.legend()"
   ]
  },
  {
   "cell_type": "code",
   "execution_count": 233,
   "id": "349a715e",
   "metadata": {},
   "outputs": [
    {
     "data": {
      "image/png": "[encoded data removed]",
      "text/plain": [
       "<Figure size 720x720 with 1 Axes>"
      ]
     },
     "metadata": {
      "needs_background": "light"
     },
     "output_type": "display_data"
    }
   ],
   "source": [
    "models_built = {\n",
    "    lr : 'LogisticRegression', \n",
    "    dt : 'DecisionTreeClassifier',\n",
    "    rf : 'RandomForestClassifier',\n",
    "    et : 'ExtraTreesClassifier',\n",
    "    svc : 'SVC',\n",
    "} \n",
    "\n",
    "plot_all_auc(models_built)"
   ]
  },
  {
   "cell_type": "code",
   "execution_count": null,
   "id": "8ef706c6",
   "metadata": {},
   "outputs": [],
   "source": []
  }
 ],
 "metadata": {
  "kernelspec": {
   "display_name": "Python 3",
   "language": "python",
   "name": "python3"
  },
  "language_info": {
   "codemirror_mode": {
    "name": "ipython",
    "version": 3
   },
   "file_extension": ".py",
   "mimetype": "text/x-python",
   "name": "python",
   "nbconvert_exporter": "python",
   "pygments_lexer": "ipython3",
   "version": "3.8.8"
  },
  "toc": {
   "base_numbering": 1,
   "nav_menu": {},
   "number_sections": true,
   "sideBar": true,
   "skip_h1_title": false,
   "title_cell": "Table of Contents",
   "title_sidebar": "Contents",
   "toc_cell": false,
   "toc_position": {
    "height": "calc(100% - 180px)",
    "left": "10px",
    "top": "150px",
    "width": "384px"
   },
   "toc_section_display": true,
   "toc_window_display": true
  }
 },
 "nbformat": 4,
 "nbformat_minor": 5
}
